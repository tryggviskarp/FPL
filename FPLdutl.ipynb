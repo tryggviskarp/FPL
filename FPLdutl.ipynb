{
 "cells": [
  {
   "cell_type": "code",
   "execution_count": 1,
   "metadata": {},
   "outputs": [],
   "source": [
    "import requests\n",
    "import pandas as pd\n",
    "import numpy as np"
   ]
  },
  {
   "cell_type": "markdown",
   "metadata": {},
   "source": [
    "# Season Numbers"
   ]
  },
  {
   "cell_type": "code",
   "execution_count": 2,
   "metadata": {},
   "outputs": [
    {
     "output_type": "execute_result",
     "data": {
      "text/plain": [
       "dict_keys(['events', 'game_settings', 'phases', 'teams', 'total_players', 'elements', 'element_stats', 'element_types'])"
      ]
     },
     "metadata": {},
     "execution_count": 2
    }
   ],
   "source": [
    "url = 'https://fantasy.premierleague.com/api/bootstrap-static/'\n",
    "r = requests.get(url)\n",
    "json = r.json()\n",
    "json.keys()"
   ]
  },
  {
   "cell_type": "code",
   "execution_count": 3,
   "metadata": {},
   "outputs": [],
   "source": [
    "#move data from jsons files to pandas Dataframes. \n",
    "elements_df = pd.DataFrame(json['elements']) #Player stats\n",
    "elements_types_df = pd.DataFrame(json['element_types']) #player descs\n",
    "teams_df = pd.DataFrame(json['teams']) #team descs"
   ]
  },
  {
   "cell_type": "code",
   "execution_count": 4,
   "metadata": {},
   "outputs": [
    {
     "output_type": "execute_result",
     "data": {
      "text/plain": [
       "Index(['chance_of_playing_next_round', 'chance_of_playing_this_round', 'code',\n",
       "       'cost_change_event', 'cost_change_event_fall', 'cost_change_start',\n",
       "       'cost_change_start_fall', 'dreamteam_count', 'element_type', 'ep_next',\n",
       "       'ep_this', 'event_points', 'first_name', 'form', 'id', 'in_dreamteam',\n",
       "       'news', 'news_added', 'now_cost', 'photo', 'points_per_game',\n",
       "       'second_name', 'selected_by_percent', 'special', 'squad_number',\n",
       "       'status', 'team', 'team_code', 'total_points', 'transfers_in',\n",
       "       'transfers_in_event', 'transfers_out', 'transfers_out_event',\n",
       "       'value_form', 'value_season', 'web_name', 'minutes', 'goals_scored',\n",
       "       'assists', 'clean_sheets', 'goals_conceded', 'own_goals',\n",
       "       'penalties_saved', 'penalties_missed', 'yellow_cards', 'red_cards',\n",
       "       'saves', 'bonus', 'bps', 'influence', 'creativity', 'threat',\n",
       "       'ict_index', 'influence_rank', 'influence_rank_type', 'creativity_rank',\n",
       "       'creativity_rank_type', 'threat_rank', 'threat_rank_type',\n",
       "       'ict_index_rank', 'ict_index_rank_type',\n",
       "       'corners_and_indirect_freekicks_order',\n",
       "       'corners_and_indirect_freekicks_text', 'direct_freekicks_order',\n",
       "       'direct_freekicks_text', 'penalties_order', 'penalties_text'],\n",
       "      dtype='object')"
      ]
     },
     "metadata": {},
     "execution_count": 4
    }
   ],
   "source": [
    "#check what variables are available\n",
    "elements_df.columns"
   ]
  },
  {
   "cell_type": "code",
   "execution_count": 5,
   "metadata": {},
   "outputs": [
    {
     "output_type": "execute_result",
     "data": {
      "text/plain": [
       "     web_name team selected_by_percent  now_cost  minutes  goals_scored  \\\n",
       "0        Özil  ARS                 0.5        67        0             0   \n",
       "1    Sokratis  ARS                 0.1        48        0             0   \n",
       "2  David Luiz  ARS                 0.8        54      839             0   \n",
       "3  Aubameyang  ARS                 6.5       113     1514             5   \n",
       "4      Cédric  ARS                 0.2        46      275             0   \n",
       "\n",
       "   assists  bps  clean_sheets  transfers_in  transfers_out  \\\n",
       "0        0    0             0          3441          53842   \n",
       "1        0    0             0         10266          18976   \n",
       "2        0  143             3         47289          94595   \n",
       "3        1  202             7        561597        3256923   \n",
       "4        1   71             2         11924          37058   \n",
       "\n",
       "   transfers_in_event  transfers_out_event  form  total_points  \\\n",
       "0                   0                   68   0.0             0   \n",
       "1                   0                    8   0.0             0   \n",
       "2                2736                  497   3.8            28   \n",
       "3                 570                 8296   4.2            71   \n",
       "4                2937                  356   3.8            20   \n",
       "\n",
       "   direct_freekicks_order  penalties_order position  ptPerMil  formPerMil  \n",
       "0                     NaN              NaN      MID       0.0         0.0  \n",
       "1                     NaN              NaN      DEF       0.0         0.0  \n",
       "2                     4.0              NaN      DEF       5.2         0.7  \n",
       "3                     NaN              1.0      MID       6.3         0.4  \n",
       "4                     NaN              NaN      DEF       4.3         0.8  "
      ],
      "text/html": "<div>\n<style scoped>\n    .dataframe tbody tr th:only-of-type {\n        vertical-align: middle;\n    }\n\n    .dataframe tbody tr th {\n        vertical-align: top;\n    }\n\n    .dataframe thead th {\n        text-align: right;\n    }\n</style>\n<table border=\"1\" class=\"dataframe\">\n  <thead>\n    <tr style=\"text-align: right;\">\n      <th></th>\n      <th>web_name</th>\n      <th>team</th>\n      <th>selected_by_percent</th>\n      <th>now_cost</th>\n      <th>minutes</th>\n      <th>goals_scored</th>\n      <th>assists</th>\n      <th>bps</th>\n      <th>clean_sheets</th>\n      <th>transfers_in</th>\n      <th>transfers_out</th>\n      <th>transfers_in_event</th>\n      <th>transfers_out_event</th>\n      <th>form</th>\n      <th>total_points</th>\n      <th>direct_freekicks_order</th>\n      <th>penalties_order</th>\n      <th>position</th>\n      <th>ptPerMil</th>\n      <th>formPerMil</th>\n    </tr>\n  </thead>\n  <tbody>\n    <tr>\n      <td>0</td>\n      <td>Özil</td>\n      <td>ARS</td>\n      <td>0.5</td>\n      <td>67</td>\n      <td>0</td>\n      <td>0</td>\n      <td>0</td>\n      <td>0</td>\n      <td>0</td>\n      <td>3441</td>\n      <td>53842</td>\n      <td>0</td>\n      <td>68</td>\n      <td>0.0</td>\n      <td>0</td>\n      <td>NaN</td>\n      <td>NaN</td>\n      <td>MID</td>\n      <td>0.0</td>\n      <td>0.0</td>\n    </tr>\n    <tr>\n      <td>1</td>\n      <td>Sokratis</td>\n      <td>ARS</td>\n      <td>0.1</td>\n      <td>48</td>\n      <td>0</td>\n      <td>0</td>\n      <td>0</td>\n      <td>0</td>\n      <td>0</td>\n      <td>10266</td>\n      <td>18976</td>\n      <td>0</td>\n      <td>8</td>\n      <td>0.0</td>\n      <td>0</td>\n      <td>NaN</td>\n      <td>NaN</td>\n      <td>DEF</td>\n      <td>0.0</td>\n      <td>0.0</td>\n    </tr>\n    <tr>\n      <td>2</td>\n      <td>David Luiz</td>\n      <td>ARS</td>\n      <td>0.8</td>\n      <td>54</td>\n      <td>839</td>\n      <td>0</td>\n      <td>0</td>\n      <td>143</td>\n      <td>3</td>\n      <td>47289</td>\n      <td>94595</td>\n      <td>2736</td>\n      <td>497</td>\n      <td>3.8</td>\n      <td>28</td>\n      <td>4.0</td>\n      <td>NaN</td>\n      <td>DEF</td>\n      <td>5.2</td>\n      <td>0.7</td>\n    </tr>\n    <tr>\n      <td>3</td>\n      <td>Aubameyang</td>\n      <td>ARS</td>\n      <td>6.5</td>\n      <td>113</td>\n      <td>1514</td>\n      <td>5</td>\n      <td>1</td>\n      <td>202</td>\n      <td>7</td>\n      <td>561597</td>\n      <td>3256923</td>\n      <td>570</td>\n      <td>8296</td>\n      <td>4.2</td>\n      <td>71</td>\n      <td>NaN</td>\n      <td>1.0</td>\n      <td>MID</td>\n      <td>6.3</td>\n      <td>0.4</td>\n    </tr>\n    <tr>\n      <td>4</td>\n      <td>Cédric</td>\n      <td>ARS</td>\n      <td>0.2</td>\n      <td>46</td>\n      <td>275</td>\n      <td>0</td>\n      <td>1</td>\n      <td>71</td>\n      <td>2</td>\n      <td>11924</td>\n      <td>37058</td>\n      <td>2937</td>\n      <td>356</td>\n      <td>3.8</td>\n      <td>20</td>\n      <td>NaN</td>\n      <td>NaN</td>\n      <td>DEF</td>\n      <td>4.3</td>\n      <td>0.8</td>\n    </tr>\n  </tbody>\n</table>\n</div>"
     },
     "metadata": {},
     "execution_count": 5
    }
   ],
   "source": [
    "# we select the following columns to our \"slim\" df, more can be added\n",
    "slim_elements_df = elements_df[['web_name','team','element_type','selected_by_percent','now_cost','minutes','goals_scored','assists','bps','clean_sheets','transfers_in','transfers_out','transfers_in_event','transfers_out_event','value_season','value_form','form','total_points','direct_freekicks_order','penalties_order']]\n",
    "#change some category numbers to more descriptive vars, change back before forecasting\n",
    "slim_elements_df['position'] = slim_elements_df.element_type.map(elements_types_df.set_index('id').singular_name_short)\n",
    "slim_elements_df['team'] = slim_elements_df.team.map(teams_df.set_index('id').short_name)\n",
    "#some numbers are not floats but objects\n",
    "slim_elements_df['ptPerMil'] = slim_elements_df.value_season.astype(float)\n",
    "slim_elements_df['formPerMil'] = slim_elements_df.value_form.astype(float)\n",
    "slim_elements_df['form'] = slim_elements_df.form.astype(float)\n",
    "slim_elements_df['ptPerMil'] = slim_elements_df.value_season.astype(float)\n",
    "slim_elements_df = slim_elements_df.drop([\"element_type\",\"value_season\",\"value_form\"],axis=1) #more descriptive names used\n",
    "slim_elements_df.head()"
   ]
  },
  {
   "cell_type": "code",
   "execution_count": 6,
   "metadata": {},
   "outputs": [
    {
     "output_type": "execute_result",
     "data": {
      "text/plain": [
       "     web_name team selected_by_percent  now_cost  minutes  goals_scored  \\\n",
       "0        Özil  ARS                 0.5        67        0             0   \n",
       "1    Sokratis  ARS                 0.1        48        0             0   \n",
       "2  David Luiz  ARS                 0.8        54      839             0   \n",
       "3  Aubameyang  ARS                 6.5       113     1514             5   \n",
       "4      Cédric  ARS                 0.2        46      275             0   \n",
       "\n",
       "   assists  bps  clean_sheets  form  total_points  direct_freekicks_order  \\\n",
       "0        0    0             0   0.0             0                     NaN   \n",
       "1        0    0             0   0.0             0                     NaN   \n",
       "2        0  143             3   3.8            28                     4.0   \n",
       "3        1  202             7   4.2            71                     NaN   \n",
       "4        1   71             2   3.8            20                     NaN   \n",
       "\n",
       "   penalties_order position  ptPerMil  formPerMil  net_transfers  \\\n",
       "0              NaN      MID       0.0         0.0         -50401   \n",
       "1              NaN      DEF       0.0         0.0          -8710   \n",
       "2              NaN      DEF       5.2         0.7         -47306   \n",
       "3              1.0      MID       6.3         0.4       -2695326   \n",
       "4              NaN      DEF       4.3         0.8         -25134   \n",
       "\n",
       "   net_transfers_event  \n",
       "0                  -68  \n",
       "1                   -8  \n",
       "2                 2239  \n",
       "3                -7726  \n",
       "4                 2581  "
      ],
      "text/html": "<div>\n<style scoped>\n    .dataframe tbody tr th:only-of-type {\n        vertical-align: middle;\n    }\n\n    .dataframe tbody tr th {\n        vertical-align: top;\n    }\n\n    .dataframe thead th {\n        text-align: right;\n    }\n</style>\n<table border=\"1\" class=\"dataframe\">\n  <thead>\n    <tr style=\"text-align: right;\">\n      <th></th>\n      <th>web_name</th>\n      <th>team</th>\n      <th>selected_by_percent</th>\n      <th>now_cost</th>\n      <th>minutes</th>\n      <th>goals_scored</th>\n      <th>assists</th>\n      <th>bps</th>\n      <th>clean_sheets</th>\n      <th>form</th>\n      <th>total_points</th>\n      <th>direct_freekicks_order</th>\n      <th>penalties_order</th>\n      <th>position</th>\n      <th>ptPerMil</th>\n      <th>formPerMil</th>\n      <th>net_transfers</th>\n      <th>net_transfers_event</th>\n    </tr>\n  </thead>\n  <tbody>\n    <tr>\n      <td>0</td>\n      <td>Özil</td>\n      <td>ARS</td>\n      <td>0.5</td>\n      <td>67</td>\n      <td>0</td>\n      <td>0</td>\n      <td>0</td>\n      <td>0</td>\n      <td>0</td>\n      <td>0.0</td>\n      <td>0</td>\n      <td>NaN</td>\n      <td>NaN</td>\n      <td>MID</td>\n      <td>0.0</td>\n      <td>0.0</td>\n      <td>-50401</td>\n      <td>-68</td>\n    </tr>\n    <tr>\n      <td>1</td>\n      <td>Sokratis</td>\n      <td>ARS</td>\n      <td>0.1</td>\n      <td>48</td>\n      <td>0</td>\n      <td>0</td>\n      <td>0</td>\n      <td>0</td>\n      <td>0</td>\n      <td>0.0</td>\n      <td>0</td>\n      <td>NaN</td>\n      <td>NaN</td>\n      <td>DEF</td>\n      <td>0.0</td>\n      <td>0.0</td>\n      <td>-8710</td>\n      <td>-8</td>\n    </tr>\n    <tr>\n      <td>2</td>\n      <td>David Luiz</td>\n      <td>ARS</td>\n      <td>0.8</td>\n      <td>54</td>\n      <td>839</td>\n      <td>0</td>\n      <td>0</td>\n      <td>143</td>\n      <td>3</td>\n      <td>3.8</td>\n      <td>28</td>\n      <td>4.0</td>\n      <td>NaN</td>\n      <td>DEF</td>\n      <td>5.2</td>\n      <td>0.7</td>\n      <td>-47306</td>\n      <td>2239</td>\n    </tr>\n    <tr>\n      <td>3</td>\n      <td>Aubameyang</td>\n      <td>ARS</td>\n      <td>6.5</td>\n      <td>113</td>\n      <td>1514</td>\n      <td>5</td>\n      <td>1</td>\n      <td>202</td>\n      <td>7</td>\n      <td>4.2</td>\n      <td>71</td>\n      <td>NaN</td>\n      <td>1.0</td>\n      <td>MID</td>\n      <td>6.3</td>\n      <td>0.4</td>\n      <td>-2695326</td>\n      <td>-7726</td>\n    </tr>\n    <tr>\n      <td>4</td>\n      <td>Cédric</td>\n      <td>ARS</td>\n      <td>0.2</td>\n      <td>46</td>\n      <td>275</td>\n      <td>0</td>\n      <td>1</td>\n      <td>71</td>\n      <td>2</td>\n      <td>3.8</td>\n      <td>20</td>\n      <td>NaN</td>\n      <td>NaN</td>\n      <td>DEF</td>\n      <td>4.3</td>\n      <td>0.8</td>\n      <td>-25134</td>\n      <td>2581</td>\n    </tr>\n  </tbody>\n</table>\n</div>"
     },
     "metadata": {},
     "execution_count": 6
    }
   ],
   "source": [
    "#net transfers should be good enough, if needed at all\n",
    "slim_elements_df['net_transfers'] = slim_elements_df['transfers_in'] - slim_elements_df['transfers_out']\n",
    "slim_elements_df['net_transfers_event'] = slim_elements_df['transfers_in_event'] - slim_elements_df['transfers_out_event']\n",
    "slim_elements_df = slim_elements_df.drop([\"transfers_in\",\"transfers_out\",\"transfers_in_event\",\"transfers_out_event\"],axis=1)\n",
    "\n",
    "slim_elements_df.head()"
   ]
  },
  {
   "cell_type": "code",
   "execution_count": 7,
   "metadata": {},
   "outputs": [],
   "source": [
    "#lets drop all players that have not yet played 2 games (=180 minutes)\n",
    "slim_elements_df = slim_elements_df.loc[slim_elements_df.minutes > 180]"
   ]
  },
  {
   "cell_type": "code",
   "execution_count": 8,
   "metadata": {},
   "outputs": [
    {
     "output_type": "execute_result",
     "data": {
      "text/plain": [
       "      web_name team selected_by_percent  now_cost  minutes  goals_scored  \\\n",
       "35    Martínez  AVL                33.3        51     1710             0   \n",
       "601     Soucek  WHU                18.5        53     1890             7   \n",
       "120       Pope  BUR                10.9        54     1710             0   \n",
       "296    Bamford  LEE                47.3        66     1695            11   \n",
       "50     Targett  AVL                 7.3        47     1694             0   \n",
       "7         Leno  ARS                 9.3        50     1890             0   \n",
       "588  Cresswell  WHU                21.1        55     1890             0   \n",
       "294     Dallas  LEE                13.4        48     1790             4   \n",
       "496   Bednarek  SOU                12.4        49     1710             1   \n",
       "484   McCarthy  SOU                18.6        46     1710             0   \n",
       "\n",
       "     assists  bps  clean_sheets  form  total_points  direct_freekicks_order  \\\n",
       "35         0  444            10   5.0           103                     NaN   \n",
       "601        1  333             7   5.0            97                     NaN   \n",
       "120        0  418             7   4.6            98                     NaN   \n",
       "296        7  388             6   6.0           119                     NaN   \n",
       "50         3  385            11   7.0            84                     6.0   \n",
       "7          0  407             8   5.8            89                     NaN   \n",
       "588        8  453             7   4.8            96                     1.0   \n",
       "294        2  389             6   3.7            82                     NaN   \n",
       "496        1  397             8   2.8            83                     NaN   \n",
       "484        0  355             7   1.2            76                     NaN   \n",
       "\n",
       "     penalties_order position  ptPerMil  formPerMil  net_transfers  \\\n",
       "35               NaN      GKP      20.2         1.0        1903710   \n",
       "601              NaN      MID      18.3         0.9        1063142   \n",
       "120              NaN      GKP      18.1         0.9        -335597   \n",
       "296              1.0      FWD      18.0         0.9        2942008   \n",
       "50               NaN      DEF      17.9         1.5         475906   \n",
       "7                NaN      GKP      17.8         1.2          52691   \n",
       "588              NaN      DEF      17.5         0.9        1476943   \n",
       "294              NaN      DEF      17.1         0.8         686745   \n",
       "496              NaN      DEF      16.9         0.6         723495   \n",
       "484              NaN      GKP      16.5         0.3        -152465   \n",
       "\n",
       "     net_transfers_event  \n",
       "35                 41786  \n",
       "601                18294  \n",
       "120                -2642  \n",
       "296                35180  \n",
       "50                 61417  \n",
       "7                  12741  \n",
       "588                85668  \n",
       "294                30748  \n",
       "496               -17501  \n",
       "484               -15422  "
      ],
      "text/html": "<div>\n<style scoped>\n    .dataframe tbody tr th:only-of-type {\n        vertical-align: middle;\n    }\n\n    .dataframe tbody tr th {\n        vertical-align: top;\n    }\n\n    .dataframe thead th {\n        text-align: right;\n    }\n</style>\n<table border=\"1\" class=\"dataframe\">\n  <thead>\n    <tr style=\"text-align: right;\">\n      <th></th>\n      <th>web_name</th>\n      <th>team</th>\n      <th>selected_by_percent</th>\n      <th>now_cost</th>\n      <th>minutes</th>\n      <th>goals_scored</th>\n      <th>assists</th>\n      <th>bps</th>\n      <th>clean_sheets</th>\n      <th>form</th>\n      <th>total_points</th>\n      <th>direct_freekicks_order</th>\n      <th>penalties_order</th>\n      <th>position</th>\n      <th>ptPerMil</th>\n      <th>formPerMil</th>\n      <th>net_transfers</th>\n      <th>net_transfers_event</th>\n    </tr>\n  </thead>\n  <tbody>\n    <tr>\n      <td>35</td>\n      <td>Martínez</td>\n      <td>AVL</td>\n      <td>33.3</td>\n      <td>51</td>\n      <td>1710</td>\n      <td>0</td>\n      <td>0</td>\n      <td>444</td>\n      <td>10</td>\n      <td>5.0</td>\n      <td>103</td>\n      <td>NaN</td>\n      <td>NaN</td>\n      <td>GKP</td>\n      <td>20.2</td>\n      <td>1.0</td>\n      <td>1903710</td>\n      <td>41786</td>\n    </tr>\n    <tr>\n      <td>601</td>\n      <td>Soucek</td>\n      <td>WHU</td>\n      <td>18.5</td>\n      <td>53</td>\n      <td>1890</td>\n      <td>7</td>\n      <td>1</td>\n      <td>333</td>\n      <td>7</td>\n      <td>5.0</td>\n      <td>97</td>\n      <td>NaN</td>\n      <td>NaN</td>\n      <td>MID</td>\n      <td>18.3</td>\n      <td>0.9</td>\n      <td>1063142</td>\n      <td>18294</td>\n    </tr>\n    <tr>\n      <td>120</td>\n      <td>Pope</td>\n      <td>BUR</td>\n      <td>10.9</td>\n      <td>54</td>\n      <td>1710</td>\n      <td>0</td>\n      <td>0</td>\n      <td>418</td>\n      <td>7</td>\n      <td>4.6</td>\n      <td>98</td>\n      <td>NaN</td>\n      <td>NaN</td>\n      <td>GKP</td>\n      <td>18.1</td>\n      <td>0.9</td>\n      <td>-335597</td>\n      <td>-2642</td>\n    </tr>\n    <tr>\n      <td>296</td>\n      <td>Bamford</td>\n      <td>LEE</td>\n      <td>47.3</td>\n      <td>66</td>\n      <td>1695</td>\n      <td>11</td>\n      <td>7</td>\n      <td>388</td>\n      <td>6</td>\n      <td>6.0</td>\n      <td>119</td>\n      <td>NaN</td>\n      <td>1.0</td>\n      <td>FWD</td>\n      <td>18.0</td>\n      <td>0.9</td>\n      <td>2942008</td>\n      <td>35180</td>\n    </tr>\n    <tr>\n      <td>50</td>\n      <td>Targett</td>\n      <td>AVL</td>\n      <td>7.3</td>\n      <td>47</td>\n      <td>1694</td>\n      <td>0</td>\n      <td>3</td>\n      <td>385</td>\n      <td>11</td>\n      <td>7.0</td>\n      <td>84</td>\n      <td>6.0</td>\n      <td>NaN</td>\n      <td>DEF</td>\n      <td>17.9</td>\n      <td>1.5</td>\n      <td>475906</td>\n      <td>61417</td>\n    </tr>\n    <tr>\n      <td>7</td>\n      <td>Leno</td>\n      <td>ARS</td>\n      <td>9.3</td>\n      <td>50</td>\n      <td>1890</td>\n      <td>0</td>\n      <td>0</td>\n      <td>407</td>\n      <td>8</td>\n      <td>5.8</td>\n      <td>89</td>\n      <td>NaN</td>\n      <td>NaN</td>\n      <td>GKP</td>\n      <td>17.8</td>\n      <td>1.2</td>\n      <td>52691</td>\n      <td>12741</td>\n    </tr>\n    <tr>\n      <td>588</td>\n      <td>Cresswell</td>\n      <td>WHU</td>\n      <td>21.1</td>\n      <td>55</td>\n      <td>1890</td>\n      <td>0</td>\n      <td>8</td>\n      <td>453</td>\n      <td>7</td>\n      <td>4.8</td>\n      <td>96</td>\n      <td>1.0</td>\n      <td>NaN</td>\n      <td>DEF</td>\n      <td>17.5</td>\n      <td>0.9</td>\n      <td>1476943</td>\n      <td>85668</td>\n    </tr>\n    <tr>\n      <td>294</td>\n      <td>Dallas</td>\n      <td>LEE</td>\n      <td>13.4</td>\n      <td>48</td>\n      <td>1790</td>\n      <td>4</td>\n      <td>2</td>\n      <td>389</td>\n      <td>6</td>\n      <td>3.7</td>\n      <td>82</td>\n      <td>NaN</td>\n      <td>NaN</td>\n      <td>DEF</td>\n      <td>17.1</td>\n      <td>0.8</td>\n      <td>686745</td>\n      <td>30748</td>\n    </tr>\n    <tr>\n      <td>496</td>\n      <td>Bednarek</td>\n      <td>SOU</td>\n      <td>12.4</td>\n      <td>49</td>\n      <td>1710</td>\n      <td>1</td>\n      <td>1</td>\n      <td>397</td>\n      <td>8</td>\n      <td>2.8</td>\n      <td>83</td>\n      <td>NaN</td>\n      <td>NaN</td>\n      <td>DEF</td>\n      <td>16.9</td>\n      <td>0.6</td>\n      <td>723495</td>\n      <td>-17501</td>\n    </tr>\n    <tr>\n      <td>484</td>\n      <td>McCarthy</td>\n      <td>SOU</td>\n      <td>18.6</td>\n      <td>46</td>\n      <td>1710</td>\n      <td>0</td>\n      <td>0</td>\n      <td>355</td>\n      <td>7</td>\n      <td>1.2</td>\n      <td>76</td>\n      <td>NaN</td>\n      <td>NaN</td>\n      <td>GKP</td>\n      <td>16.5</td>\n      <td>0.3</td>\n      <td>-152465</td>\n      <td>-15422</td>\n    </tr>\n  </tbody>\n</table>\n</div>"
     },
     "metadata": {},
     "execution_count": 8
    }
   ],
   "source": [
    "#top 10 points per million \n",
    "slim_elements_df.sort_values('ptPerMil',ascending=False).head(10)"
   ]
  },
  {
   "cell_type": "code",
   "execution_count": 9,
   "metadata": {},
   "outputs": [
    {
     "output_type": "execute_result",
     "data": {
      "text/plain": [
       "     web_name team selected_by_percent  now_cost  minutes  goals_scored  \\\n",
       "50    Targett  AVL                 7.3        47     1694             0   \n",
       "570   Pereira  WBA                 1.8        56     1272             5   \n",
       "14    Holding  ARS                 5.6        45     1575             0   \n",
       "606    Dawson  WHU                 0.5        45      540             2   \n",
       "355  Gündogan  MCI                18.7        58     1125             7   \n",
       "357    Stones  MCI                20.4        52      990             2   \n",
       "74       Dunk  BHA                 2.6        48     1620             2   \n",
       "315  Raphinha  LEE                 1.4        54     1076             3   \n",
       "7        Leno  ARS                 9.3        50     1890             0   \n",
       "22       Saka  ARS                10.8        54     1503             5   \n",
       "\n",
       "     assists  bps  clean_sheets  form  total_points  direct_freekicks_order  \\\n",
       "50         3  385            11   7.0            84                     6.0   \n",
       "570        4  278             2   8.2            73                     1.0   \n",
       "14         1  343             8   6.4            68                     NaN   \n",
       "606        0  126             3   6.0            36                     NaN   \n",
       "355        0  320             9   7.8            83                     4.0   \n",
       "357        0  297             9   6.8            77                     NaN   \n",
       "74         0  310             5   5.8            57                     1.0   \n",
       "315        4  215             4   6.7            60                     4.0   \n",
       "7          0  407             8   5.8            89                     NaN   \n",
       "22         3  285             6   6.6            81                     6.0   \n",
       "\n",
       "     penalties_order position  ptPerMil  formPerMil  net_transfers  \\\n",
       "50               NaN      DEF      17.9         1.5         475906   \n",
       "570              NaN      MID      13.0         1.5         -77398   \n",
       "14               NaN      DEF      15.1         1.4         310207   \n",
       "606              NaN      DEF       8.0         1.3          34790   \n",
       "355              2.0      MID      14.3         1.3        1420918   \n",
       "357              NaN      DEF      14.8         1.3        1540803   \n",
       "74               NaN      DEF      11.9         1.2        -383891   \n",
       "315              NaN      MID      11.1         1.2          97682   \n",
       "7                NaN      GKP      17.8         1.2          52691   \n",
       "22               NaN      MID      15.0         1.2         308566   \n",
       "\n",
       "     net_transfers_event  \n",
       "50                 61417  \n",
       "570                50486  \n",
       "14                 44454  \n",
       "606                 6944  \n",
       "355                41643  \n",
       "357               -21238  \n",
       "74                  1237  \n",
       "315                -3316  \n",
       "7                  12741  \n",
       "22                -85698  "
      ],
      "text/html": "<div>\n<style scoped>\n    .dataframe tbody tr th:only-of-type {\n        vertical-align: middle;\n    }\n\n    .dataframe tbody tr th {\n        vertical-align: top;\n    }\n\n    .dataframe thead th {\n        text-align: right;\n    }\n</style>\n<table border=\"1\" class=\"dataframe\">\n  <thead>\n    <tr style=\"text-align: right;\">\n      <th></th>\n      <th>web_name</th>\n      <th>team</th>\n      <th>selected_by_percent</th>\n      <th>now_cost</th>\n      <th>minutes</th>\n      <th>goals_scored</th>\n      <th>assists</th>\n      <th>bps</th>\n      <th>clean_sheets</th>\n      <th>form</th>\n      <th>total_points</th>\n      <th>direct_freekicks_order</th>\n      <th>penalties_order</th>\n      <th>position</th>\n      <th>ptPerMil</th>\n      <th>formPerMil</th>\n      <th>net_transfers</th>\n      <th>net_transfers_event</th>\n    </tr>\n  </thead>\n  <tbody>\n    <tr>\n      <td>50</td>\n      <td>Targett</td>\n      <td>AVL</td>\n      <td>7.3</td>\n      <td>47</td>\n      <td>1694</td>\n      <td>0</td>\n      <td>3</td>\n      <td>385</td>\n      <td>11</td>\n      <td>7.0</td>\n      <td>84</td>\n      <td>6.0</td>\n      <td>NaN</td>\n      <td>DEF</td>\n      <td>17.9</td>\n      <td>1.5</td>\n      <td>475906</td>\n      <td>61417</td>\n    </tr>\n    <tr>\n      <td>570</td>\n      <td>Pereira</td>\n      <td>WBA</td>\n      <td>1.8</td>\n      <td>56</td>\n      <td>1272</td>\n      <td>5</td>\n      <td>4</td>\n      <td>278</td>\n      <td>2</td>\n      <td>8.2</td>\n      <td>73</td>\n      <td>1.0</td>\n      <td>NaN</td>\n      <td>MID</td>\n      <td>13.0</td>\n      <td>1.5</td>\n      <td>-77398</td>\n      <td>50486</td>\n    </tr>\n    <tr>\n      <td>14</td>\n      <td>Holding</td>\n      <td>ARS</td>\n      <td>5.6</td>\n      <td>45</td>\n      <td>1575</td>\n      <td>0</td>\n      <td>1</td>\n      <td>343</td>\n      <td>8</td>\n      <td>6.4</td>\n      <td>68</td>\n      <td>NaN</td>\n      <td>NaN</td>\n      <td>DEF</td>\n      <td>15.1</td>\n      <td>1.4</td>\n      <td>310207</td>\n      <td>44454</td>\n    </tr>\n    <tr>\n      <td>606</td>\n      <td>Dawson</td>\n      <td>WHU</td>\n      <td>0.5</td>\n      <td>45</td>\n      <td>540</td>\n      <td>2</td>\n      <td>0</td>\n      <td>126</td>\n      <td>3</td>\n      <td>6.0</td>\n      <td>36</td>\n      <td>NaN</td>\n      <td>NaN</td>\n      <td>DEF</td>\n      <td>8.0</td>\n      <td>1.3</td>\n      <td>34790</td>\n      <td>6944</td>\n    </tr>\n    <tr>\n      <td>355</td>\n      <td>Gündogan</td>\n      <td>MCI</td>\n      <td>18.7</td>\n      <td>58</td>\n      <td>1125</td>\n      <td>7</td>\n      <td>0</td>\n      <td>320</td>\n      <td>9</td>\n      <td>7.8</td>\n      <td>83</td>\n      <td>4.0</td>\n      <td>2.0</td>\n      <td>MID</td>\n      <td>14.3</td>\n      <td>1.3</td>\n      <td>1420918</td>\n      <td>41643</td>\n    </tr>\n    <tr>\n      <td>357</td>\n      <td>Stones</td>\n      <td>MCI</td>\n      <td>20.4</td>\n      <td>52</td>\n      <td>990</td>\n      <td>2</td>\n      <td>0</td>\n      <td>297</td>\n      <td>9</td>\n      <td>6.8</td>\n      <td>77</td>\n      <td>NaN</td>\n      <td>NaN</td>\n      <td>DEF</td>\n      <td>14.8</td>\n      <td>1.3</td>\n      <td>1540803</td>\n      <td>-21238</td>\n    </tr>\n    <tr>\n      <td>74</td>\n      <td>Dunk</td>\n      <td>BHA</td>\n      <td>2.6</td>\n      <td>48</td>\n      <td>1620</td>\n      <td>2</td>\n      <td>0</td>\n      <td>310</td>\n      <td>5</td>\n      <td>5.8</td>\n      <td>57</td>\n      <td>1.0</td>\n      <td>NaN</td>\n      <td>DEF</td>\n      <td>11.9</td>\n      <td>1.2</td>\n      <td>-383891</td>\n      <td>1237</td>\n    </tr>\n    <tr>\n      <td>315</td>\n      <td>Raphinha</td>\n      <td>LEE</td>\n      <td>1.4</td>\n      <td>54</td>\n      <td>1076</td>\n      <td>3</td>\n      <td>4</td>\n      <td>215</td>\n      <td>4</td>\n      <td>6.7</td>\n      <td>60</td>\n      <td>4.0</td>\n      <td>NaN</td>\n      <td>MID</td>\n      <td>11.1</td>\n      <td>1.2</td>\n      <td>97682</td>\n      <td>-3316</td>\n    </tr>\n    <tr>\n      <td>7</td>\n      <td>Leno</td>\n      <td>ARS</td>\n      <td>9.3</td>\n      <td>50</td>\n      <td>1890</td>\n      <td>0</td>\n      <td>0</td>\n      <td>407</td>\n      <td>8</td>\n      <td>5.8</td>\n      <td>89</td>\n      <td>NaN</td>\n      <td>NaN</td>\n      <td>GKP</td>\n      <td>17.8</td>\n      <td>1.2</td>\n      <td>52691</td>\n      <td>12741</td>\n    </tr>\n    <tr>\n      <td>22</td>\n      <td>Saka</td>\n      <td>ARS</td>\n      <td>10.8</td>\n      <td>54</td>\n      <td>1503</td>\n      <td>5</td>\n      <td>3</td>\n      <td>285</td>\n      <td>6</td>\n      <td>6.6</td>\n      <td>81</td>\n      <td>6.0</td>\n      <td>NaN</td>\n      <td>MID</td>\n      <td>15.0</td>\n      <td>1.2</td>\n      <td>308566</td>\n      <td>-85698</td>\n    </tr>\n  </tbody>\n</table>\n</div>"
     },
     "metadata": {},
     "execution_count": 9
    }
   ],
   "source": [
    "#top 10 form per million\n",
    "slim_elements_df.sort_values('formPerMil',ascending=False).head(10)"
   ]
  },
  {
   "cell_type": "code",
   "execution_count": 11,
   "metadata": {},
   "outputs": [
    {
     "output_type": "execute_result",
     "data": {
      "text/plain": [
       "  position   ptPerMil\n",
       "2      GKP  12.947826\n",
       "0      DEF   7.614865\n",
       "1      FWD   7.527660\n",
       "3      MID   7.002874"
      ],
      "text/html": "<div>\n<style scoped>\n    .dataframe tbody tr th:only-of-type {\n        vertical-align: middle;\n    }\n\n    .dataframe tbody tr th {\n        vertical-align: top;\n    }\n\n    .dataframe thead th {\n        text-align: right;\n    }\n</style>\n<table border=\"1\" class=\"dataframe\">\n  <thead>\n    <tr style=\"text-align: right;\">\n      <th></th>\n      <th>position</th>\n      <th>ptPerMil</th>\n    </tr>\n  </thead>\n  <tbody>\n    <tr>\n      <td>2</td>\n      <td>GKP</td>\n      <td>12.947826</td>\n    </tr>\n    <tr>\n      <td>0</td>\n      <td>DEF</td>\n      <td>7.614865</td>\n    </tr>\n    <tr>\n      <td>1</td>\n      <td>FWD</td>\n      <td>7.527660</td>\n    </tr>\n    <tr>\n      <td>3</td>\n      <td>MID</td>\n      <td>7.002874</td>\n    </tr>\n  </tbody>\n</table>\n</div>"
     },
     "metadata": {},
     "execution_count": 11
    }
   ],
   "source": [
    "#what position offers the best return per mill, what position is most under/overrated\n",
    "pivot=slim_elements_df.pivot_table(index='position',values='ptPerMil',aggfunc=np.mean).reset_index()\n",
    "pivot.sort_values('ptPerMil',ascending=False)"
   ]
  },
  {
   "cell_type": "code",
   "execution_count": 29,
   "metadata": {
    "scrolled": true
   },
   "outputs": [
    {
     "output_type": "execute_result",
     "data": {
      "text/plain": [
       "  position  formPerMil\n",
       "2      GKP    0.626087\n",
       "0      DEF    0.394595\n",
       "3      MID    0.352874\n",
       "1      FWD    0.306383"
      ],
      "text/html": "<div>\n<style scoped>\n    .dataframe tbody tr th:only-of-type {\n        vertical-align: middle;\n    }\n\n    .dataframe tbody tr th {\n        vertical-align: top;\n    }\n\n    .dataframe thead th {\n        text-align: right;\n    }\n</style>\n<table border=\"1\" class=\"dataframe\">\n  <thead>\n    <tr style=\"text-align: right;\">\n      <th></th>\n      <th>position</th>\n      <th>formPerMil</th>\n    </tr>\n  </thead>\n  <tbody>\n    <tr>\n      <td>2</td>\n      <td>GKP</td>\n      <td>0.626087</td>\n    </tr>\n    <tr>\n      <td>0</td>\n      <td>DEF</td>\n      <td>0.394595</td>\n    </tr>\n    <tr>\n      <td>3</td>\n      <td>MID</td>\n      <td>0.352874</td>\n    </tr>\n    <tr>\n      <td>1</td>\n      <td>FWD</td>\n      <td>0.306383</td>\n    </tr>\n  </tbody>\n</table>\n</div>"
     },
     "metadata": {},
     "execution_count": 29
    }
   ],
   "source": [
    "# what position is most in form per million\n",
    "pivot = slim_elements_df.pivot_table(index='position',values='formPerMil',aggfunc=np.mean).reset_index()\n",
    "pivot.sort_values('formPerMil',ascending=False)"
   ]
  },
  {
   "cell_type": "code",
   "execution_count": 13,
   "metadata": {},
   "outputs": [
    {
     "output_type": "execute_result",
     "data": {
      "text/plain": [
       "   team   ptPerMil\n",
       "1   AVL  11.006250\n",
       "15  SOU  10.162500\n",
       "8   LEE   9.450000\n",
       "18  WHU   9.231579\n",
       "11  MCI   8.440000\n",
       "19  WOL   8.161111\n",
       "4   CHE   7.895238\n",
       "9   LEI   7.840000\n",
       "2   BHA   7.725000\n",
       "0   ARS   7.508696\n",
       "3   BUR   7.426316\n",
       "12  MUN   7.295000\n",
       "16  TOT   7.250000\n",
       "5   CRY   7.166667\n",
       "6   EVE   7.100000\n",
       "7   FUL   6.885000\n",
       "10  LIV   6.710000\n",
       "13  NEW   6.295455\n",
       "17  WBA   6.026316\n",
       "14  SHU   5.100000"
      ],
      "text/html": "<div>\n<style scoped>\n    .dataframe tbody tr th:only-of-type {\n        vertical-align: middle;\n    }\n\n    .dataframe tbody tr th {\n        vertical-align: top;\n    }\n\n    .dataframe thead th {\n        text-align: right;\n    }\n</style>\n<table border=\"1\" class=\"dataframe\">\n  <thead>\n    <tr style=\"text-align: right;\">\n      <th></th>\n      <th>team</th>\n      <th>ptPerMil</th>\n    </tr>\n  </thead>\n  <tbody>\n    <tr>\n      <td>1</td>\n      <td>AVL</td>\n      <td>11.006250</td>\n    </tr>\n    <tr>\n      <td>15</td>\n      <td>SOU</td>\n      <td>10.162500</td>\n    </tr>\n    <tr>\n      <td>8</td>\n      <td>LEE</td>\n      <td>9.450000</td>\n    </tr>\n    <tr>\n      <td>18</td>\n      <td>WHU</td>\n      <td>9.231579</td>\n    </tr>\n    <tr>\n      <td>11</td>\n      <td>MCI</td>\n      <td>8.440000</td>\n    </tr>\n    <tr>\n      <td>19</td>\n      <td>WOL</td>\n      <td>8.161111</td>\n    </tr>\n    <tr>\n      <td>4</td>\n      <td>CHE</td>\n      <td>7.895238</td>\n    </tr>\n    <tr>\n      <td>9</td>\n      <td>LEI</td>\n      <td>7.840000</td>\n    </tr>\n    <tr>\n      <td>2</td>\n      <td>BHA</td>\n      <td>7.725000</td>\n    </tr>\n    <tr>\n      <td>0</td>\n      <td>ARS</td>\n      <td>7.508696</td>\n    </tr>\n    <tr>\n      <td>3</td>\n      <td>BUR</td>\n      <td>7.426316</td>\n    </tr>\n    <tr>\n      <td>12</td>\n      <td>MUN</td>\n      <td>7.295000</td>\n    </tr>\n    <tr>\n      <td>16</td>\n      <td>TOT</td>\n      <td>7.250000</td>\n    </tr>\n    <tr>\n      <td>5</td>\n      <td>CRY</td>\n      <td>7.166667</td>\n    </tr>\n    <tr>\n      <td>6</td>\n      <td>EVE</td>\n      <td>7.100000</td>\n    </tr>\n    <tr>\n      <td>7</td>\n      <td>FUL</td>\n      <td>6.885000</td>\n    </tr>\n    <tr>\n      <td>10</td>\n      <td>LIV</td>\n      <td>6.710000</td>\n    </tr>\n    <tr>\n      <td>13</td>\n      <td>NEW</td>\n      <td>6.295455</td>\n    </tr>\n    <tr>\n      <td>17</td>\n      <td>WBA</td>\n      <td>6.026316</td>\n    </tr>\n    <tr>\n      <td>14</td>\n      <td>SHU</td>\n      <td>5.100000</td>\n    </tr>\n  </tbody>\n</table>\n</div>"
     },
     "metadata": {},
     "execution_count": 13
    }
   ],
   "source": [
    "#what team is the best value?\n",
    "team_pivot = slim_elements_df.pivot_table(index='team',values='ptPerMil',aggfunc=np.mean).reset_index()\n",
    "team_pivot.sort_values('ptPerMil',ascending=False)"
   ]
  },
  {
   "cell_type": "code",
   "execution_count": 30,
   "metadata": {},
   "outputs": [
    {
     "output_type": "execute_result",
     "data": {
      "text/plain": [
       "   team      form\n",
       "11  MCI  3.595000\n",
       "1   AVL  3.068750\n",
       "0   ARS  2.739130\n",
       "9   LEI  2.440000\n",
       "18  WHU  2.405263\n",
       "2   BHA  2.350000\n",
       "12  MUN  2.330000\n",
       "4   CHE  2.171429\n",
       "8   LEE  2.122222\n",
       "5   CRY  1.923810\n",
       "10  LIV  1.870000\n",
       "19  WOL  1.855556\n",
       "3   BUR  1.778947\n",
       "15  SOU  1.768750\n",
       "16  TOT  1.720000\n",
       "6   EVE  1.700000\n",
       "7   FUL  1.690000\n",
       "14  SHU  1.627273\n",
       "17  WBA  1.336842\n",
       "13  NEW  1.286364"
      ],
      "text/html": "<div>\n<style scoped>\n    .dataframe tbody tr th:only-of-type {\n        vertical-align: middle;\n    }\n\n    .dataframe tbody tr th {\n        vertical-align: top;\n    }\n\n    .dataframe thead th {\n        text-align: right;\n    }\n</style>\n<table border=\"1\" class=\"dataframe\">\n  <thead>\n    <tr style=\"text-align: right;\">\n      <th></th>\n      <th>team</th>\n      <th>form</th>\n    </tr>\n  </thead>\n  <tbody>\n    <tr>\n      <td>11</td>\n      <td>MCI</td>\n      <td>3.595000</td>\n    </tr>\n    <tr>\n      <td>1</td>\n      <td>AVL</td>\n      <td>3.068750</td>\n    </tr>\n    <tr>\n      <td>0</td>\n      <td>ARS</td>\n      <td>2.739130</td>\n    </tr>\n    <tr>\n      <td>9</td>\n      <td>LEI</td>\n      <td>2.440000</td>\n    </tr>\n    <tr>\n      <td>18</td>\n      <td>WHU</td>\n      <td>2.405263</td>\n    </tr>\n    <tr>\n      <td>2</td>\n      <td>BHA</td>\n      <td>2.350000</td>\n    </tr>\n    <tr>\n      <td>12</td>\n      <td>MUN</td>\n      <td>2.330000</td>\n    </tr>\n    <tr>\n      <td>4</td>\n      <td>CHE</td>\n      <td>2.171429</td>\n    </tr>\n    <tr>\n      <td>8</td>\n      <td>LEE</td>\n      <td>2.122222</td>\n    </tr>\n    <tr>\n      <td>5</td>\n      <td>CRY</td>\n      <td>1.923810</td>\n    </tr>\n    <tr>\n      <td>10</td>\n      <td>LIV</td>\n      <td>1.870000</td>\n    </tr>\n    <tr>\n      <td>19</td>\n      <td>WOL</td>\n      <td>1.855556</td>\n    </tr>\n    <tr>\n      <td>3</td>\n      <td>BUR</td>\n      <td>1.778947</td>\n    </tr>\n    <tr>\n      <td>15</td>\n      <td>SOU</td>\n      <td>1.768750</td>\n    </tr>\n    <tr>\n      <td>16</td>\n      <td>TOT</td>\n      <td>1.720000</td>\n    </tr>\n    <tr>\n      <td>6</td>\n      <td>EVE</td>\n      <td>1.700000</td>\n    </tr>\n    <tr>\n      <td>7</td>\n      <td>FUL</td>\n      <td>1.690000</td>\n    </tr>\n    <tr>\n      <td>14</td>\n      <td>SHU</td>\n      <td>1.627273</td>\n    </tr>\n    <tr>\n      <td>17</td>\n      <td>WBA</td>\n      <td>1.336842</td>\n    </tr>\n    <tr>\n      <td>13</td>\n      <td>NEW</td>\n      <td>1.286364</td>\n    </tr>\n  </tbody>\n</table>\n</div>"
     },
     "metadata": {},
     "execution_count": 30
    }
   ],
   "source": [
    "#what team is most in form?\n",
    "team_pivot = slim_elements_df.pivot_table(index='team',values='form',aggfunc=np.mean).reset_index()\n",
    "team_pivot.sort_values('form',ascending=False)"
   ]
  },
  {
   "cell_type": "code",
   "execution_count": 31,
   "metadata": {},
   "outputs": [],
   "source": [
    "fwd_df = slim_elements_df.loc[slim_elements_df.position == 'FWD']\n",
    "mid_df = slim_elements_df.loc[slim_elements_df.position == 'MID']\n",
    "def_df = slim_elements_df.loc[slim_elements_df.position == 'DEF']\n",
    "goal_df = slim_elements_df.loc[slim_elements_df.position == 'GKP']"
   ]
  },
  {
   "cell_type": "code",
   "execution_count": 32,
   "metadata": {},
   "outputs": [
    {
     "output_type": "execute_result",
     "data": {
      "text/plain": [
       "<matplotlib.axes._subplots.AxesSubplot at 0x1f4ce712d88>"
      ]
     },
     "metadata": {},
     "execution_count": 32
    },
    {
     "output_type": "display_data",
     "data": {
      "text/plain": "<Figure size 432x288 with 1 Axes>",
      "image/svg+xml": "<?xml version=\"1.0\" encoding=\"utf-8\" standalone=\"no\"?>\r\n<!DOCTYPE svg PUBLIC \"-//W3C//DTD SVG 1.1//EN\"\r\n  \"http://www.w3.org/Graphics/SVG/1.1/DTD/svg11.dtd\">\r\n<!-- Created with matplotlib (https://matplotlib.org/) -->\r\n<svg height=\"248.518125pt\" version=\"1.1\" viewBox=\"0 0 362.5625 248.518125\" width=\"362.5625pt\" xmlns=\"http://www.w3.org/2000/svg\" xmlns:xlink=\"http://www.w3.org/1999/xlink\">\r\n <defs>\r\n  <style type=\"text/css\">\r\n*{stroke-linecap:butt;stroke-linejoin:round;}\r\n  </style>\r\n </defs>\r\n <g id=\"figure_1\">\r\n  <g id=\"patch_1\">\r\n   <path d=\"M 0 248.518125 \r\nL 362.5625 248.518125 \r\nL 362.5625 0 \r\nL 0 0 \r\nz\r\n\" style=\"fill:none;\"/>\r\n  </g>\r\n  <g id=\"axes_1\">\r\n   <g id=\"patch_2\">\r\n    <path d=\"M 20.5625 224.64 \r\nL 355.3625 224.64 \r\nL 355.3625 7.2 \r\nL 20.5625 7.2 \r\nz\r\n\" style=\"fill:#ffffff;\"/>\r\n   </g>\r\n   <g id=\"patch_3\">\r\n    <path clip-path=\"url(#p4bebd0db4a)\" d=\"M 35.780682 224.64 \r\nL 66.217045 224.64 \r\nL 66.217045 165.472653 \r\nL 35.780682 165.472653 \r\nz\r\n\" style=\"fill:#1f77b4;\"/>\r\n   </g>\r\n   <g id=\"patch_4\">\r\n    <path clip-path=\"url(#p4bebd0db4a)\" d=\"M 66.217045 224.64 \r\nL 96.653409 224.64 \r\nL 96.653409 224.64 \r\nL 66.217045 224.64 \r\nz\r\n\" style=\"fill:#1f77b4;\"/>\r\n   </g>\r\n   <g id=\"patch_5\">\r\n    <path clip-path=\"url(#p4bebd0db4a)\" d=\"M 96.653409 224.64 \r\nL 127.089773 224.64 \r\nL 127.089773 195.056327 \r\nL 96.653409 195.056327 \r\nz\r\n\" style=\"fill:#1f77b4;\"/>\r\n   </g>\r\n   <g id=\"patch_6\">\r\n    <path clip-path=\"url(#p4bebd0db4a)\" d=\"M 127.089773 224.64 \r\nL 157.526136 224.64 \r\nL 157.526136 224.64 \r\nL 127.089773 224.64 \r\nz\r\n\" style=\"fill:#1f77b4;\"/>\r\n   </g>\r\n   <g id=\"patch_7\">\r\n    <path clip-path=\"url(#p4bebd0db4a)\" d=\"M 157.526136 224.64 \r\nL 187.9625 224.64 \r\nL 187.9625 165.472653 \r\nL 157.526136 165.472653 \r\nz\r\n\" style=\"fill:#1f77b4;\"/>\r\n   </g>\r\n   <g id=\"patch_8\">\r\n    <path clip-path=\"url(#p4bebd0db4a)\" d=\"M 187.9625 224.64 \r\nL 218.398864 224.64 \r\nL 218.398864 106.305306 \r\nL 187.9625 106.305306 \r\nz\r\n\" style=\"fill:#1f77b4;\"/>\r\n   </g>\r\n   <g id=\"patch_9\">\r\n    <path clip-path=\"url(#p4bebd0db4a)\" d=\"M 218.398864 224.64 \r\nL 248.835227 224.64 \r\nL 248.835227 165.472653 \r\nL 218.398864 165.472653 \r\nz\r\n\" style=\"fill:#1f77b4;\"/>\r\n   </g>\r\n   <g id=\"patch_10\">\r\n    <path clip-path=\"url(#p4bebd0db4a)\" d=\"M 248.835227 224.64 \r\nL 279.271591 224.64 \r\nL 279.271591 17.554286 \r\nL 248.835227 17.554286 \r\nz\r\n\" style=\"fill:#1f77b4;\"/>\r\n   </g>\r\n   <g id=\"patch_11\">\r\n    <path clip-path=\"url(#p4bebd0db4a)\" d=\"M 279.271591 224.64 \r\nL 309.707955 224.64 \r\nL 309.707955 106.305306 \r\nL 279.271591 106.305306 \r\nz\r\n\" style=\"fill:#1f77b4;\"/>\r\n   </g>\r\n   <g id=\"patch_12\">\r\n    <path clip-path=\"url(#p4bebd0db4a)\" d=\"M 309.707955 224.64 \r\nL 340.144318 224.64 \r\nL 340.144318 195.056327 \r\nL 309.707955 195.056327 \r\nz\r\n\" style=\"fill:#1f77b4;\"/>\r\n   </g>\r\n   <g id=\"matplotlib.axis_1\">\r\n    <g id=\"xtick_1\">\r\n     <g id=\"line2d_1\">\r\n      <path clip-path=\"url(#p4bebd0db4a)\" d=\"M 59.559091 224.64 \r\nL 59.559091 7.2 \r\n\" style=\"fill:none;stroke:#b0b0b0;stroke-linecap:square;stroke-width:0.8;\"/>\r\n     </g>\r\n     <g id=\"line2d_2\">\r\n      <defs>\r\n       <path d=\"M 0 0 \r\nL 0 3.5 \r\n\" id=\"mdf535e38ec\" style=\"stroke:#000000;stroke-width:0.8;\"/>\r\n      </defs>\r\n      <g>\r\n       <use style=\"stroke:#000000;stroke-width:0.8;\" x=\"59.559091\" xlink:href=\"#mdf535e38ec\" y=\"224.64\"/>\r\n      </g>\r\n     </g>\r\n     <g id=\"text_1\">\r\n      <!-- 2.5 -->\r\n      <defs>\r\n       <path d=\"M 19.1875 8.296875 \r\nL 53.609375 8.296875 \r\nL 53.609375 0 \r\nL 7.328125 0 \r\nL 7.328125 8.296875 \r\nQ 12.9375 14.109375 22.625 23.890625 \r\nQ 32.328125 33.6875 34.8125 36.53125 \r\nQ 39.546875 41.84375 41.421875 45.53125 \r\nQ 43.3125 49.21875 43.3125 52.78125 \r\nQ 43.3125 58.59375 39.234375 62.25 \r\nQ 35.15625 65.921875 28.609375 65.921875 \r\nQ 23.96875 65.921875 18.8125 64.3125 \r\nQ 13.671875 62.703125 7.8125 59.421875 \r\nL 7.8125 69.390625 \r\nQ 13.765625 71.78125 18.9375 73 \r\nQ 24.125 74.21875 28.421875 74.21875 \r\nQ 39.75 74.21875 46.484375 68.546875 \r\nQ 53.21875 62.890625 53.21875 53.421875 \r\nQ 53.21875 48.921875 51.53125 44.890625 \r\nQ 49.859375 40.875 45.40625 35.40625 \r\nQ 44.1875 33.984375 37.640625 27.21875 \r\nQ 31.109375 20.453125 19.1875 8.296875 \r\nz\r\n\" id=\"DejaVuSans-50\"/>\r\n       <path d=\"M 10.6875 12.40625 \r\nL 21 12.40625 \r\nL 21 0 \r\nL 10.6875 0 \r\nz\r\n\" id=\"DejaVuSans-46\"/>\r\n       <path d=\"M 10.796875 72.90625 \r\nL 49.515625 72.90625 \r\nL 49.515625 64.59375 \r\nL 19.828125 64.59375 \r\nL 19.828125 46.734375 \r\nQ 21.96875 47.46875 24.109375 47.828125 \r\nQ 26.265625 48.1875 28.421875 48.1875 \r\nQ 40.625 48.1875 47.75 41.5 \r\nQ 54.890625 34.8125 54.890625 23.390625 \r\nQ 54.890625 11.625 47.5625 5.09375 \r\nQ 40.234375 -1.421875 26.90625 -1.421875 \r\nQ 22.3125 -1.421875 17.546875 -0.640625 \r\nQ 12.796875 0.140625 7.71875 1.703125 \r\nL 7.71875 11.625 \r\nQ 12.109375 9.234375 16.796875 8.0625 \r\nQ 21.484375 6.890625 26.703125 6.890625 \r\nQ 35.15625 6.890625 40.078125 11.328125 \r\nQ 45.015625 15.765625 45.015625 23.390625 \r\nQ 45.015625 31 40.078125 35.4375 \r\nQ 35.15625 39.890625 26.703125 39.890625 \r\nQ 22.75 39.890625 18.8125 39.015625 \r\nQ 14.890625 38.140625 10.796875 36.28125 \r\nz\r\n\" id=\"DejaVuSans-53\"/>\r\n      </defs>\r\n      <g transform=\"translate(51.607528 239.238437)scale(0.1 -0.1)\">\r\n       <use xlink:href=\"#DejaVuSans-50\"/>\r\n       <use x=\"63.623047\" xlink:href=\"#DejaVuSans-46\"/>\r\n       <use x=\"95.410156\" xlink:href=\"#DejaVuSans-53\"/>\r\n      </g>\r\n     </g>\r\n    </g>\r\n    <g id=\"xtick_2\">\r\n     <g id=\"line2d_3\">\r\n      <path clip-path=\"url(#p4bebd0db4a)\" d=\"M 99.189773 224.64 \r\nL 99.189773 7.2 \r\n\" style=\"fill:none;stroke:#b0b0b0;stroke-linecap:square;stroke-width:0.8;\"/>\r\n     </g>\r\n     <g id=\"line2d_4\">\r\n      <g>\r\n       <use style=\"stroke:#000000;stroke-width:0.8;\" x=\"99.189773\" xlink:href=\"#mdf535e38ec\" y=\"224.64\"/>\r\n      </g>\r\n     </g>\r\n     <g id=\"text_2\">\r\n      <!-- 5.0 -->\r\n      <defs>\r\n       <path d=\"M 31.78125 66.40625 \r\nQ 24.171875 66.40625 20.328125 58.90625 \r\nQ 16.5 51.421875 16.5 36.375 \r\nQ 16.5 21.390625 20.328125 13.890625 \r\nQ 24.171875 6.390625 31.78125 6.390625 \r\nQ 39.453125 6.390625 43.28125 13.890625 \r\nQ 47.125 21.390625 47.125 36.375 \r\nQ 47.125 51.421875 43.28125 58.90625 \r\nQ 39.453125 66.40625 31.78125 66.40625 \r\nz\r\nM 31.78125 74.21875 \r\nQ 44.046875 74.21875 50.515625 64.515625 \r\nQ 56.984375 54.828125 56.984375 36.375 \r\nQ 56.984375 17.96875 50.515625 8.265625 \r\nQ 44.046875 -1.421875 31.78125 -1.421875 \r\nQ 19.53125 -1.421875 13.0625 8.265625 \r\nQ 6.59375 17.96875 6.59375 36.375 \r\nQ 6.59375 54.828125 13.0625 64.515625 \r\nQ 19.53125 74.21875 31.78125 74.21875 \r\nz\r\n\" id=\"DejaVuSans-48\"/>\r\n      </defs>\r\n      <g transform=\"translate(91.23821 239.238437)scale(0.1 -0.1)\">\r\n       <use xlink:href=\"#DejaVuSans-53\"/>\r\n       <use x=\"63.623047\" xlink:href=\"#DejaVuSans-46\"/>\r\n       <use x=\"95.410156\" xlink:href=\"#DejaVuSans-48\"/>\r\n      </g>\r\n     </g>\r\n    </g>\r\n    <g id=\"xtick_3\">\r\n     <g id=\"line2d_5\">\r\n      <path clip-path=\"url(#p4bebd0db4a)\" d=\"M 138.820455 224.64 \r\nL 138.820455 7.2 \r\n\" style=\"fill:none;stroke:#b0b0b0;stroke-linecap:square;stroke-width:0.8;\"/>\r\n     </g>\r\n     <g id=\"line2d_6\">\r\n      <g>\r\n       <use style=\"stroke:#000000;stroke-width:0.8;\" x=\"138.820455\" xlink:href=\"#mdf535e38ec\" y=\"224.64\"/>\r\n      </g>\r\n     </g>\r\n     <g id=\"text_3\">\r\n      <!-- 7.5 -->\r\n      <defs>\r\n       <path d=\"M 8.203125 72.90625 \r\nL 55.078125 72.90625 \r\nL 55.078125 68.703125 \r\nL 28.609375 0 \r\nL 18.3125 0 \r\nL 43.21875 64.59375 \r\nL 8.203125 64.59375 \r\nz\r\n\" id=\"DejaVuSans-55\"/>\r\n      </defs>\r\n      <g transform=\"translate(130.868892 239.238437)scale(0.1 -0.1)\">\r\n       <use xlink:href=\"#DejaVuSans-55\"/>\r\n       <use x=\"63.623047\" xlink:href=\"#DejaVuSans-46\"/>\r\n       <use x=\"95.410156\" xlink:href=\"#DejaVuSans-53\"/>\r\n      </g>\r\n     </g>\r\n    </g>\r\n    <g id=\"xtick_4\">\r\n     <g id=\"line2d_7\">\r\n      <path clip-path=\"url(#p4bebd0db4a)\" d=\"M 178.451136 224.64 \r\nL 178.451136 7.2 \r\n\" style=\"fill:none;stroke:#b0b0b0;stroke-linecap:square;stroke-width:0.8;\"/>\r\n     </g>\r\n     <g id=\"line2d_8\">\r\n      <g>\r\n       <use style=\"stroke:#000000;stroke-width:0.8;\" x=\"178.451136\" xlink:href=\"#mdf535e38ec\" y=\"224.64\"/>\r\n      </g>\r\n     </g>\r\n     <g id=\"text_4\">\r\n      <!-- 10.0 -->\r\n      <defs>\r\n       <path d=\"M 12.40625 8.296875 \r\nL 28.515625 8.296875 \r\nL 28.515625 63.921875 \r\nL 10.984375 60.40625 \r\nL 10.984375 69.390625 \r\nL 28.421875 72.90625 \r\nL 38.28125 72.90625 \r\nL 38.28125 8.296875 \r\nL 54.390625 8.296875 \r\nL 54.390625 0 \r\nL 12.40625 0 \r\nz\r\n\" id=\"DejaVuSans-49\"/>\r\n      </defs>\r\n      <g transform=\"translate(167.318324 239.238437)scale(0.1 -0.1)\">\r\n       <use xlink:href=\"#DejaVuSans-49\"/>\r\n       <use x=\"63.623047\" xlink:href=\"#DejaVuSans-48\"/>\r\n       <use x=\"127.246094\" xlink:href=\"#DejaVuSans-46\"/>\r\n       <use x=\"159.033203\" xlink:href=\"#DejaVuSans-48\"/>\r\n      </g>\r\n     </g>\r\n    </g>\r\n    <g id=\"xtick_5\">\r\n     <g id=\"line2d_9\">\r\n      <path clip-path=\"url(#p4bebd0db4a)\" d=\"M 218.081818 224.64 \r\nL 218.081818 7.2 \r\n\" style=\"fill:none;stroke:#b0b0b0;stroke-linecap:square;stroke-width:0.8;\"/>\r\n     </g>\r\n     <g id=\"line2d_10\">\r\n      <g>\r\n       <use style=\"stroke:#000000;stroke-width:0.8;\" x=\"218.081818\" xlink:href=\"#mdf535e38ec\" y=\"224.64\"/>\r\n      </g>\r\n     </g>\r\n     <g id=\"text_5\">\r\n      <!-- 12.5 -->\r\n      <g transform=\"translate(206.949006 239.238437)scale(0.1 -0.1)\">\r\n       <use xlink:href=\"#DejaVuSans-49\"/>\r\n       <use x=\"63.623047\" xlink:href=\"#DejaVuSans-50\"/>\r\n       <use x=\"127.246094\" xlink:href=\"#DejaVuSans-46\"/>\r\n       <use x=\"159.033203\" xlink:href=\"#DejaVuSans-53\"/>\r\n      </g>\r\n     </g>\r\n    </g>\r\n    <g id=\"xtick_6\">\r\n     <g id=\"line2d_11\">\r\n      <path clip-path=\"url(#p4bebd0db4a)\" d=\"M 257.7125 224.64 \r\nL 257.7125 7.2 \r\n\" style=\"fill:none;stroke:#b0b0b0;stroke-linecap:square;stroke-width:0.8;\"/>\r\n     </g>\r\n     <g id=\"line2d_12\">\r\n      <g>\r\n       <use style=\"stroke:#000000;stroke-width:0.8;\" x=\"257.7125\" xlink:href=\"#mdf535e38ec\" y=\"224.64\"/>\r\n      </g>\r\n     </g>\r\n     <g id=\"text_6\">\r\n      <!-- 15.0 -->\r\n      <g transform=\"translate(246.579688 239.238437)scale(0.1 -0.1)\">\r\n       <use xlink:href=\"#DejaVuSans-49\"/>\r\n       <use x=\"63.623047\" xlink:href=\"#DejaVuSans-53\"/>\r\n       <use x=\"127.246094\" xlink:href=\"#DejaVuSans-46\"/>\r\n       <use x=\"159.033203\" xlink:href=\"#DejaVuSans-48\"/>\r\n      </g>\r\n     </g>\r\n    </g>\r\n    <g id=\"xtick_7\">\r\n     <g id=\"line2d_13\">\r\n      <path clip-path=\"url(#p4bebd0db4a)\" d=\"M 297.343182 224.64 \r\nL 297.343182 7.2 \r\n\" style=\"fill:none;stroke:#b0b0b0;stroke-linecap:square;stroke-width:0.8;\"/>\r\n     </g>\r\n     <g id=\"line2d_14\">\r\n      <g>\r\n       <use style=\"stroke:#000000;stroke-width:0.8;\" x=\"297.343182\" xlink:href=\"#mdf535e38ec\" y=\"224.64\"/>\r\n      </g>\r\n     </g>\r\n     <g id=\"text_7\">\r\n      <!-- 17.5 -->\r\n      <g transform=\"translate(286.210369 239.238437)scale(0.1 -0.1)\">\r\n       <use xlink:href=\"#DejaVuSans-49\"/>\r\n       <use x=\"63.623047\" xlink:href=\"#DejaVuSans-55\"/>\r\n       <use x=\"127.246094\" xlink:href=\"#DejaVuSans-46\"/>\r\n       <use x=\"159.033203\" xlink:href=\"#DejaVuSans-53\"/>\r\n      </g>\r\n     </g>\r\n    </g>\r\n    <g id=\"xtick_8\">\r\n     <g id=\"line2d_15\">\r\n      <path clip-path=\"url(#p4bebd0db4a)\" d=\"M 336.973864 224.64 \r\nL 336.973864 7.2 \r\n\" style=\"fill:none;stroke:#b0b0b0;stroke-linecap:square;stroke-width:0.8;\"/>\r\n     </g>\r\n     <g id=\"line2d_16\">\r\n      <g>\r\n       <use style=\"stroke:#000000;stroke-width:0.8;\" x=\"336.973864\" xlink:href=\"#mdf535e38ec\" y=\"224.64\"/>\r\n      </g>\r\n     </g>\r\n     <g id=\"text_8\">\r\n      <!-- 20.0 -->\r\n      <g transform=\"translate(325.841051 239.238437)scale(0.1 -0.1)\">\r\n       <use xlink:href=\"#DejaVuSans-50\"/>\r\n       <use x=\"63.623047\" xlink:href=\"#DejaVuSans-48\"/>\r\n       <use x=\"127.246094\" xlink:href=\"#DejaVuSans-46\"/>\r\n       <use x=\"159.033203\" xlink:href=\"#DejaVuSans-48\"/>\r\n      </g>\r\n     </g>\r\n    </g>\r\n   </g>\r\n   <g id=\"matplotlib.axis_2\">\r\n    <g id=\"ytick_1\">\r\n     <g id=\"line2d_17\">\r\n      <path clip-path=\"url(#p4bebd0db4a)\" d=\"M 20.5625 224.64 \r\nL 355.3625 224.64 \r\n\" style=\"fill:none;stroke:#b0b0b0;stroke-linecap:square;stroke-width:0.8;\"/>\r\n     </g>\r\n     <g id=\"line2d_18\">\r\n      <defs>\r\n       <path d=\"M 0 0 \r\nL -3.5 0 \r\n\" id=\"md72e54fe85\" style=\"stroke:#000000;stroke-width:0.8;\"/>\r\n      </defs>\r\n      <g>\r\n       <use style=\"stroke:#000000;stroke-width:0.8;\" x=\"20.5625\" xlink:href=\"#md72e54fe85\" y=\"224.64\"/>\r\n      </g>\r\n     </g>\r\n     <g id=\"text_9\">\r\n      <!-- 0 -->\r\n      <g transform=\"translate(7.2 228.439219)scale(0.1 -0.1)\">\r\n       <use xlink:href=\"#DejaVuSans-48\"/>\r\n      </g>\r\n     </g>\r\n    </g>\r\n    <g id=\"ytick_2\">\r\n     <g id=\"line2d_19\">\r\n      <path clip-path=\"url(#p4bebd0db4a)\" d=\"M 20.5625 195.056327 \r\nL 355.3625 195.056327 \r\n\" style=\"fill:none;stroke:#b0b0b0;stroke-linecap:square;stroke-width:0.8;\"/>\r\n     </g>\r\n     <g id=\"line2d_20\">\r\n      <g>\r\n       <use style=\"stroke:#000000;stroke-width:0.8;\" x=\"20.5625\" xlink:href=\"#md72e54fe85\" y=\"195.056327\"/>\r\n      </g>\r\n     </g>\r\n     <g id=\"text_10\">\r\n      <!-- 1 -->\r\n      <g transform=\"translate(7.2 198.855545)scale(0.1 -0.1)\">\r\n       <use xlink:href=\"#DejaVuSans-49\"/>\r\n      </g>\r\n     </g>\r\n    </g>\r\n    <g id=\"ytick_3\">\r\n     <g id=\"line2d_21\">\r\n      <path clip-path=\"url(#p4bebd0db4a)\" d=\"M 20.5625 165.472653 \r\nL 355.3625 165.472653 \r\n\" style=\"fill:none;stroke:#b0b0b0;stroke-linecap:square;stroke-width:0.8;\"/>\r\n     </g>\r\n     <g id=\"line2d_22\">\r\n      <g>\r\n       <use style=\"stroke:#000000;stroke-width:0.8;\" x=\"20.5625\" xlink:href=\"#md72e54fe85\" y=\"165.472653\"/>\r\n      </g>\r\n     </g>\r\n     <g id=\"text_11\">\r\n      <!-- 2 -->\r\n      <g transform=\"translate(7.2 169.271872)scale(0.1 -0.1)\">\r\n       <use xlink:href=\"#DejaVuSans-50\"/>\r\n      </g>\r\n     </g>\r\n    </g>\r\n    <g id=\"ytick_4\">\r\n     <g id=\"line2d_23\">\r\n      <path clip-path=\"url(#p4bebd0db4a)\" d=\"M 20.5625 135.88898 \r\nL 355.3625 135.88898 \r\n\" style=\"fill:none;stroke:#b0b0b0;stroke-linecap:square;stroke-width:0.8;\"/>\r\n     </g>\r\n     <g id=\"line2d_24\">\r\n      <g>\r\n       <use style=\"stroke:#000000;stroke-width:0.8;\" x=\"20.5625\" xlink:href=\"#md72e54fe85\" y=\"135.88898\"/>\r\n      </g>\r\n     </g>\r\n     <g id=\"text_12\">\r\n      <!-- 3 -->\r\n      <defs>\r\n       <path d=\"M 40.578125 39.3125 \r\nQ 47.65625 37.796875 51.625 33 \r\nQ 55.609375 28.21875 55.609375 21.1875 \r\nQ 55.609375 10.40625 48.1875 4.484375 \r\nQ 40.765625 -1.421875 27.09375 -1.421875 \r\nQ 22.515625 -1.421875 17.65625 -0.515625 \r\nQ 12.796875 0.390625 7.625 2.203125 \r\nL 7.625 11.71875 \r\nQ 11.71875 9.328125 16.59375 8.109375 \r\nQ 21.484375 6.890625 26.8125 6.890625 \r\nQ 36.078125 6.890625 40.9375 10.546875 \r\nQ 45.796875 14.203125 45.796875 21.1875 \r\nQ 45.796875 27.640625 41.28125 31.265625 \r\nQ 36.765625 34.90625 28.71875 34.90625 \r\nL 20.21875 34.90625 \r\nL 20.21875 43.015625 \r\nL 29.109375 43.015625 \r\nQ 36.375 43.015625 40.234375 45.921875 \r\nQ 44.09375 48.828125 44.09375 54.296875 \r\nQ 44.09375 59.90625 40.109375 62.90625 \r\nQ 36.140625 65.921875 28.71875 65.921875 \r\nQ 24.65625 65.921875 20.015625 65.03125 \r\nQ 15.375 64.15625 9.8125 62.3125 \r\nL 9.8125 71.09375 \r\nQ 15.4375 72.65625 20.34375 73.4375 \r\nQ 25.25 74.21875 29.59375 74.21875 \r\nQ 40.828125 74.21875 47.359375 69.109375 \r\nQ 53.90625 64.015625 53.90625 55.328125 \r\nQ 53.90625 49.265625 50.4375 45.09375 \r\nQ 46.96875 40.921875 40.578125 39.3125 \r\nz\r\n\" id=\"DejaVuSans-51\"/>\r\n      </defs>\r\n      <g transform=\"translate(7.2 139.688198)scale(0.1 -0.1)\">\r\n       <use xlink:href=\"#DejaVuSans-51\"/>\r\n      </g>\r\n     </g>\r\n    </g>\r\n    <g id=\"ytick_5\">\r\n     <g id=\"line2d_25\">\r\n      <path clip-path=\"url(#p4bebd0db4a)\" d=\"M 20.5625 106.305306 \r\nL 355.3625 106.305306 \r\n\" style=\"fill:none;stroke:#b0b0b0;stroke-linecap:square;stroke-width:0.8;\"/>\r\n     </g>\r\n     <g id=\"line2d_26\">\r\n      <g>\r\n       <use style=\"stroke:#000000;stroke-width:0.8;\" x=\"20.5625\" xlink:href=\"#md72e54fe85\" y=\"106.305306\"/>\r\n      </g>\r\n     </g>\r\n     <g id=\"text_13\">\r\n      <!-- 4 -->\r\n      <defs>\r\n       <path d=\"M 37.796875 64.3125 \r\nL 12.890625 25.390625 \r\nL 37.796875 25.390625 \r\nz\r\nM 35.203125 72.90625 \r\nL 47.609375 72.90625 \r\nL 47.609375 25.390625 \r\nL 58.015625 25.390625 \r\nL 58.015625 17.1875 \r\nL 47.609375 17.1875 \r\nL 47.609375 0 \r\nL 37.796875 0 \r\nL 37.796875 17.1875 \r\nL 4.890625 17.1875 \r\nL 4.890625 26.703125 \r\nz\r\n\" id=\"DejaVuSans-52\"/>\r\n      </defs>\r\n      <g transform=\"translate(7.2 110.104525)scale(0.1 -0.1)\">\r\n       <use xlink:href=\"#DejaVuSans-52\"/>\r\n      </g>\r\n     </g>\r\n    </g>\r\n    <g id=\"ytick_6\">\r\n     <g id=\"line2d_27\">\r\n      <path clip-path=\"url(#p4bebd0db4a)\" d=\"M 20.5625 76.721633 \r\nL 355.3625 76.721633 \r\n\" style=\"fill:none;stroke:#b0b0b0;stroke-linecap:square;stroke-width:0.8;\"/>\r\n     </g>\r\n     <g id=\"line2d_28\">\r\n      <g>\r\n       <use style=\"stroke:#000000;stroke-width:0.8;\" x=\"20.5625\" xlink:href=\"#md72e54fe85\" y=\"76.721633\"/>\r\n      </g>\r\n     </g>\r\n     <g id=\"text_14\">\r\n      <!-- 5 -->\r\n      <g transform=\"translate(7.2 80.520851)scale(0.1 -0.1)\">\r\n       <use xlink:href=\"#DejaVuSans-53\"/>\r\n      </g>\r\n     </g>\r\n    </g>\r\n    <g id=\"ytick_7\">\r\n     <g id=\"line2d_29\">\r\n      <path clip-path=\"url(#p4bebd0db4a)\" d=\"M 20.5625 47.137959 \r\nL 355.3625 47.137959 \r\n\" style=\"fill:none;stroke:#b0b0b0;stroke-linecap:square;stroke-width:0.8;\"/>\r\n     </g>\r\n     <g id=\"line2d_30\">\r\n      <g>\r\n       <use style=\"stroke:#000000;stroke-width:0.8;\" x=\"20.5625\" xlink:href=\"#md72e54fe85\" y=\"47.137959\"/>\r\n      </g>\r\n     </g>\r\n     <g id=\"text_15\">\r\n      <!-- 6 -->\r\n      <defs>\r\n       <path d=\"M 33.015625 40.375 \r\nQ 26.375 40.375 22.484375 35.828125 \r\nQ 18.609375 31.296875 18.609375 23.390625 \r\nQ 18.609375 15.53125 22.484375 10.953125 \r\nQ 26.375 6.390625 33.015625 6.390625 \r\nQ 39.65625 6.390625 43.53125 10.953125 \r\nQ 47.40625 15.53125 47.40625 23.390625 \r\nQ 47.40625 31.296875 43.53125 35.828125 \r\nQ 39.65625 40.375 33.015625 40.375 \r\nz\r\nM 52.59375 71.296875 \r\nL 52.59375 62.3125 \r\nQ 48.875 64.0625 45.09375 64.984375 \r\nQ 41.3125 65.921875 37.59375 65.921875 \r\nQ 27.828125 65.921875 22.671875 59.328125 \r\nQ 17.53125 52.734375 16.796875 39.40625 \r\nQ 19.671875 43.65625 24.015625 45.921875 \r\nQ 28.375 48.1875 33.59375 48.1875 \r\nQ 44.578125 48.1875 50.953125 41.515625 \r\nQ 57.328125 34.859375 57.328125 23.390625 \r\nQ 57.328125 12.15625 50.6875 5.359375 \r\nQ 44.046875 -1.421875 33.015625 -1.421875 \r\nQ 20.359375 -1.421875 13.671875 8.265625 \r\nQ 6.984375 17.96875 6.984375 36.375 \r\nQ 6.984375 53.65625 15.1875 63.9375 \r\nQ 23.390625 74.21875 37.203125 74.21875 \r\nQ 40.921875 74.21875 44.703125 73.484375 \r\nQ 48.484375 72.75 52.59375 71.296875 \r\nz\r\n\" id=\"DejaVuSans-54\"/>\r\n      </defs>\r\n      <g transform=\"translate(7.2 50.937178)scale(0.1 -0.1)\">\r\n       <use xlink:href=\"#DejaVuSans-54\"/>\r\n      </g>\r\n     </g>\r\n    </g>\r\n    <g id=\"ytick_8\">\r\n     <g id=\"line2d_31\">\r\n      <path clip-path=\"url(#p4bebd0db4a)\" d=\"M 20.5625 17.554286 \r\nL 355.3625 17.554286 \r\n\" style=\"fill:none;stroke:#b0b0b0;stroke-linecap:square;stroke-width:0.8;\"/>\r\n     </g>\r\n     <g id=\"line2d_32\">\r\n      <g>\r\n       <use style=\"stroke:#000000;stroke-width:0.8;\" x=\"20.5625\" xlink:href=\"#md72e54fe85\" y=\"17.554286\"/>\r\n      </g>\r\n     </g>\r\n     <g id=\"text_16\">\r\n      <!-- 7 -->\r\n      <g transform=\"translate(7.2 21.353504)scale(0.1 -0.1)\">\r\n       <use xlink:href=\"#DejaVuSans-55\"/>\r\n      </g>\r\n     </g>\r\n    </g>\r\n   </g>\r\n   <g id=\"patch_13\">\r\n    <path d=\"M 20.5625 224.64 \r\nL 20.5625 7.2 \r\n\" style=\"fill:none;stroke:#000000;stroke-linecap:square;stroke-linejoin:miter;stroke-width:0.8;\"/>\r\n   </g>\r\n   <g id=\"patch_14\">\r\n    <path d=\"M 355.3625 224.64 \r\nL 355.3625 7.2 \r\n\" style=\"fill:none;stroke:#000000;stroke-linecap:square;stroke-linejoin:miter;stroke-width:0.8;\"/>\r\n   </g>\r\n   <g id=\"patch_15\">\r\n    <path d=\"M 20.5625 224.64 \r\nL 355.3625 224.64 \r\n\" style=\"fill:none;stroke:#000000;stroke-linecap:square;stroke-linejoin:miter;stroke-width:0.8;\"/>\r\n   </g>\r\n   <g id=\"patch_16\">\r\n    <path d=\"M 20.5625 7.2 \r\nL 355.3625 7.2 \r\n\" style=\"fill:none;stroke:#000000;stroke-linecap:square;stroke-linejoin:miter;stroke-width:0.8;\"/>\r\n   </g>\r\n  </g>\r\n </g>\r\n <defs>\r\n  <clipPath id=\"p4bebd0db4a\">\r\n   <rect height=\"217.44\" width=\"334.8\" x=\"20.5625\" y=\"7.2\"/>\r\n  </clipPath>\r\n </defs>\r\n</svg>\r\n",
      "image/png": "[encoded data removed]"
     },
     "metadata": {
      "needs_background": "light"
     }
    }
   ],
   "source": [
    "goal_df.ptPerMil.hist()"
   ]
  },
  {
   "cell_type": "code",
   "execution_count": 33,
   "metadata": {},
   "outputs": [
    {
     "output_type": "execute_result",
     "data": {
      "text/plain": [
       "       web_name team selected_by_percent  now_cost  minutes  goals_scored  \\\n",
       "35     Martínez  AVL                33.3        51     1710             0   \n",
       "120        Pope  BUR                10.9        54     1710             0   \n",
       "7          Leno  ARS                 9.3        50     1890             0   \n",
       "484    McCarthy  SOU                18.6        46     1710             0   \n",
       "307     Meslier  LEE                 5.7        47     1710             0   \n",
       "584   Fabianski  WHU                 3.8        51     1800             0   \n",
       "250      Areola  FUL                 3.2        45     1710             0   \n",
       "259  Schmeichel  LEI                10.2        55     1890             0   \n",
       "166      Guaita  CRY                 3.2        48     1890             0   \n",
       "424      Darlow  NEW                 2.0        50     1890             0   \n",
       "\n",
       "     assists  bps  clean_sheets  form  total_points  direct_freekicks_order  \\\n",
       "35         0  444            10   5.0           103                     NaN   \n",
       "120        0  418             7   4.6            98                     NaN   \n",
       "7          0  407             8   5.8            89                     NaN   \n",
       "484        0  355             7   1.2            76                     NaN   \n",
       "307        0  420             6   2.3            77                     NaN   \n",
       "584        0  370             6   2.5            81                     NaN   \n",
       "250        0  354             4   3.8            69                     NaN   \n",
       "259        0  379             7   4.6            84                     NaN   \n",
       "166        0  366             4   5.0            72                     NaN   \n",
       "424        0  397             4   2.3            74                     NaN   \n",
       "\n",
       "     penalties_order position  ptPerMil  formPerMil  net_transfers  \\\n",
       "35               NaN      GKP      20.2         1.0        1903710   \n",
       "120              NaN      GKP      18.1         0.9        -335597   \n",
       "7                NaN      GKP      17.8         1.2          52691   \n",
       "484              NaN      GKP      16.5         0.3        -152465   \n",
       "307              NaN      GKP      16.4         0.5         302091   \n",
       "584              NaN      GKP      15.9         0.5         110216   \n",
       "250              NaN      GKP      15.3         0.8         124368   \n",
       "259              NaN      GKP      15.3         0.8        -263417   \n",
       "166              NaN      GKP      15.0         1.0          11494   \n",
       "424              NaN      GKP      14.8         0.5          87294   \n",
       "\n",
       "     net_transfers_event  \n",
       "35                 41786  \n",
       "120                -2642  \n",
       "7                  12741  \n",
       "484               -15422  \n",
       "307                -3607  \n",
       "584                -3401  \n",
       "250                -3069  \n",
       "259                  133  \n",
       "166                 3592  \n",
       "424                 -655  "
      ],
      "text/html": "<div>\n<style scoped>\n    .dataframe tbody tr th:only-of-type {\n        vertical-align: middle;\n    }\n\n    .dataframe tbody tr th {\n        vertical-align: top;\n    }\n\n    .dataframe thead th {\n        text-align: right;\n    }\n</style>\n<table border=\"1\" class=\"dataframe\">\n  <thead>\n    <tr style=\"text-align: right;\">\n      <th></th>\n      <th>web_name</th>\n      <th>team</th>\n      <th>selected_by_percent</th>\n      <th>now_cost</th>\n      <th>minutes</th>\n      <th>goals_scored</th>\n      <th>assists</th>\n      <th>bps</th>\n      <th>clean_sheets</th>\n      <th>form</th>\n      <th>total_points</th>\n      <th>direct_freekicks_order</th>\n      <th>penalties_order</th>\n      <th>position</th>\n      <th>ptPerMil</th>\n      <th>formPerMil</th>\n      <th>net_transfers</th>\n      <th>net_transfers_event</th>\n    </tr>\n  </thead>\n  <tbody>\n    <tr>\n      <td>35</td>\n      <td>Martínez</td>\n      <td>AVL</td>\n      <td>33.3</td>\n      <td>51</td>\n      <td>1710</td>\n      <td>0</td>\n      <td>0</td>\n      <td>444</td>\n      <td>10</td>\n      <td>5.0</td>\n      <td>103</td>\n      <td>NaN</td>\n      <td>NaN</td>\n      <td>GKP</td>\n      <td>20.2</td>\n      <td>1.0</td>\n      <td>1903710</td>\n      <td>41786</td>\n    </tr>\n    <tr>\n      <td>120</td>\n      <td>Pope</td>\n      <td>BUR</td>\n      <td>10.9</td>\n      <td>54</td>\n      <td>1710</td>\n      <td>0</td>\n      <td>0</td>\n      <td>418</td>\n      <td>7</td>\n      <td>4.6</td>\n      <td>98</td>\n      <td>NaN</td>\n      <td>NaN</td>\n      <td>GKP</td>\n      <td>18.1</td>\n      <td>0.9</td>\n      <td>-335597</td>\n      <td>-2642</td>\n    </tr>\n    <tr>\n      <td>7</td>\n      <td>Leno</td>\n      <td>ARS</td>\n      <td>9.3</td>\n      <td>50</td>\n      <td>1890</td>\n      <td>0</td>\n      <td>0</td>\n      <td>407</td>\n      <td>8</td>\n      <td>5.8</td>\n      <td>89</td>\n      <td>NaN</td>\n      <td>NaN</td>\n      <td>GKP</td>\n      <td>17.8</td>\n      <td>1.2</td>\n      <td>52691</td>\n      <td>12741</td>\n    </tr>\n    <tr>\n      <td>484</td>\n      <td>McCarthy</td>\n      <td>SOU</td>\n      <td>18.6</td>\n      <td>46</td>\n      <td>1710</td>\n      <td>0</td>\n      <td>0</td>\n      <td>355</td>\n      <td>7</td>\n      <td>1.2</td>\n      <td>76</td>\n      <td>NaN</td>\n      <td>NaN</td>\n      <td>GKP</td>\n      <td>16.5</td>\n      <td>0.3</td>\n      <td>-152465</td>\n      <td>-15422</td>\n    </tr>\n    <tr>\n      <td>307</td>\n      <td>Meslier</td>\n      <td>LEE</td>\n      <td>5.7</td>\n      <td>47</td>\n      <td>1710</td>\n      <td>0</td>\n      <td>0</td>\n      <td>420</td>\n      <td>6</td>\n      <td>2.3</td>\n      <td>77</td>\n      <td>NaN</td>\n      <td>NaN</td>\n      <td>GKP</td>\n      <td>16.4</td>\n      <td>0.5</td>\n      <td>302091</td>\n      <td>-3607</td>\n    </tr>\n    <tr>\n      <td>584</td>\n      <td>Fabianski</td>\n      <td>WHU</td>\n      <td>3.8</td>\n      <td>51</td>\n      <td>1800</td>\n      <td>0</td>\n      <td>0</td>\n      <td>370</td>\n      <td>6</td>\n      <td>2.5</td>\n      <td>81</td>\n      <td>NaN</td>\n      <td>NaN</td>\n      <td>GKP</td>\n      <td>15.9</td>\n      <td>0.5</td>\n      <td>110216</td>\n      <td>-3401</td>\n    </tr>\n    <tr>\n      <td>250</td>\n      <td>Areola</td>\n      <td>FUL</td>\n      <td>3.2</td>\n      <td>45</td>\n      <td>1710</td>\n      <td>0</td>\n      <td>0</td>\n      <td>354</td>\n      <td>4</td>\n      <td>3.8</td>\n      <td>69</td>\n      <td>NaN</td>\n      <td>NaN</td>\n      <td>GKP</td>\n      <td>15.3</td>\n      <td>0.8</td>\n      <td>124368</td>\n      <td>-3069</td>\n    </tr>\n    <tr>\n      <td>259</td>\n      <td>Schmeichel</td>\n      <td>LEI</td>\n      <td>10.2</td>\n      <td>55</td>\n      <td>1890</td>\n      <td>0</td>\n      <td>0</td>\n      <td>379</td>\n      <td>7</td>\n      <td>4.6</td>\n      <td>84</td>\n      <td>NaN</td>\n      <td>NaN</td>\n      <td>GKP</td>\n      <td>15.3</td>\n      <td>0.8</td>\n      <td>-263417</td>\n      <td>133</td>\n    </tr>\n    <tr>\n      <td>166</td>\n      <td>Guaita</td>\n      <td>CRY</td>\n      <td>3.2</td>\n      <td>48</td>\n      <td>1890</td>\n      <td>0</td>\n      <td>0</td>\n      <td>366</td>\n      <td>4</td>\n      <td>5.0</td>\n      <td>72</td>\n      <td>NaN</td>\n      <td>NaN</td>\n      <td>GKP</td>\n      <td>15.0</td>\n      <td>1.0</td>\n      <td>11494</td>\n      <td>3592</td>\n    </tr>\n    <tr>\n      <td>424</td>\n      <td>Darlow</td>\n      <td>NEW</td>\n      <td>2.0</td>\n      <td>50</td>\n      <td>1890</td>\n      <td>0</td>\n      <td>0</td>\n      <td>397</td>\n      <td>4</td>\n      <td>2.3</td>\n      <td>74</td>\n      <td>NaN</td>\n      <td>NaN</td>\n      <td>GKP</td>\n      <td>14.8</td>\n      <td>0.5</td>\n      <td>87294</td>\n      <td>-655</td>\n    </tr>\n  </tbody>\n</table>\n</div>"
     },
     "metadata": {},
     "execution_count": 33
    }
   ],
   "source": [
    "goal_df.sort_values('ptPerMil',ascending=False).head(10)"
   ]
  },
  {
   "cell_type": "code",
   "execution_count": 34,
   "metadata": {},
   "outputs": [
    {
     "output_type": "execute_result",
     "data": {
      "text/plain": [
       "<matplotlib.axes._subplots.AxesSubplot at 0x1f4cfed1fc8>"
      ]
     },
     "metadata": {},
     "execution_count": 34
    },
    {
     "output_type": "display_data",
     "data": {
      "text/plain": "<Figure size 432x288 with 1 Axes>",
      "image/svg+xml": "<?xml version=\"1.0\" encoding=\"utf-8\" standalone=\"no\"?>\r\n<!DOCTYPE svg PUBLIC \"-//W3C//DTD SVG 1.1//EN\"\r\n  \"http://www.w3.org/Graphics/SVG/1.1/DTD/svg11.dtd\">\r\n<!-- Created with matplotlib (https://matplotlib.org/) -->\r\n<svg height=\"248.518125pt\" version=\"1.1\" viewBox=\"0 0 378.465625 248.518125\" width=\"378.465625pt\" xmlns=\"http://www.w3.org/2000/svg\" xmlns:xlink=\"http://www.w3.org/1999/xlink\">\r\n <defs>\r\n  <style type=\"text/css\">\r\n*{stroke-linecap:butt;stroke-linejoin:round;}\r\n  </style>\r\n </defs>\r\n <g id=\"figure_1\">\r\n  <g id=\"patch_1\">\r\n   <path d=\"M 0 248.518125 \r\nL 378.465625 248.518125 \r\nL 378.465625 0 \r\nL 0 0 \r\nz\r\n\" style=\"fill:none;\"/>\r\n  </g>\r\n  <g id=\"axes_1\">\r\n   <g id=\"patch_2\">\r\n    <path d=\"M 36.465625 224.64 \r\nL 371.265625 224.64 \r\nL 371.265625 7.2 \r\nL 36.465625 7.2 \r\nz\r\n\" style=\"fill:#ffffff;\"/>\r\n   </g>\r\n   <g id=\"patch_3\">\r\n    <path clip-path=\"url(#p314e908768)\" d=\"M 51.683807 224.64 \r\nL 82.12017 224.64 \r\nL 82.12017 48.617143 \r\nL 51.683807 48.617143 \r\nz\r\n\" style=\"fill:#1f77b4;\"/>\r\n   </g>\r\n   <g id=\"patch_4\">\r\n    <path clip-path=\"url(#p314e908768)\" d=\"M 82.12017 224.64 \r\nL 112.556534 224.64 \r\nL 112.556534 27.908571 \r\nL 82.12017 27.908571 \r\nz\r\n\" style=\"fill:#1f77b4;\"/>\r\n   </g>\r\n   <g id=\"patch_5\">\r\n    <path clip-path=\"url(#p314e908768)\" d=\"M 112.556534 224.64 \r\nL 142.992898 224.64 \r\nL 142.992898 48.617143 \r\nL 112.556534 48.617143 \r\nz\r\n\" style=\"fill:#1f77b4;\"/>\r\n   </g>\r\n   <g id=\"patch_6\">\r\n    <path clip-path=\"url(#p314e908768)\" d=\"M 142.992898 224.64 \r\nL 173.429261 224.64 \r\nL 173.429261 17.554286 \r\nL 142.992898 17.554286 \r\nz\r\n\" style=\"fill:#1f77b4;\"/>\r\n   </g>\r\n   <g id=\"patch_7\">\r\n    <path clip-path=\"url(#p314e908768)\" d=\"M 173.429261 224.64 \r\nL 203.865625 224.64 \r\nL 203.865625 48.617143 \r\nL 173.429261 48.617143 \r\nz\r\n\" style=\"fill:#1f77b4;\"/>\r\n   </g>\r\n   <g id=\"patch_8\">\r\n    <path clip-path=\"url(#p314e908768)\" d=\"M 203.865625 224.64 \r\nL 234.301989 224.64 \r\nL 234.301989 69.325714 \r\nL 203.865625 69.325714 \r\nz\r\n\" style=\"fill:#1f77b4;\"/>\r\n   </g>\r\n   <g id=\"patch_9\">\r\n    <path clip-path=\"url(#p314e908768)\" d=\"M 234.301989 224.64 \r\nL 264.738352 224.64 \r\nL 264.738352 48.617143 \r\nL 234.301989 48.617143 \r\nz\r\n\" style=\"fill:#1f77b4;\"/>\r\n   </g>\r\n   <g id=\"patch_10\">\r\n    <path clip-path=\"url(#p314e908768)\" d=\"M 264.738352 224.64 \r\nL 295.174716 224.64 \r\nL 295.174716 79.68 \r\nL 264.738352 79.68 \r\nz\r\n\" style=\"fill:#1f77b4;\"/>\r\n   </g>\r\n   <g id=\"patch_11\">\r\n    <path clip-path=\"url(#p314e908768)\" d=\"M 295.174716 224.64 \r\nL 325.61108 224.64 \r\nL 325.61108 141.805714 \r\nL 295.174716 141.805714 \r\nz\r\n\" style=\"fill:#1f77b4;\"/>\r\n   </g>\r\n   <g id=\"patch_12\">\r\n    <path clip-path=\"url(#p314e908768)\" d=\"M 325.61108 224.64 \r\nL 356.047443 224.64 \r\nL 356.047443 183.222857 \r\nL 325.61108 183.222857 \r\nz\r\n\" style=\"fill:#1f77b4;\"/>\r\n   </g>\r\n   <g id=\"matplotlib.axis_1\">\r\n    <g id=\"xtick_1\">\r\n     <g id=\"line2d_1\">\r\n      <path clip-path=\"url(#p314e908768)\" d=\"M 51.683807 224.64 \r\nL 51.683807 7.2 \r\n\" style=\"fill:none;stroke:#b0b0b0;stroke-linecap:square;stroke-width:0.8;\"/>\r\n     </g>\r\n     <g id=\"line2d_2\">\r\n      <defs>\r\n       <path d=\"M 0 0 \r\nL 0 3.5 \r\n\" id=\"maf8b6ec32d\" style=\"stroke:#000000;stroke-width:0.8;\"/>\r\n      </defs>\r\n      <g>\r\n       <use style=\"stroke:#000000;stroke-width:0.8;\" x=\"51.683807\" xlink:href=\"#maf8b6ec32d\" y=\"224.64\"/>\r\n      </g>\r\n     </g>\r\n     <g id=\"text_1\">\r\n      <!-- 0.0 -->\r\n      <defs>\r\n       <path d=\"M 31.78125 66.40625 \r\nQ 24.171875 66.40625 20.328125 58.90625 \r\nQ 16.5 51.421875 16.5 36.375 \r\nQ 16.5 21.390625 20.328125 13.890625 \r\nQ 24.171875 6.390625 31.78125 6.390625 \r\nQ 39.453125 6.390625 43.28125 13.890625 \r\nQ 47.125 21.390625 47.125 36.375 \r\nQ 47.125 51.421875 43.28125 58.90625 \r\nQ 39.453125 66.40625 31.78125 66.40625 \r\nz\r\nM 31.78125 74.21875 \r\nQ 44.046875 74.21875 50.515625 64.515625 \r\nQ 56.984375 54.828125 56.984375 36.375 \r\nQ 56.984375 17.96875 50.515625 8.265625 \r\nQ 44.046875 -1.421875 31.78125 -1.421875 \r\nQ 19.53125 -1.421875 13.0625 8.265625 \r\nQ 6.59375 17.96875 6.59375 36.375 \r\nQ 6.59375 54.828125 13.0625 64.515625 \r\nQ 19.53125 74.21875 31.78125 74.21875 \r\nz\r\n\" id=\"DejaVuSans-48\"/>\r\n       <path d=\"M 10.6875 12.40625 \r\nL 21 12.40625 \r\nL 21 0 \r\nL 10.6875 0 \r\nz\r\n\" id=\"DejaVuSans-46\"/>\r\n      </defs>\r\n      <g transform=\"translate(43.732244 239.238437)scale(0.1 -0.1)\">\r\n       <use xlink:href=\"#DejaVuSans-48\"/>\r\n       <use x=\"63.623047\" xlink:href=\"#DejaVuSans-46\"/>\r\n       <use x=\"95.410156\" xlink:href=\"#DejaVuSans-48\"/>\r\n      </g>\r\n     </g>\r\n    </g>\r\n    <g id=\"xtick_2\">\r\n     <g id=\"line2d_3\">\r\n      <path clip-path=\"url(#p314e908768)\" d=\"M 94.192695 224.64 \r\nL 94.192695 7.2 \r\n\" style=\"fill:none;stroke:#b0b0b0;stroke-linecap:square;stroke-width:0.8;\"/>\r\n     </g>\r\n     <g id=\"line2d_4\">\r\n      <g>\r\n       <use style=\"stroke:#000000;stroke-width:0.8;\" x=\"94.192695\" xlink:href=\"#maf8b6ec32d\" y=\"224.64\"/>\r\n      </g>\r\n     </g>\r\n     <g id=\"text_2\">\r\n      <!-- 2.5 -->\r\n      <defs>\r\n       <path d=\"M 19.1875 8.296875 \r\nL 53.609375 8.296875 \r\nL 53.609375 0 \r\nL 7.328125 0 \r\nL 7.328125 8.296875 \r\nQ 12.9375 14.109375 22.625 23.890625 \r\nQ 32.328125 33.6875 34.8125 36.53125 \r\nQ 39.546875 41.84375 41.421875 45.53125 \r\nQ 43.3125 49.21875 43.3125 52.78125 \r\nQ 43.3125 58.59375 39.234375 62.25 \r\nQ 35.15625 65.921875 28.609375 65.921875 \r\nQ 23.96875 65.921875 18.8125 64.3125 \r\nQ 13.671875 62.703125 7.8125 59.421875 \r\nL 7.8125 69.390625 \r\nQ 13.765625 71.78125 18.9375 73 \r\nQ 24.125 74.21875 28.421875 74.21875 \r\nQ 39.75 74.21875 46.484375 68.546875 \r\nQ 53.21875 62.890625 53.21875 53.421875 \r\nQ 53.21875 48.921875 51.53125 44.890625 \r\nQ 49.859375 40.875 45.40625 35.40625 \r\nQ 44.1875 33.984375 37.640625 27.21875 \r\nQ 31.109375 20.453125 19.1875 8.296875 \r\nz\r\n\" id=\"DejaVuSans-50\"/>\r\n       <path d=\"M 10.796875 72.90625 \r\nL 49.515625 72.90625 \r\nL 49.515625 64.59375 \r\nL 19.828125 64.59375 \r\nL 19.828125 46.734375 \r\nQ 21.96875 47.46875 24.109375 47.828125 \r\nQ 26.265625 48.1875 28.421875 48.1875 \r\nQ 40.625 48.1875 47.75 41.5 \r\nQ 54.890625 34.8125 54.890625 23.390625 \r\nQ 54.890625 11.625 47.5625 5.09375 \r\nQ 40.234375 -1.421875 26.90625 -1.421875 \r\nQ 22.3125 -1.421875 17.546875 -0.640625 \r\nQ 12.796875 0.140625 7.71875 1.703125 \r\nL 7.71875 11.625 \r\nQ 12.109375 9.234375 16.796875 8.0625 \r\nQ 21.484375 6.890625 26.703125 6.890625 \r\nQ 35.15625 6.890625 40.078125 11.328125 \r\nQ 45.015625 15.765625 45.015625 23.390625 \r\nQ 45.015625 31 40.078125 35.4375 \r\nQ 35.15625 39.890625 26.703125 39.890625 \r\nQ 22.75 39.890625 18.8125 39.015625 \r\nQ 14.890625 38.140625 10.796875 36.28125 \r\nz\r\n\" id=\"DejaVuSans-53\"/>\r\n      </defs>\r\n      <g transform=\"translate(86.241132 239.238437)scale(0.1 -0.1)\">\r\n       <use xlink:href=\"#DejaVuSans-50\"/>\r\n       <use x=\"63.623047\" xlink:href=\"#DejaVuSans-46\"/>\r\n       <use x=\"95.410156\" xlink:href=\"#DejaVuSans-53\"/>\r\n      </g>\r\n     </g>\r\n    </g>\r\n    <g id=\"xtick_3\">\r\n     <g id=\"line2d_5\">\r\n      <path clip-path=\"url(#p314e908768)\" d=\"M 136.701582 224.64 \r\nL 136.701582 7.2 \r\n\" style=\"fill:none;stroke:#b0b0b0;stroke-linecap:square;stroke-width:0.8;\"/>\r\n     </g>\r\n     <g id=\"line2d_6\">\r\n      <g>\r\n       <use style=\"stroke:#000000;stroke-width:0.8;\" x=\"136.701582\" xlink:href=\"#maf8b6ec32d\" y=\"224.64\"/>\r\n      </g>\r\n     </g>\r\n     <g id=\"text_3\">\r\n      <!-- 5.0 -->\r\n      <g transform=\"translate(128.75002 239.238437)scale(0.1 -0.1)\">\r\n       <use xlink:href=\"#DejaVuSans-53\"/>\r\n       <use x=\"63.623047\" xlink:href=\"#DejaVuSans-46\"/>\r\n       <use x=\"95.410156\" xlink:href=\"#DejaVuSans-48\"/>\r\n      </g>\r\n     </g>\r\n    </g>\r\n    <g id=\"xtick_4\">\r\n     <g id=\"line2d_7\">\r\n      <path clip-path=\"url(#p314e908768)\" d=\"M 179.21047 224.64 \r\nL 179.21047 7.2 \r\n\" style=\"fill:none;stroke:#b0b0b0;stroke-linecap:square;stroke-width:0.8;\"/>\r\n     </g>\r\n     <g id=\"line2d_8\">\r\n      <g>\r\n       <use style=\"stroke:#000000;stroke-width:0.8;\" x=\"179.21047\" xlink:href=\"#maf8b6ec32d\" y=\"224.64\"/>\r\n      </g>\r\n     </g>\r\n     <g id=\"text_4\">\r\n      <!-- 7.5 -->\r\n      <defs>\r\n       <path d=\"M 8.203125 72.90625 \r\nL 55.078125 72.90625 \r\nL 55.078125 68.703125 \r\nL 28.609375 0 \r\nL 18.3125 0 \r\nL 43.21875 64.59375 \r\nL 8.203125 64.59375 \r\nz\r\n\" id=\"DejaVuSans-55\"/>\r\n      </defs>\r\n      <g transform=\"translate(171.258908 239.238437)scale(0.1 -0.1)\">\r\n       <use xlink:href=\"#DejaVuSans-55\"/>\r\n       <use x=\"63.623047\" xlink:href=\"#DejaVuSans-46\"/>\r\n       <use x=\"95.410156\" xlink:href=\"#DejaVuSans-53\"/>\r\n      </g>\r\n     </g>\r\n    </g>\r\n    <g id=\"xtick_5\">\r\n     <g id=\"line2d_9\">\r\n      <path clip-path=\"url(#p314e908768)\" d=\"M 221.719358 224.64 \r\nL 221.719358 7.2 \r\n\" style=\"fill:none;stroke:#b0b0b0;stroke-linecap:square;stroke-width:0.8;\"/>\r\n     </g>\r\n     <g id=\"line2d_10\">\r\n      <g>\r\n       <use style=\"stroke:#000000;stroke-width:0.8;\" x=\"221.719358\" xlink:href=\"#maf8b6ec32d\" y=\"224.64\"/>\r\n      </g>\r\n     </g>\r\n     <g id=\"text_5\">\r\n      <!-- 10.0 -->\r\n      <defs>\r\n       <path d=\"M 12.40625 8.296875 \r\nL 28.515625 8.296875 \r\nL 28.515625 63.921875 \r\nL 10.984375 60.40625 \r\nL 10.984375 69.390625 \r\nL 28.421875 72.90625 \r\nL 38.28125 72.90625 \r\nL 38.28125 8.296875 \r\nL 54.390625 8.296875 \r\nL 54.390625 0 \r\nL 12.40625 0 \r\nz\r\n\" id=\"DejaVuSans-49\"/>\r\n      </defs>\r\n      <g transform=\"translate(210.586545 239.238437)scale(0.1 -0.1)\">\r\n       <use xlink:href=\"#DejaVuSans-49\"/>\r\n       <use x=\"63.623047\" xlink:href=\"#DejaVuSans-48\"/>\r\n       <use x=\"127.246094\" xlink:href=\"#DejaVuSans-46\"/>\r\n       <use x=\"159.033203\" xlink:href=\"#DejaVuSans-48\"/>\r\n      </g>\r\n     </g>\r\n    </g>\r\n    <g id=\"xtick_6\">\r\n     <g id=\"line2d_11\">\r\n      <path clip-path=\"url(#p314e908768)\" d=\"M 264.228246 224.64 \r\nL 264.228246 7.2 \r\n\" style=\"fill:none;stroke:#b0b0b0;stroke-linecap:square;stroke-width:0.8;\"/>\r\n     </g>\r\n     <g id=\"line2d_12\">\r\n      <g>\r\n       <use style=\"stroke:#000000;stroke-width:0.8;\" x=\"264.228246\" xlink:href=\"#maf8b6ec32d\" y=\"224.64\"/>\r\n      </g>\r\n     </g>\r\n     <g id=\"text_6\">\r\n      <!-- 12.5 -->\r\n      <g transform=\"translate(253.095433 239.238437)scale(0.1 -0.1)\">\r\n       <use xlink:href=\"#DejaVuSans-49\"/>\r\n       <use x=\"63.623047\" xlink:href=\"#DejaVuSans-50\"/>\r\n       <use x=\"127.246094\" xlink:href=\"#DejaVuSans-46\"/>\r\n       <use x=\"159.033203\" xlink:href=\"#DejaVuSans-53\"/>\r\n      </g>\r\n     </g>\r\n    </g>\r\n    <g id=\"xtick_7\">\r\n     <g id=\"line2d_13\">\r\n      <path clip-path=\"url(#p314e908768)\" d=\"M 306.737133 224.64 \r\nL 306.737133 7.2 \r\n\" style=\"fill:none;stroke:#b0b0b0;stroke-linecap:square;stroke-width:0.8;\"/>\r\n     </g>\r\n     <g id=\"line2d_14\">\r\n      <g>\r\n       <use style=\"stroke:#000000;stroke-width:0.8;\" x=\"306.737133\" xlink:href=\"#maf8b6ec32d\" y=\"224.64\"/>\r\n      </g>\r\n     </g>\r\n     <g id=\"text_7\">\r\n      <!-- 15.0 -->\r\n      <g transform=\"translate(295.604321 239.238437)scale(0.1 -0.1)\">\r\n       <use xlink:href=\"#DejaVuSans-49\"/>\r\n       <use x=\"63.623047\" xlink:href=\"#DejaVuSans-53\"/>\r\n       <use x=\"127.246094\" xlink:href=\"#DejaVuSans-46\"/>\r\n       <use x=\"159.033203\" xlink:href=\"#DejaVuSans-48\"/>\r\n      </g>\r\n     </g>\r\n    </g>\r\n    <g id=\"xtick_8\">\r\n     <g id=\"line2d_15\">\r\n      <path clip-path=\"url(#p314e908768)\" d=\"M 349.246021 224.64 \r\nL 349.246021 7.2 \r\n\" style=\"fill:none;stroke:#b0b0b0;stroke-linecap:square;stroke-width:0.8;\"/>\r\n     </g>\r\n     <g id=\"line2d_16\">\r\n      <g>\r\n       <use style=\"stroke:#000000;stroke-width:0.8;\" x=\"349.246021\" xlink:href=\"#maf8b6ec32d\" y=\"224.64\"/>\r\n      </g>\r\n     </g>\r\n     <g id=\"text_8\">\r\n      <!-- 17.5 -->\r\n      <g transform=\"translate(338.113209 239.238437)scale(0.1 -0.1)\">\r\n       <use xlink:href=\"#DejaVuSans-49\"/>\r\n       <use x=\"63.623047\" xlink:href=\"#DejaVuSans-55\"/>\r\n       <use x=\"127.246094\" xlink:href=\"#DejaVuSans-46\"/>\r\n       <use x=\"159.033203\" xlink:href=\"#DejaVuSans-53\"/>\r\n      </g>\r\n     </g>\r\n    </g>\r\n   </g>\r\n   <g id=\"matplotlib.axis_2\">\r\n    <g id=\"ytick_1\">\r\n     <g id=\"line2d_17\">\r\n      <path clip-path=\"url(#p314e908768)\" d=\"M 36.465625 224.64 \r\nL 371.265625 224.64 \r\n\" style=\"fill:none;stroke:#b0b0b0;stroke-linecap:square;stroke-width:0.8;\"/>\r\n     </g>\r\n     <g id=\"line2d_18\">\r\n      <defs>\r\n       <path d=\"M 0 0 \r\nL -3.5 0 \r\n\" id=\"m9fd60d995b\" style=\"stroke:#000000;stroke-width:0.8;\"/>\r\n      </defs>\r\n      <g>\r\n       <use style=\"stroke:#000000;stroke-width:0.8;\" x=\"36.465625\" xlink:href=\"#m9fd60d995b\" y=\"224.64\"/>\r\n      </g>\r\n     </g>\r\n     <g id=\"text_9\">\r\n      <!-- 0.0 -->\r\n      <g transform=\"translate(13.5625 228.439219)scale(0.1 -0.1)\">\r\n       <use xlink:href=\"#DejaVuSans-48\"/>\r\n       <use x=\"63.623047\" xlink:href=\"#DejaVuSans-46\"/>\r\n       <use x=\"95.410156\" xlink:href=\"#DejaVuSans-48\"/>\r\n      </g>\r\n     </g>\r\n    </g>\r\n    <g id=\"ytick_2\">\r\n     <g id=\"line2d_19\">\r\n      <path clip-path=\"url(#p314e908768)\" d=\"M 36.465625 198.754286 \r\nL 371.265625 198.754286 \r\n\" style=\"fill:none;stroke:#b0b0b0;stroke-linecap:square;stroke-width:0.8;\"/>\r\n     </g>\r\n     <g id=\"line2d_20\">\r\n      <g>\r\n       <use style=\"stroke:#000000;stroke-width:0.8;\" x=\"36.465625\" xlink:href=\"#m9fd60d995b\" y=\"198.754286\"/>\r\n      </g>\r\n     </g>\r\n     <g id=\"text_10\">\r\n      <!-- 2.5 -->\r\n      <g transform=\"translate(13.5625 202.553504)scale(0.1 -0.1)\">\r\n       <use xlink:href=\"#DejaVuSans-50\"/>\r\n       <use x=\"63.623047\" xlink:href=\"#DejaVuSans-46\"/>\r\n       <use x=\"95.410156\" xlink:href=\"#DejaVuSans-53\"/>\r\n      </g>\r\n     </g>\r\n    </g>\r\n    <g id=\"ytick_3\">\r\n     <g id=\"line2d_21\">\r\n      <path clip-path=\"url(#p314e908768)\" d=\"M 36.465625 172.868571 \r\nL 371.265625 172.868571 \r\n\" style=\"fill:none;stroke:#b0b0b0;stroke-linecap:square;stroke-width:0.8;\"/>\r\n     </g>\r\n     <g id=\"line2d_22\">\r\n      <g>\r\n       <use style=\"stroke:#000000;stroke-width:0.8;\" x=\"36.465625\" xlink:href=\"#m9fd60d995b\" y=\"172.868571\"/>\r\n      </g>\r\n     </g>\r\n     <g id=\"text_11\">\r\n      <!-- 5.0 -->\r\n      <g transform=\"translate(13.5625 176.66779)scale(0.1 -0.1)\">\r\n       <use xlink:href=\"#DejaVuSans-53\"/>\r\n       <use x=\"63.623047\" xlink:href=\"#DejaVuSans-46\"/>\r\n       <use x=\"95.410156\" xlink:href=\"#DejaVuSans-48\"/>\r\n      </g>\r\n     </g>\r\n    </g>\r\n    <g id=\"ytick_4\">\r\n     <g id=\"line2d_23\">\r\n      <path clip-path=\"url(#p314e908768)\" d=\"M 36.465625 146.982857 \r\nL 371.265625 146.982857 \r\n\" style=\"fill:none;stroke:#b0b0b0;stroke-linecap:square;stroke-width:0.8;\"/>\r\n     </g>\r\n     <g id=\"line2d_24\">\r\n      <g>\r\n       <use style=\"stroke:#000000;stroke-width:0.8;\" x=\"36.465625\" xlink:href=\"#m9fd60d995b\" y=\"146.982857\"/>\r\n      </g>\r\n     </g>\r\n     <g id=\"text_12\">\r\n      <!-- 7.5 -->\r\n      <g transform=\"translate(13.5625 150.782076)scale(0.1 -0.1)\">\r\n       <use xlink:href=\"#DejaVuSans-55\"/>\r\n       <use x=\"63.623047\" xlink:href=\"#DejaVuSans-46\"/>\r\n       <use x=\"95.410156\" xlink:href=\"#DejaVuSans-53\"/>\r\n      </g>\r\n     </g>\r\n    </g>\r\n    <g id=\"ytick_5\">\r\n     <g id=\"line2d_25\">\r\n      <path clip-path=\"url(#p314e908768)\" d=\"M 36.465625 121.097143 \r\nL 371.265625 121.097143 \r\n\" style=\"fill:none;stroke:#b0b0b0;stroke-linecap:square;stroke-width:0.8;\"/>\r\n     </g>\r\n     <g id=\"line2d_26\">\r\n      <g>\r\n       <use style=\"stroke:#000000;stroke-width:0.8;\" x=\"36.465625\" xlink:href=\"#m9fd60d995b\" y=\"121.097143\"/>\r\n      </g>\r\n     </g>\r\n     <g id=\"text_13\">\r\n      <!-- 10.0 -->\r\n      <g transform=\"translate(7.2 124.896362)scale(0.1 -0.1)\">\r\n       <use xlink:href=\"#DejaVuSans-49\"/>\r\n       <use x=\"63.623047\" xlink:href=\"#DejaVuSans-48\"/>\r\n       <use x=\"127.246094\" xlink:href=\"#DejaVuSans-46\"/>\r\n       <use x=\"159.033203\" xlink:href=\"#DejaVuSans-48\"/>\r\n      </g>\r\n     </g>\r\n    </g>\r\n    <g id=\"ytick_6\">\r\n     <g id=\"line2d_27\">\r\n      <path clip-path=\"url(#p314e908768)\" d=\"M 36.465625 95.211429 \r\nL 371.265625 95.211429 \r\n\" style=\"fill:none;stroke:#b0b0b0;stroke-linecap:square;stroke-width:0.8;\"/>\r\n     </g>\r\n     <g id=\"line2d_28\">\r\n      <g>\r\n       <use style=\"stroke:#000000;stroke-width:0.8;\" x=\"36.465625\" xlink:href=\"#m9fd60d995b\" y=\"95.211429\"/>\r\n      </g>\r\n     </g>\r\n     <g id=\"text_14\">\r\n      <!-- 12.5 -->\r\n      <g transform=\"translate(7.2 99.010647)scale(0.1 -0.1)\">\r\n       <use xlink:href=\"#DejaVuSans-49\"/>\r\n       <use x=\"63.623047\" xlink:href=\"#DejaVuSans-50\"/>\r\n       <use x=\"127.246094\" xlink:href=\"#DejaVuSans-46\"/>\r\n       <use x=\"159.033203\" xlink:href=\"#DejaVuSans-53\"/>\r\n      </g>\r\n     </g>\r\n    </g>\r\n    <g id=\"ytick_7\">\r\n     <g id=\"line2d_29\">\r\n      <path clip-path=\"url(#p314e908768)\" d=\"M 36.465625 69.325714 \r\nL 371.265625 69.325714 \r\n\" style=\"fill:none;stroke:#b0b0b0;stroke-linecap:square;stroke-width:0.8;\"/>\r\n     </g>\r\n     <g id=\"line2d_30\">\r\n      <g>\r\n       <use style=\"stroke:#000000;stroke-width:0.8;\" x=\"36.465625\" xlink:href=\"#m9fd60d995b\" y=\"69.325714\"/>\r\n      </g>\r\n     </g>\r\n     <g id=\"text_15\">\r\n      <!-- 15.0 -->\r\n      <g transform=\"translate(7.2 73.124933)scale(0.1 -0.1)\">\r\n       <use xlink:href=\"#DejaVuSans-49\"/>\r\n       <use x=\"63.623047\" xlink:href=\"#DejaVuSans-53\"/>\r\n       <use x=\"127.246094\" xlink:href=\"#DejaVuSans-46\"/>\r\n       <use x=\"159.033203\" xlink:href=\"#DejaVuSans-48\"/>\r\n      </g>\r\n     </g>\r\n    </g>\r\n    <g id=\"ytick_8\">\r\n     <g id=\"line2d_31\">\r\n      <path clip-path=\"url(#p314e908768)\" d=\"M 36.465625 43.44 \r\nL 371.265625 43.44 \r\n\" style=\"fill:none;stroke:#b0b0b0;stroke-linecap:square;stroke-width:0.8;\"/>\r\n     </g>\r\n     <g id=\"line2d_32\">\r\n      <g>\r\n       <use style=\"stroke:#000000;stroke-width:0.8;\" x=\"36.465625\" xlink:href=\"#m9fd60d995b\" y=\"43.44\"/>\r\n      </g>\r\n     </g>\r\n     <g id=\"text_16\">\r\n      <!-- 17.5 -->\r\n      <g transform=\"translate(7.2 47.239219)scale(0.1 -0.1)\">\r\n       <use xlink:href=\"#DejaVuSans-49\"/>\r\n       <use x=\"63.623047\" xlink:href=\"#DejaVuSans-55\"/>\r\n       <use x=\"127.246094\" xlink:href=\"#DejaVuSans-46\"/>\r\n       <use x=\"159.033203\" xlink:href=\"#DejaVuSans-53\"/>\r\n      </g>\r\n     </g>\r\n    </g>\r\n    <g id=\"ytick_9\">\r\n     <g id=\"line2d_33\">\r\n      <path clip-path=\"url(#p314e908768)\" d=\"M 36.465625 17.554286 \r\nL 371.265625 17.554286 \r\n\" style=\"fill:none;stroke:#b0b0b0;stroke-linecap:square;stroke-width:0.8;\"/>\r\n     </g>\r\n     <g id=\"line2d_34\">\r\n      <g>\r\n       <use style=\"stroke:#000000;stroke-width:0.8;\" x=\"36.465625\" xlink:href=\"#m9fd60d995b\" y=\"17.554286\"/>\r\n      </g>\r\n     </g>\r\n     <g id=\"text_17\">\r\n      <!-- 20.0 -->\r\n      <g transform=\"translate(7.2 21.353504)scale(0.1 -0.1)\">\r\n       <use xlink:href=\"#DejaVuSans-50\"/>\r\n       <use x=\"63.623047\" xlink:href=\"#DejaVuSans-48\"/>\r\n       <use x=\"127.246094\" xlink:href=\"#DejaVuSans-46\"/>\r\n       <use x=\"159.033203\" xlink:href=\"#DejaVuSans-48\"/>\r\n      </g>\r\n     </g>\r\n    </g>\r\n   </g>\r\n   <g id=\"patch_13\">\r\n    <path d=\"M 36.465625 224.64 \r\nL 36.465625 7.2 \r\n\" style=\"fill:none;stroke:#000000;stroke-linecap:square;stroke-linejoin:miter;stroke-width:0.8;\"/>\r\n   </g>\r\n   <g id=\"patch_14\">\r\n    <path d=\"M 371.265625 224.64 \r\nL 371.265625 7.2 \r\n\" style=\"fill:none;stroke:#000000;stroke-linecap:square;stroke-linejoin:miter;stroke-width:0.8;\"/>\r\n   </g>\r\n   <g id=\"patch_15\">\r\n    <path d=\"M 36.465625 224.64 \r\nL 371.265625 224.64 \r\n\" style=\"fill:none;stroke:#000000;stroke-linecap:square;stroke-linejoin:miter;stroke-width:0.8;\"/>\r\n   </g>\r\n   <g id=\"patch_16\">\r\n    <path d=\"M 36.465625 7.2 \r\nL 371.265625 7.2 \r\n\" style=\"fill:none;stroke:#000000;stroke-linecap:square;stroke-linejoin:miter;stroke-width:0.8;\"/>\r\n   </g>\r\n  </g>\r\n </g>\r\n <defs>\r\n  <clipPath id=\"p314e908768\">\r\n   <rect height=\"217.44\" width=\"334.8\" x=\"36.465625\" y=\"7.2\"/>\r\n  </clipPath>\r\n </defs>\r\n</svg>\r\n",
      "image/png": "[encoded data removed]"
     },
     "metadata": {
      "needs_background": "light"
     }
    }
   ],
   "source": [
    "def_df.ptPerMil.hist()"
   ]
  },
  {
   "cell_type": "code",
   "execution_count": 35,
   "metadata": {},
   "outputs": [
    {
     "output_type": "execute_result",
     "data": {
      "text/plain": [
       "          web_name team selected_by_percent  now_cost  minutes  goals_scored  \\\n",
       "50         Targett  AVL                 7.3        47     1694             0   \n",
       "588      Cresswell  WHU                21.1        55     1890             0   \n",
       "294         Dallas  LEE                13.4        48     1790             4   \n",
       "496       Bednarek  SOU                12.4        49     1710             1   \n",
       "377           Dias  MCI                18.3        60     1599             0   \n",
       "280         Justin  LEI                26.8        51     1890             1   \n",
       "14         Holding  ARS                 5.6        45     1575             0   \n",
       "585        Ogbonna  WHU                 2.9        50     1862             2   \n",
       "54           Konsa  AVL                 5.2        46     1485             2   \n",
       "495  Walker-Peters  SOU                 8.0        47     1620             0   \n",
       "\n",
       "     assists  bps  clean_sheets  form  total_points  direct_freekicks_order  \\\n",
       "50         3  385            11   7.0            84                     6.0   \n",
       "588        8  453             7   4.8            96                     1.0   \n",
       "294        2  389             6   3.7            82                     NaN   \n",
       "496        1  397             8   2.8            83                     NaN   \n",
       "377        1  401            12   6.8            91                     NaN   \n",
       "280        2  381             7   3.4            77                     NaN   \n",
       "14         1  343             8   6.4            68                     NaN   \n",
       "585        0  341             7   2.2            75                     NaN   \n",
       "54         0  295             7   4.0            69                     NaN   \n",
       "495        2  354             8   1.8            70                     NaN   \n",
       "\n",
       "     penalties_order position  ptPerMil  formPerMil  net_transfers  \\\n",
       "50               NaN      DEF      17.9         1.5         475906   \n",
       "588              NaN      DEF      17.5         0.9        1476943   \n",
       "294              NaN      DEF      17.1         0.8         686745   \n",
       "496              NaN      DEF      16.9         0.6         723495   \n",
       "377              NaN      DEF      15.2         1.1        1375097   \n",
       "280              NaN      DEF      15.1         0.7        1123357   \n",
       "14               NaN      DEF      15.1         1.4         310207   \n",
       "585              NaN      DEF      15.0         0.4         171216   \n",
       "54               NaN      DEF      15.0         0.9         280921   \n",
       "495              NaN      DEF      14.9         0.4        -226419   \n",
       "\n",
       "     net_transfers_event  \n",
       "50                 61417  \n",
       "588                85668  \n",
       "294                30748  \n",
       "496               -17501  \n",
       "377               144411  \n",
       "280                17694  \n",
       "14                 44454  \n",
       "585                -4636  \n",
       "54                  -554  \n",
       "495               -91487  "
      ],
      "text/html": "<div>\n<style scoped>\n    .dataframe tbody tr th:only-of-type {\n        vertical-align: middle;\n    }\n\n    .dataframe tbody tr th {\n        vertical-align: top;\n    }\n\n    .dataframe thead th {\n        text-align: right;\n    }\n</style>\n<table border=\"1\" class=\"dataframe\">\n  <thead>\n    <tr style=\"text-align: right;\">\n      <th></th>\n      <th>web_name</th>\n      <th>team</th>\n      <th>selected_by_percent</th>\n      <th>now_cost</th>\n      <th>minutes</th>\n      <th>goals_scored</th>\n      <th>assists</th>\n      <th>bps</th>\n      <th>clean_sheets</th>\n      <th>form</th>\n      <th>total_points</th>\n      <th>direct_freekicks_order</th>\n      <th>penalties_order</th>\n      <th>position</th>\n      <th>ptPerMil</th>\n      <th>formPerMil</th>\n      <th>net_transfers</th>\n      <th>net_transfers_event</th>\n    </tr>\n  </thead>\n  <tbody>\n    <tr>\n      <td>50</td>\n      <td>Targett</td>\n      <td>AVL</td>\n      <td>7.3</td>\n      <td>47</td>\n      <td>1694</td>\n      <td>0</td>\n      <td>3</td>\n      <td>385</td>\n      <td>11</td>\n      <td>7.0</td>\n      <td>84</td>\n      <td>6.0</td>\n      <td>NaN</td>\n      <td>DEF</td>\n      <td>17.9</td>\n      <td>1.5</td>\n      <td>475906</td>\n      <td>61417</td>\n    </tr>\n    <tr>\n      <td>588</td>\n      <td>Cresswell</td>\n      <td>WHU</td>\n      <td>21.1</td>\n      <td>55</td>\n      <td>1890</td>\n      <td>0</td>\n      <td>8</td>\n      <td>453</td>\n      <td>7</td>\n      <td>4.8</td>\n      <td>96</td>\n      <td>1.0</td>\n      <td>NaN</td>\n      <td>DEF</td>\n      <td>17.5</td>\n      <td>0.9</td>\n      <td>1476943</td>\n      <td>85668</td>\n    </tr>\n    <tr>\n      <td>294</td>\n      <td>Dallas</td>\n      <td>LEE</td>\n      <td>13.4</td>\n      <td>48</td>\n      <td>1790</td>\n      <td>4</td>\n      <td>2</td>\n      <td>389</td>\n      <td>6</td>\n      <td>3.7</td>\n      <td>82</td>\n      <td>NaN</td>\n      <td>NaN</td>\n      <td>DEF</td>\n      <td>17.1</td>\n      <td>0.8</td>\n      <td>686745</td>\n      <td>30748</td>\n    </tr>\n    <tr>\n      <td>496</td>\n      <td>Bednarek</td>\n      <td>SOU</td>\n      <td>12.4</td>\n      <td>49</td>\n      <td>1710</td>\n      <td>1</td>\n      <td>1</td>\n      <td>397</td>\n      <td>8</td>\n      <td>2.8</td>\n      <td>83</td>\n      <td>NaN</td>\n      <td>NaN</td>\n      <td>DEF</td>\n      <td>16.9</td>\n      <td>0.6</td>\n      <td>723495</td>\n      <td>-17501</td>\n    </tr>\n    <tr>\n      <td>377</td>\n      <td>Dias</td>\n      <td>MCI</td>\n      <td>18.3</td>\n      <td>60</td>\n      <td>1599</td>\n      <td>0</td>\n      <td>1</td>\n      <td>401</td>\n      <td>12</td>\n      <td>6.8</td>\n      <td>91</td>\n      <td>NaN</td>\n      <td>NaN</td>\n      <td>DEF</td>\n      <td>15.2</td>\n      <td>1.1</td>\n      <td>1375097</td>\n      <td>144411</td>\n    </tr>\n    <tr>\n      <td>280</td>\n      <td>Justin</td>\n      <td>LEI</td>\n      <td>26.8</td>\n      <td>51</td>\n      <td>1890</td>\n      <td>1</td>\n      <td>2</td>\n      <td>381</td>\n      <td>7</td>\n      <td>3.4</td>\n      <td>77</td>\n      <td>NaN</td>\n      <td>NaN</td>\n      <td>DEF</td>\n      <td>15.1</td>\n      <td>0.7</td>\n      <td>1123357</td>\n      <td>17694</td>\n    </tr>\n    <tr>\n      <td>14</td>\n      <td>Holding</td>\n      <td>ARS</td>\n      <td>5.6</td>\n      <td>45</td>\n      <td>1575</td>\n      <td>0</td>\n      <td>1</td>\n      <td>343</td>\n      <td>8</td>\n      <td>6.4</td>\n      <td>68</td>\n      <td>NaN</td>\n      <td>NaN</td>\n      <td>DEF</td>\n      <td>15.1</td>\n      <td>1.4</td>\n      <td>310207</td>\n      <td>44454</td>\n    </tr>\n    <tr>\n      <td>585</td>\n      <td>Ogbonna</td>\n      <td>WHU</td>\n      <td>2.9</td>\n      <td>50</td>\n      <td>1862</td>\n      <td>2</td>\n      <td>0</td>\n      <td>341</td>\n      <td>7</td>\n      <td>2.2</td>\n      <td>75</td>\n      <td>NaN</td>\n      <td>NaN</td>\n      <td>DEF</td>\n      <td>15.0</td>\n      <td>0.4</td>\n      <td>171216</td>\n      <td>-4636</td>\n    </tr>\n    <tr>\n      <td>54</td>\n      <td>Konsa</td>\n      <td>AVL</td>\n      <td>5.2</td>\n      <td>46</td>\n      <td>1485</td>\n      <td>2</td>\n      <td>0</td>\n      <td>295</td>\n      <td>7</td>\n      <td>4.0</td>\n      <td>69</td>\n      <td>NaN</td>\n      <td>NaN</td>\n      <td>DEF</td>\n      <td>15.0</td>\n      <td>0.9</td>\n      <td>280921</td>\n      <td>-554</td>\n    </tr>\n    <tr>\n      <td>495</td>\n      <td>Walker-Peters</td>\n      <td>SOU</td>\n      <td>8.0</td>\n      <td>47</td>\n      <td>1620</td>\n      <td>0</td>\n      <td>2</td>\n      <td>354</td>\n      <td>8</td>\n      <td>1.8</td>\n      <td>70</td>\n      <td>NaN</td>\n      <td>NaN</td>\n      <td>DEF</td>\n      <td>14.9</td>\n      <td>0.4</td>\n      <td>-226419</td>\n      <td>-91487</td>\n    </tr>\n  </tbody>\n</table>\n</div>"
     },
     "metadata": {},
     "execution_count": 35
    }
   ],
   "source": [
    "def_df.sort_values('ptPerMil',ascending=False).head(10)"
   ]
  },
  {
   "cell_type": "code",
   "execution_count": 36,
   "metadata": {},
   "outputs": [
    {
     "output_type": "execute_result",
     "data": {
      "text/plain": [
       "<matplotlib.axes._subplots.AxesSubplot at 0x1f4cfdc9a48>"
      ]
     },
     "metadata": {},
     "execution_count": 36
    },
    {
     "output_type": "display_data",
     "data": {
      "text/plain": "<Figure size 432x288 with 1 Axes>",
      "image/svg+xml": "<?xml version=\"1.0\" encoding=\"utf-8\" standalone=\"no\"?>\r\n<!DOCTYPE svg PUBLIC \"-//W3C//DTD SVG 1.1//EN\"\r\n  \"http://www.w3.org/Graphics/SVG/1.1/DTD/svg11.dtd\">\r\n<!-- Created with matplotlib (https://matplotlib.org/) -->\r\n<svg height=\"248.518125pt\" version=\"1.1\" viewBox=\"0 0 368.925 248.518125\" width=\"368.925pt\" xmlns=\"http://www.w3.org/2000/svg\" xmlns:xlink=\"http://www.w3.org/1999/xlink\">\r\n <defs>\r\n  <style type=\"text/css\">\r\n*{stroke-linecap:butt;stroke-linejoin:round;}\r\n  </style>\r\n </defs>\r\n <g id=\"figure_1\">\r\n  <g id=\"patch_1\">\r\n   <path d=\"M -0 248.518125 \r\nL 368.925 248.518125 \r\nL 368.925 0 \r\nL -0 0 \r\nz\r\n\" style=\"fill:none;\"/>\r\n  </g>\r\n  <g id=\"axes_1\">\r\n   <g id=\"patch_2\">\r\n    <path d=\"M 26.925 224.64 \r\nL 361.725 224.64 \r\nL 361.725 7.2 \r\nL 26.925 7.2 \r\nz\r\n\" style=\"fill:#ffffff;\"/>\r\n   </g>\r\n   <g id=\"patch_3\">\r\n    <path clip-path=\"url(#pe528fc36c9)\" d=\"M 42.143182 224.64 \r\nL 72.579545 224.64 \r\nL 72.579545 17.554286 \r\nL 42.143182 17.554286 \r\nz\r\n\" style=\"fill:#1f77b4;\"/>\r\n   </g>\r\n   <g id=\"patch_4\">\r\n    <path clip-path=\"url(#pe528fc36c9)\" d=\"M 72.579545 224.64 \r\nL 103.015909 224.64 \r\nL 103.015909 52.068571 \r\nL 72.579545 52.068571 \r\nz\r\n\" style=\"fill:#1f77b4;\"/>\r\n   </g>\r\n   <g id=\"patch_5\">\r\n    <path clip-path=\"url(#pe528fc36c9)\" d=\"M 103.015909 224.64 \r\nL 133.452273 224.64 \r\nL 133.452273 24.457143 \r\nL 103.015909 24.457143 \r\nz\r\n\" style=\"fill:#1f77b4;\"/>\r\n   </g>\r\n   <g id=\"patch_6\">\r\n    <path clip-path=\"url(#pe528fc36c9)\" d=\"M 133.452273 224.64 \r\nL 163.888636 224.64 \r\nL 163.888636 65.874286 \r\nL 133.452273 65.874286 \r\nz\r\n\" style=\"fill:#1f77b4;\"/>\r\n   </g>\r\n   <g id=\"patch_7\">\r\n    <path clip-path=\"url(#pe528fc36c9)\" d=\"M 163.888636 224.64 \r\nL 194.325 224.64 \r\nL 194.325 72.777143 \r\nL 163.888636 72.777143 \r\nz\r\n\" style=\"fill:#1f77b4;\"/>\r\n   </g>\r\n   <g id=\"patch_8\">\r\n    <path clip-path=\"url(#pe528fc36c9)\" d=\"M 194.325 224.64 \r\nL 224.761364 224.64 \r\nL 224.761364 79.68 \r\nL 194.325 79.68 \r\nz\r\n\" style=\"fill:#1f77b4;\"/>\r\n   </g>\r\n   <g id=\"patch_9\">\r\n    <path clip-path=\"url(#pe528fc36c9)\" d=\"M 224.761364 224.64 \r\nL 255.197727 224.64 \r\nL 255.197727 155.611429 \r\nL 224.761364 155.611429 \r\nz\r\n\" style=\"fill:#1f77b4;\"/>\r\n   </g>\r\n   <g id=\"patch_10\">\r\n    <path clip-path=\"url(#pe528fc36c9)\" d=\"M 255.197727 224.64 \r\nL 285.634091 224.64 \r\nL 285.634091 162.514286 \r\nL 255.197727 162.514286 \r\nz\r\n\" style=\"fill:#1f77b4;\"/>\r\n   </g>\r\n   <g id=\"patch_11\">\r\n    <path clip-path=\"url(#pe528fc36c9)\" d=\"M 285.634091 224.64 \r\nL 316.070455 224.64 \r\nL 316.070455 197.028571 \r\nL 285.634091 197.028571 \r\nz\r\n\" style=\"fill:#1f77b4;\"/>\r\n   </g>\r\n   <g id=\"patch_12\">\r\n    <path clip-path=\"url(#pe528fc36c9)\" d=\"M 316.070455 224.64 \r\nL 346.506818 224.64 \r\nL 346.506818 217.737143 \r\nL 316.070455 217.737143 \r\nz\r\n\" style=\"fill:#1f77b4;\"/>\r\n   </g>\r\n   <g id=\"matplotlib.axis_1\">\r\n    <g id=\"xtick_1\">\r\n     <g id=\"line2d_1\">\r\n      <path clip-path=\"url(#pe528fc36c9)\" d=\"M 65.281938 224.64 \r\nL 65.281938 7.2 \r\n\" style=\"fill:none;stroke:#b0b0b0;stroke-linecap:square;stroke-width:0.8;\"/>\r\n     </g>\r\n     <g id=\"line2d_2\">\r\n      <defs>\r\n       <path d=\"M 0 0 \r\nL 0 3.5 \r\n\" id=\"m169d9eecd5\" style=\"stroke:#000000;stroke-width:0.8;\"/>\r\n      </defs>\r\n      <g>\r\n       <use style=\"stroke:#000000;stroke-width:0.8;\" x=\"65.281938\" xlink:href=\"#m169d9eecd5\" y=\"224.64\"/>\r\n      </g>\r\n     </g>\r\n     <g id=\"text_1\">\r\n      <!-- 2.5 -->\r\n      <defs>\r\n       <path d=\"M 19.1875 8.296875 \r\nL 53.609375 8.296875 \r\nL 53.609375 0 \r\nL 7.328125 0 \r\nL 7.328125 8.296875 \r\nQ 12.9375 14.109375 22.625 23.890625 \r\nQ 32.328125 33.6875 34.8125 36.53125 \r\nQ 39.546875 41.84375 41.421875 45.53125 \r\nQ 43.3125 49.21875 43.3125 52.78125 \r\nQ 43.3125 58.59375 39.234375 62.25 \r\nQ 35.15625 65.921875 28.609375 65.921875 \r\nQ 23.96875 65.921875 18.8125 64.3125 \r\nQ 13.671875 62.703125 7.8125 59.421875 \r\nL 7.8125 69.390625 \r\nQ 13.765625 71.78125 18.9375 73 \r\nQ 24.125 74.21875 28.421875 74.21875 \r\nQ 39.75 74.21875 46.484375 68.546875 \r\nQ 53.21875 62.890625 53.21875 53.421875 \r\nQ 53.21875 48.921875 51.53125 44.890625 \r\nQ 49.859375 40.875 45.40625 35.40625 \r\nQ 44.1875 33.984375 37.640625 27.21875 \r\nQ 31.109375 20.453125 19.1875 8.296875 \r\nz\r\n\" id=\"DejaVuSans-50\"/>\r\n       <path d=\"M 10.6875 12.40625 \r\nL 21 12.40625 \r\nL 21 0 \r\nL 10.6875 0 \r\nz\r\n\" id=\"DejaVuSans-46\"/>\r\n       <path d=\"M 10.796875 72.90625 \r\nL 49.515625 72.90625 \r\nL 49.515625 64.59375 \r\nL 19.828125 64.59375 \r\nL 19.828125 46.734375 \r\nQ 21.96875 47.46875 24.109375 47.828125 \r\nQ 26.265625 48.1875 28.421875 48.1875 \r\nQ 40.625 48.1875 47.75 41.5 \r\nQ 54.890625 34.8125 54.890625 23.390625 \r\nQ 54.890625 11.625 47.5625 5.09375 \r\nQ 40.234375 -1.421875 26.90625 -1.421875 \r\nQ 22.3125 -1.421875 17.546875 -0.640625 \r\nQ 12.796875 0.140625 7.71875 1.703125 \r\nL 7.71875 11.625 \r\nQ 12.109375 9.234375 16.796875 8.0625 \r\nQ 21.484375 6.890625 26.703125 6.890625 \r\nQ 35.15625 6.890625 40.078125 11.328125 \r\nQ 45.015625 15.765625 45.015625 23.390625 \r\nQ 45.015625 31 40.078125 35.4375 \r\nQ 35.15625 39.890625 26.703125 39.890625 \r\nQ 22.75 39.890625 18.8125 39.015625 \r\nQ 14.890625 38.140625 10.796875 36.28125 \r\nz\r\n\" id=\"DejaVuSans-53\"/>\r\n      </defs>\r\n      <g transform=\"translate(57.330375 239.238437)scale(0.1 -0.1)\">\r\n       <use xlink:href=\"#DejaVuSans-50\"/>\r\n       <use x=\"63.623047\" xlink:href=\"#DejaVuSans-46\"/>\r\n       <use x=\"95.410156\" xlink:href=\"#DejaVuSans-53\"/>\r\n      </g>\r\n     </g>\r\n    </g>\r\n    <g id=\"xtick_2\">\r\n     <g id=\"line2d_3\">\r\n      <path clip-path=\"url(#pe528fc36c9)\" d=\"M 109.779545 224.64 \r\nL 109.779545 7.2 \r\n\" style=\"fill:none;stroke:#b0b0b0;stroke-linecap:square;stroke-width:0.8;\"/>\r\n     </g>\r\n     <g id=\"line2d_4\">\r\n      <g>\r\n       <use style=\"stroke:#000000;stroke-width:0.8;\" x=\"109.779545\" xlink:href=\"#m169d9eecd5\" y=\"224.64\"/>\r\n      </g>\r\n     </g>\r\n     <g id=\"text_2\">\r\n      <!-- 5.0 -->\r\n      <defs>\r\n       <path d=\"M 31.78125 66.40625 \r\nQ 24.171875 66.40625 20.328125 58.90625 \r\nQ 16.5 51.421875 16.5 36.375 \r\nQ 16.5 21.390625 20.328125 13.890625 \r\nQ 24.171875 6.390625 31.78125 6.390625 \r\nQ 39.453125 6.390625 43.28125 13.890625 \r\nQ 47.125 21.390625 47.125 36.375 \r\nQ 47.125 51.421875 43.28125 58.90625 \r\nQ 39.453125 66.40625 31.78125 66.40625 \r\nz\r\nM 31.78125 74.21875 \r\nQ 44.046875 74.21875 50.515625 64.515625 \r\nQ 56.984375 54.828125 56.984375 36.375 \r\nQ 56.984375 17.96875 50.515625 8.265625 \r\nQ 44.046875 -1.421875 31.78125 -1.421875 \r\nQ 19.53125 -1.421875 13.0625 8.265625 \r\nQ 6.59375 17.96875 6.59375 36.375 \r\nQ 6.59375 54.828125 13.0625 64.515625 \r\nQ 19.53125 74.21875 31.78125 74.21875 \r\nz\r\n\" id=\"DejaVuSans-48\"/>\r\n      </defs>\r\n      <g transform=\"translate(101.827983 239.238437)scale(0.1 -0.1)\">\r\n       <use xlink:href=\"#DejaVuSans-53\"/>\r\n       <use x=\"63.623047\" xlink:href=\"#DejaVuSans-46\"/>\r\n       <use x=\"95.410156\" xlink:href=\"#DejaVuSans-48\"/>\r\n      </g>\r\n     </g>\r\n    </g>\r\n    <g id=\"xtick_3\">\r\n     <g id=\"line2d_5\">\r\n      <path clip-path=\"url(#pe528fc36c9)\" d=\"M 154.277153 224.64 \r\nL 154.277153 7.2 \r\n\" style=\"fill:none;stroke:#b0b0b0;stroke-linecap:square;stroke-width:0.8;\"/>\r\n     </g>\r\n     <g id=\"line2d_6\">\r\n      <g>\r\n       <use style=\"stroke:#000000;stroke-width:0.8;\" x=\"154.277153\" xlink:href=\"#m169d9eecd5\" y=\"224.64\"/>\r\n      </g>\r\n     </g>\r\n     <g id=\"text_3\">\r\n      <!-- 7.5 -->\r\n      <defs>\r\n       <path d=\"M 8.203125 72.90625 \r\nL 55.078125 72.90625 \r\nL 55.078125 68.703125 \r\nL 28.609375 0 \r\nL 18.3125 0 \r\nL 43.21875 64.59375 \r\nL 8.203125 64.59375 \r\nz\r\n\" id=\"DejaVuSans-55\"/>\r\n      </defs>\r\n      <g transform=\"translate(146.325591 239.238437)scale(0.1 -0.1)\">\r\n       <use xlink:href=\"#DejaVuSans-55\"/>\r\n       <use x=\"63.623047\" xlink:href=\"#DejaVuSans-46\"/>\r\n       <use x=\"95.410156\" xlink:href=\"#DejaVuSans-53\"/>\r\n      </g>\r\n     </g>\r\n    </g>\r\n    <g id=\"xtick_4\">\r\n     <g id=\"line2d_7\">\r\n      <path clip-path=\"url(#pe528fc36c9)\" d=\"M 198.774761 224.64 \r\nL 198.774761 7.2 \r\n\" style=\"fill:none;stroke:#b0b0b0;stroke-linecap:square;stroke-width:0.8;\"/>\r\n     </g>\r\n     <g id=\"line2d_8\">\r\n      <g>\r\n       <use style=\"stroke:#000000;stroke-width:0.8;\" x=\"198.774761\" xlink:href=\"#m169d9eecd5\" y=\"224.64\"/>\r\n      </g>\r\n     </g>\r\n     <g id=\"text_4\">\r\n      <!-- 10.0 -->\r\n      <defs>\r\n       <path d=\"M 12.40625 8.296875 \r\nL 28.515625 8.296875 \r\nL 28.515625 63.921875 \r\nL 10.984375 60.40625 \r\nL 10.984375 69.390625 \r\nL 28.421875 72.90625 \r\nL 38.28125 72.90625 \r\nL 38.28125 8.296875 \r\nL 54.390625 8.296875 \r\nL 54.390625 0 \r\nL 12.40625 0 \r\nz\r\n\" id=\"DejaVuSans-49\"/>\r\n      </defs>\r\n      <g transform=\"translate(187.641948 239.238437)scale(0.1 -0.1)\">\r\n       <use xlink:href=\"#DejaVuSans-49\"/>\r\n       <use x=\"63.623047\" xlink:href=\"#DejaVuSans-48\"/>\r\n       <use x=\"127.246094\" xlink:href=\"#DejaVuSans-46\"/>\r\n       <use x=\"159.033203\" xlink:href=\"#DejaVuSans-48\"/>\r\n      </g>\r\n     </g>\r\n    </g>\r\n    <g id=\"xtick_5\">\r\n     <g id=\"line2d_9\">\r\n      <path clip-path=\"url(#pe528fc36c9)\" d=\"M 243.272368 224.64 \r\nL 243.272368 7.2 \r\n\" style=\"fill:none;stroke:#b0b0b0;stroke-linecap:square;stroke-width:0.8;\"/>\r\n     </g>\r\n     <g id=\"line2d_10\">\r\n      <g>\r\n       <use style=\"stroke:#000000;stroke-width:0.8;\" x=\"243.272368\" xlink:href=\"#m169d9eecd5\" y=\"224.64\"/>\r\n      </g>\r\n     </g>\r\n     <g id=\"text_5\">\r\n      <!-- 12.5 -->\r\n      <g transform=\"translate(232.139556 239.238437)scale(0.1 -0.1)\">\r\n       <use xlink:href=\"#DejaVuSans-49\"/>\r\n       <use x=\"63.623047\" xlink:href=\"#DejaVuSans-50\"/>\r\n       <use x=\"127.246094\" xlink:href=\"#DejaVuSans-46\"/>\r\n       <use x=\"159.033203\" xlink:href=\"#DejaVuSans-53\"/>\r\n      </g>\r\n     </g>\r\n    </g>\r\n    <g id=\"xtick_6\">\r\n     <g id=\"line2d_11\">\r\n      <path clip-path=\"url(#pe528fc36c9)\" d=\"M 287.769976 224.64 \r\nL 287.769976 7.2 \r\n\" style=\"fill:none;stroke:#b0b0b0;stroke-linecap:square;stroke-width:0.8;\"/>\r\n     </g>\r\n     <g id=\"line2d_12\">\r\n      <g>\r\n       <use style=\"stroke:#000000;stroke-width:0.8;\" x=\"287.769976\" xlink:href=\"#m169d9eecd5\" y=\"224.64\"/>\r\n      </g>\r\n     </g>\r\n     <g id=\"text_6\">\r\n      <!-- 15.0 -->\r\n      <g transform=\"translate(276.637164 239.238437)scale(0.1 -0.1)\">\r\n       <use xlink:href=\"#DejaVuSans-49\"/>\r\n       <use x=\"63.623047\" xlink:href=\"#DejaVuSans-53\"/>\r\n       <use x=\"127.246094\" xlink:href=\"#DejaVuSans-46\"/>\r\n       <use x=\"159.033203\" xlink:href=\"#DejaVuSans-48\"/>\r\n      </g>\r\n     </g>\r\n    </g>\r\n    <g id=\"xtick_7\">\r\n     <g id=\"line2d_13\">\r\n      <path clip-path=\"url(#pe528fc36c9)\" d=\"M 332.267584 224.64 \r\nL 332.267584 7.2 \r\n\" style=\"fill:none;stroke:#b0b0b0;stroke-linecap:square;stroke-width:0.8;\"/>\r\n     </g>\r\n     <g id=\"line2d_14\">\r\n      <g>\r\n       <use style=\"stroke:#000000;stroke-width:0.8;\" x=\"332.267584\" xlink:href=\"#m169d9eecd5\" y=\"224.64\"/>\r\n      </g>\r\n     </g>\r\n     <g id=\"text_7\">\r\n      <!-- 17.5 -->\r\n      <g transform=\"translate(321.134771 239.238437)scale(0.1 -0.1)\">\r\n       <use xlink:href=\"#DejaVuSans-49\"/>\r\n       <use x=\"63.623047\" xlink:href=\"#DejaVuSans-55\"/>\r\n       <use x=\"127.246094\" xlink:href=\"#DejaVuSans-46\"/>\r\n       <use x=\"159.033203\" xlink:href=\"#DejaVuSans-53\"/>\r\n      </g>\r\n     </g>\r\n    </g>\r\n   </g>\r\n   <g id=\"matplotlib.axis_2\">\r\n    <g id=\"ytick_1\">\r\n     <g id=\"line2d_15\">\r\n      <path clip-path=\"url(#pe528fc36c9)\" d=\"M 26.925 224.64 \r\nL 361.725 224.64 \r\n\" style=\"fill:none;stroke:#b0b0b0;stroke-linecap:square;stroke-width:0.8;\"/>\r\n     </g>\r\n     <g id=\"line2d_16\">\r\n      <defs>\r\n       <path d=\"M 0 0 \r\nL -3.5 0 \r\n\" id=\"m57fc6d67f0\" style=\"stroke:#000000;stroke-width:0.8;\"/>\r\n      </defs>\r\n      <g>\r\n       <use style=\"stroke:#000000;stroke-width:0.8;\" x=\"26.925\" xlink:href=\"#m57fc6d67f0\" y=\"224.64\"/>\r\n      </g>\r\n     </g>\r\n     <g id=\"text_8\">\r\n      <!-- 0 -->\r\n      <g transform=\"translate(13.5625 228.439219)scale(0.1 -0.1)\">\r\n       <use xlink:href=\"#DejaVuSans-48\"/>\r\n      </g>\r\n     </g>\r\n    </g>\r\n    <g id=\"ytick_2\">\r\n     <g id=\"line2d_17\">\r\n      <path clip-path=\"url(#pe528fc36c9)\" d=\"M 26.925 190.125714 \r\nL 361.725 190.125714 \r\n\" style=\"fill:none;stroke:#b0b0b0;stroke-linecap:square;stroke-width:0.8;\"/>\r\n     </g>\r\n     <g id=\"line2d_18\">\r\n      <g>\r\n       <use style=\"stroke:#000000;stroke-width:0.8;\" x=\"26.925\" xlink:href=\"#m57fc6d67f0\" y=\"190.125714\"/>\r\n      </g>\r\n     </g>\r\n     <g id=\"text_9\">\r\n      <!-- 5 -->\r\n      <g transform=\"translate(13.5625 193.924933)scale(0.1 -0.1)\">\r\n       <use xlink:href=\"#DejaVuSans-53\"/>\r\n      </g>\r\n     </g>\r\n    </g>\r\n    <g id=\"ytick_3\">\r\n     <g id=\"line2d_19\">\r\n      <path clip-path=\"url(#pe528fc36c9)\" d=\"M 26.925 155.611429 \r\nL 361.725 155.611429 \r\n\" style=\"fill:none;stroke:#b0b0b0;stroke-linecap:square;stroke-width:0.8;\"/>\r\n     </g>\r\n     <g id=\"line2d_20\">\r\n      <g>\r\n       <use style=\"stroke:#000000;stroke-width:0.8;\" x=\"26.925\" xlink:href=\"#m57fc6d67f0\" y=\"155.611429\"/>\r\n      </g>\r\n     </g>\r\n     <g id=\"text_10\">\r\n      <!-- 10 -->\r\n      <g transform=\"translate(7.2 159.410647)scale(0.1 -0.1)\">\r\n       <use xlink:href=\"#DejaVuSans-49\"/>\r\n       <use x=\"63.623047\" xlink:href=\"#DejaVuSans-48\"/>\r\n      </g>\r\n     </g>\r\n    </g>\r\n    <g id=\"ytick_4\">\r\n     <g id=\"line2d_21\">\r\n      <path clip-path=\"url(#pe528fc36c9)\" d=\"M 26.925 121.097143 \r\nL 361.725 121.097143 \r\n\" style=\"fill:none;stroke:#b0b0b0;stroke-linecap:square;stroke-width:0.8;\"/>\r\n     </g>\r\n     <g id=\"line2d_22\">\r\n      <g>\r\n       <use style=\"stroke:#000000;stroke-width:0.8;\" x=\"26.925\" xlink:href=\"#m57fc6d67f0\" y=\"121.097143\"/>\r\n      </g>\r\n     </g>\r\n     <g id=\"text_11\">\r\n      <!-- 15 -->\r\n      <g transform=\"translate(7.2 124.896362)scale(0.1 -0.1)\">\r\n       <use xlink:href=\"#DejaVuSans-49\"/>\r\n       <use x=\"63.623047\" xlink:href=\"#DejaVuSans-53\"/>\r\n      </g>\r\n     </g>\r\n    </g>\r\n    <g id=\"ytick_5\">\r\n     <g id=\"line2d_23\">\r\n      <path clip-path=\"url(#pe528fc36c9)\" d=\"M 26.925 86.582857 \r\nL 361.725 86.582857 \r\n\" style=\"fill:none;stroke:#b0b0b0;stroke-linecap:square;stroke-width:0.8;\"/>\r\n     </g>\r\n     <g id=\"line2d_24\">\r\n      <g>\r\n       <use style=\"stroke:#000000;stroke-width:0.8;\" x=\"26.925\" xlink:href=\"#m57fc6d67f0\" y=\"86.582857\"/>\r\n      </g>\r\n     </g>\r\n     <g id=\"text_12\">\r\n      <!-- 20 -->\r\n      <g transform=\"translate(7.2 90.382076)scale(0.1 -0.1)\">\r\n       <use xlink:href=\"#DejaVuSans-50\"/>\r\n       <use x=\"63.623047\" xlink:href=\"#DejaVuSans-48\"/>\r\n      </g>\r\n     </g>\r\n    </g>\r\n    <g id=\"ytick_6\">\r\n     <g id=\"line2d_25\">\r\n      <path clip-path=\"url(#pe528fc36c9)\" d=\"M 26.925 52.068571 \r\nL 361.725 52.068571 \r\n\" style=\"fill:none;stroke:#b0b0b0;stroke-linecap:square;stroke-width:0.8;\"/>\r\n     </g>\r\n     <g id=\"line2d_26\">\r\n      <g>\r\n       <use style=\"stroke:#000000;stroke-width:0.8;\" x=\"26.925\" xlink:href=\"#m57fc6d67f0\" y=\"52.068571\"/>\r\n      </g>\r\n     </g>\r\n     <g id=\"text_13\">\r\n      <!-- 25 -->\r\n      <g transform=\"translate(7.2 55.86779)scale(0.1 -0.1)\">\r\n       <use xlink:href=\"#DejaVuSans-50\"/>\r\n       <use x=\"63.623047\" xlink:href=\"#DejaVuSans-53\"/>\r\n      </g>\r\n     </g>\r\n    </g>\r\n    <g id=\"ytick_7\">\r\n     <g id=\"line2d_27\">\r\n      <path clip-path=\"url(#pe528fc36c9)\" d=\"M 26.925 17.554286 \r\nL 361.725 17.554286 \r\n\" style=\"fill:none;stroke:#b0b0b0;stroke-linecap:square;stroke-width:0.8;\"/>\r\n     </g>\r\n     <g id=\"line2d_28\">\r\n      <g>\r\n       <use style=\"stroke:#000000;stroke-width:0.8;\" x=\"26.925\" xlink:href=\"#m57fc6d67f0\" y=\"17.554286\"/>\r\n      </g>\r\n     </g>\r\n     <g id=\"text_14\">\r\n      <!-- 30 -->\r\n      <defs>\r\n       <path d=\"M 40.578125 39.3125 \r\nQ 47.65625 37.796875 51.625 33 \r\nQ 55.609375 28.21875 55.609375 21.1875 \r\nQ 55.609375 10.40625 48.1875 4.484375 \r\nQ 40.765625 -1.421875 27.09375 -1.421875 \r\nQ 22.515625 -1.421875 17.65625 -0.515625 \r\nQ 12.796875 0.390625 7.625 2.203125 \r\nL 7.625 11.71875 \r\nQ 11.71875 9.328125 16.59375 8.109375 \r\nQ 21.484375 6.890625 26.8125 6.890625 \r\nQ 36.078125 6.890625 40.9375 10.546875 \r\nQ 45.796875 14.203125 45.796875 21.1875 \r\nQ 45.796875 27.640625 41.28125 31.265625 \r\nQ 36.765625 34.90625 28.71875 34.90625 \r\nL 20.21875 34.90625 \r\nL 20.21875 43.015625 \r\nL 29.109375 43.015625 \r\nQ 36.375 43.015625 40.234375 45.921875 \r\nQ 44.09375 48.828125 44.09375 54.296875 \r\nQ 44.09375 59.90625 40.109375 62.90625 \r\nQ 36.140625 65.921875 28.71875 65.921875 \r\nQ 24.65625 65.921875 20.015625 65.03125 \r\nQ 15.375 64.15625 9.8125 62.3125 \r\nL 9.8125 71.09375 \r\nQ 15.4375 72.65625 20.34375 73.4375 \r\nQ 25.25 74.21875 29.59375 74.21875 \r\nQ 40.828125 74.21875 47.359375 69.109375 \r\nQ 53.90625 64.015625 53.90625 55.328125 \r\nQ 53.90625 49.265625 50.4375 45.09375 \r\nQ 46.96875 40.921875 40.578125 39.3125 \r\nz\r\n\" id=\"DejaVuSans-51\"/>\r\n      </defs>\r\n      <g transform=\"translate(7.2 21.353504)scale(0.1 -0.1)\">\r\n       <use xlink:href=\"#DejaVuSans-51\"/>\r\n       <use x=\"63.623047\" xlink:href=\"#DejaVuSans-48\"/>\r\n      </g>\r\n     </g>\r\n    </g>\r\n   </g>\r\n   <g id=\"patch_13\">\r\n    <path d=\"M 26.925 224.64 \r\nL 26.925 7.2 \r\n\" style=\"fill:none;stroke:#000000;stroke-linecap:square;stroke-linejoin:miter;stroke-width:0.8;\"/>\r\n   </g>\r\n   <g id=\"patch_14\">\r\n    <path d=\"M 361.725 224.64 \r\nL 361.725 7.2 \r\n\" style=\"fill:none;stroke:#000000;stroke-linecap:square;stroke-linejoin:miter;stroke-width:0.8;\"/>\r\n   </g>\r\n   <g id=\"patch_15\">\r\n    <path d=\"M 26.925 224.64 \r\nL 361.725 224.64 \r\n\" style=\"fill:none;stroke:#000000;stroke-linecap:square;stroke-linejoin:miter;stroke-width:0.8;\"/>\r\n   </g>\r\n   <g id=\"patch_16\">\r\n    <path d=\"M 26.925 7.2 \r\nL 361.725 7.2 \r\n\" style=\"fill:none;stroke:#000000;stroke-linecap:square;stroke-linejoin:miter;stroke-width:0.8;\"/>\r\n   </g>\r\n  </g>\r\n </g>\r\n <defs>\r\n  <clipPath id=\"pe528fc36c9\">\r\n   <rect height=\"217.44\" width=\"334.8\" x=\"26.925\" y=\"7.2\"/>\r\n  </clipPath>\r\n </defs>\r\n</svg>\r\n",
      "image/png": "[encoded data removed]"
     },
     "metadata": {
      "needs_background": "light"
     }
    }
   ],
   "source": [
    "mid_df.ptPerMil.hist()"
   ]
  },
  {
   "cell_type": "code",
   "execution_count": 37,
   "metadata": {},
   "outputs": [
    {
     "output_type": "execute_result",
     "data": {
      "text/plain": [
       "        web_name team selected_by_percent  now_cost  minutes  goals_scored  \\\n",
       "601       Soucek  WHU                18.5        53     1890             7   \n",
       "297     Harrison  LEE                 2.1        54     1579             5   \n",
       "45      Grealish  AVL                38.9        77     1707             6   \n",
       "629         Neto  WOL                 8.1        58     1711             4   \n",
       "22          Saka  ARS                10.8        54     1503             5   \n",
       "522          Son  TOT                58.5        98     1706            12   \n",
       "491  Ward-Prowse  SOU                 9.0        61     1800             4   \n",
       "355     Gündogan  MCI                18.7        58     1125             7   \n",
       "179         Zaha  CRY                15.1        72     1610             9   \n",
       "598        Bowen  WHU                 2.6        62     1620             5   \n",
       "\n",
       "     assists  bps  clean_sheets  form  total_points  direct_freekicks_order  \\\n",
       "601        1  333             7   5.0            97                     NaN   \n",
       "297        4  286             6   6.0            85                     3.0   \n",
       "45        11  457            10   5.5           119                     4.0   \n",
       "629        5  351             6   2.6            88                     4.0   \n",
       "22         3  285             6   6.6            81                     6.0   \n",
       "522        6  458             8   2.8           143                     6.0   \n",
       "491        5  412             8   3.5            87                     1.0   \n",
       "355        0  320             9   7.8            83                     4.0   \n",
       "179        3  250             4   3.0           101                     NaN   \n",
       "598        3  265             6   4.2            85                     NaN   \n",
       "\n",
       "     penalties_order position  ptPerMil  formPerMil  net_transfers  \\\n",
       "601              NaN      MID      18.3         0.9        1063142   \n",
       "297              NaN      MID      15.7         1.1          58513   \n",
       "45               2.0      MID      15.5         0.7        2034054   \n",
       "629              NaN      MID      15.2         0.4         532650   \n",
       "22               NaN      MID      15.0         1.2         308566   \n",
       "522              2.0      MID      14.6         0.3        2140120   \n",
       "491              2.0      MID      14.3         0.6         327661   \n",
       "355              2.0      MID      14.3         1.3        1420918   \n",
       "179              3.0      MID      14.0         0.4         237738   \n",
       "598              NaN      MID      13.7         0.7          46123   \n",
       "\n",
       "     net_transfers_event  \n",
       "601                18294  \n",
       "297                 7847  \n",
       "45                 90060  \n",
       "629               -55147  \n",
       "22                -85698  \n",
       "522               -99858  \n",
       "491               -34050  \n",
       "355                41643  \n",
       "179                17927  \n",
       "598                -6271  "
      ],
      "text/html": "<div>\n<style scoped>\n    .dataframe tbody tr th:only-of-type {\n        vertical-align: middle;\n    }\n\n    .dataframe tbody tr th {\n        vertical-align: top;\n    }\n\n    .dataframe thead th {\n        text-align: right;\n    }\n</style>\n<table border=\"1\" class=\"dataframe\">\n  <thead>\n    <tr style=\"text-align: right;\">\n      <th></th>\n      <th>web_name</th>\n      <th>team</th>\n      <th>selected_by_percent</th>\n      <th>now_cost</th>\n      <th>minutes</th>\n      <th>goals_scored</th>\n      <th>assists</th>\n      <th>bps</th>\n      <th>clean_sheets</th>\n      <th>form</th>\n      <th>total_points</th>\n      <th>direct_freekicks_order</th>\n      <th>penalties_order</th>\n      <th>position</th>\n      <th>ptPerMil</th>\n      <th>formPerMil</th>\n      <th>net_transfers</th>\n      <th>net_transfers_event</th>\n    </tr>\n  </thead>\n  <tbody>\n    <tr>\n      <td>601</td>\n      <td>Soucek</td>\n      <td>WHU</td>\n      <td>18.5</td>\n      <td>53</td>\n      <td>1890</td>\n      <td>7</td>\n      <td>1</td>\n      <td>333</td>\n      <td>7</td>\n      <td>5.0</td>\n      <td>97</td>\n      <td>NaN</td>\n      <td>NaN</td>\n      <td>MID</td>\n      <td>18.3</td>\n      <td>0.9</td>\n      <td>1063142</td>\n      <td>18294</td>\n    </tr>\n    <tr>\n      <td>297</td>\n      <td>Harrison</td>\n      <td>LEE</td>\n      <td>2.1</td>\n      <td>54</td>\n      <td>1579</td>\n      <td>5</td>\n      <td>4</td>\n      <td>286</td>\n      <td>6</td>\n      <td>6.0</td>\n      <td>85</td>\n      <td>3.0</td>\n      <td>NaN</td>\n      <td>MID</td>\n      <td>15.7</td>\n      <td>1.1</td>\n      <td>58513</td>\n      <td>7847</td>\n    </tr>\n    <tr>\n      <td>45</td>\n      <td>Grealish</td>\n      <td>AVL</td>\n      <td>38.9</td>\n      <td>77</td>\n      <td>1707</td>\n      <td>6</td>\n      <td>11</td>\n      <td>457</td>\n      <td>10</td>\n      <td>5.5</td>\n      <td>119</td>\n      <td>4.0</td>\n      <td>2.0</td>\n      <td>MID</td>\n      <td>15.5</td>\n      <td>0.7</td>\n      <td>2034054</td>\n      <td>90060</td>\n    </tr>\n    <tr>\n      <td>629</td>\n      <td>Neto</td>\n      <td>WOL</td>\n      <td>8.1</td>\n      <td>58</td>\n      <td>1711</td>\n      <td>4</td>\n      <td>5</td>\n      <td>351</td>\n      <td>6</td>\n      <td>2.6</td>\n      <td>88</td>\n      <td>4.0</td>\n      <td>NaN</td>\n      <td>MID</td>\n      <td>15.2</td>\n      <td>0.4</td>\n      <td>532650</td>\n      <td>-55147</td>\n    </tr>\n    <tr>\n      <td>22</td>\n      <td>Saka</td>\n      <td>ARS</td>\n      <td>10.8</td>\n      <td>54</td>\n      <td>1503</td>\n      <td>5</td>\n      <td>3</td>\n      <td>285</td>\n      <td>6</td>\n      <td>6.6</td>\n      <td>81</td>\n      <td>6.0</td>\n      <td>NaN</td>\n      <td>MID</td>\n      <td>15.0</td>\n      <td>1.2</td>\n      <td>308566</td>\n      <td>-85698</td>\n    </tr>\n    <tr>\n      <td>522</td>\n      <td>Son</td>\n      <td>TOT</td>\n      <td>58.5</td>\n      <td>98</td>\n      <td>1706</td>\n      <td>12</td>\n      <td>6</td>\n      <td>458</td>\n      <td>8</td>\n      <td>2.8</td>\n      <td>143</td>\n      <td>6.0</td>\n      <td>2.0</td>\n      <td>MID</td>\n      <td>14.6</td>\n      <td>0.3</td>\n      <td>2140120</td>\n      <td>-99858</td>\n    </tr>\n    <tr>\n      <td>491</td>\n      <td>Ward-Prowse</td>\n      <td>SOU</td>\n      <td>9.0</td>\n      <td>61</td>\n      <td>1800</td>\n      <td>4</td>\n      <td>5</td>\n      <td>412</td>\n      <td>8</td>\n      <td>3.5</td>\n      <td>87</td>\n      <td>1.0</td>\n      <td>2.0</td>\n      <td>MID</td>\n      <td>14.3</td>\n      <td>0.6</td>\n      <td>327661</td>\n      <td>-34050</td>\n    </tr>\n    <tr>\n      <td>355</td>\n      <td>Gündogan</td>\n      <td>MCI</td>\n      <td>18.7</td>\n      <td>58</td>\n      <td>1125</td>\n      <td>7</td>\n      <td>0</td>\n      <td>320</td>\n      <td>9</td>\n      <td>7.8</td>\n      <td>83</td>\n      <td>4.0</td>\n      <td>2.0</td>\n      <td>MID</td>\n      <td>14.3</td>\n      <td>1.3</td>\n      <td>1420918</td>\n      <td>41643</td>\n    </tr>\n    <tr>\n      <td>179</td>\n      <td>Zaha</td>\n      <td>CRY</td>\n      <td>15.1</td>\n      <td>72</td>\n      <td>1610</td>\n      <td>9</td>\n      <td>3</td>\n      <td>250</td>\n      <td>4</td>\n      <td>3.0</td>\n      <td>101</td>\n      <td>NaN</td>\n      <td>3.0</td>\n      <td>MID</td>\n      <td>14.0</td>\n      <td>0.4</td>\n      <td>237738</td>\n      <td>17927</td>\n    </tr>\n    <tr>\n      <td>598</td>\n      <td>Bowen</td>\n      <td>WHU</td>\n      <td>2.6</td>\n      <td>62</td>\n      <td>1620</td>\n      <td>5</td>\n      <td>3</td>\n      <td>265</td>\n      <td>6</td>\n      <td>4.2</td>\n      <td>85</td>\n      <td>NaN</td>\n      <td>NaN</td>\n      <td>MID</td>\n      <td>13.7</td>\n      <td>0.7</td>\n      <td>46123</td>\n      <td>-6271</td>\n    </tr>\n  </tbody>\n</table>\n</div>"
     },
     "metadata": {},
     "execution_count": 37
    }
   ],
   "source": [
    "mid_df.sort_values('ptPerMil',ascending=False).head(10)"
   ]
  },
  {
   "cell_type": "code",
   "execution_count": 38,
   "metadata": {},
   "outputs": [
    {
     "output_type": "execute_result",
     "data": {
      "text/plain": [
       "<matplotlib.axes._subplots.AxesSubplot at 0x1f4cfd56788>"
      ]
     },
     "metadata": {},
     "execution_count": 38
    },
    {
     "output_type": "display_data",
     "data": {
      "text/plain": "<Figure size 432x288 with 1 Axes>",
      "image/svg+xml": "<?xml version=\"1.0\" encoding=\"utf-8\" standalone=\"no\"?>\r\n<!DOCTYPE svg PUBLIC \"-//W3C//DTD SVG 1.1//EN\"\r\n  \"http://www.w3.org/Graphics/SVG/1.1/DTD/svg11.dtd\">\r\n<!-- Created with matplotlib (https://matplotlib.org/) -->\r\n<svg height=\"248.518125pt\" version=\"1.1\" viewBox=\"0 0 368.925 248.518125\" width=\"368.925pt\" xmlns=\"http://www.w3.org/2000/svg\" xmlns:xlink=\"http://www.w3.org/1999/xlink\">\r\n <defs>\r\n  <style type=\"text/css\">\r\n*{stroke-linecap:butt;stroke-linejoin:round;}\r\n  </style>\r\n </defs>\r\n <g id=\"figure_1\">\r\n  <g id=\"patch_1\">\r\n   <path d=\"M -0 248.518125 \r\nL 368.925 248.518125 \r\nL 368.925 0 \r\nL -0 0 \r\nz\r\n\" style=\"fill:none;\"/>\r\n  </g>\r\n  <g id=\"axes_1\">\r\n   <g id=\"patch_2\">\r\n    <path d=\"M 26.925 224.64 \r\nL 361.725 224.64 \r\nL 361.725 7.2 \r\nL 26.925 7.2 \r\nz\r\n\" style=\"fill:#ffffff;\"/>\r\n   </g>\r\n   <g id=\"patch_3\">\r\n    <path clip-path=\"url(#p781643dca4)\" d=\"M 42.143182 224.64 \r\nL 72.579545 224.64 \r\nL 72.579545 138.354286 \r\nL 42.143182 138.354286 \r\nz\r\n\" style=\"fill:#1f77b4;\"/>\r\n   </g>\r\n   <g id=\"patch_4\">\r\n    <path clip-path=\"url(#p781643dca4)\" d=\"M 72.579545 224.64 \r\nL 103.015909 224.64 \r\nL 103.015909 155.611429 \r\nL 72.579545 155.611429 \r\nz\r\n\" style=\"fill:#1f77b4;\"/>\r\n   </g>\r\n   <g id=\"patch_5\">\r\n    <path clip-path=\"url(#p781643dca4)\" d=\"M 103.015909 224.64 \r\nL 133.452273 224.64 \r\nL 133.452273 17.554286 \r\nL 103.015909 17.554286 \r\nz\r\n\" style=\"fill:#1f77b4;\"/>\r\n   </g>\r\n   <g id=\"patch_6\">\r\n    <path clip-path=\"url(#p781643dca4)\" d=\"M 133.452273 224.64 \r\nL 163.888636 224.64 \r\nL 163.888636 86.582857 \r\nL 133.452273 86.582857 \r\nz\r\n\" style=\"fill:#1f77b4;\"/>\r\n   </g>\r\n   <g id=\"patch_7\">\r\n    <path clip-path=\"url(#p781643dca4)\" d=\"M 163.888636 224.64 \r\nL 194.325 224.64 \r\nL 194.325 103.84 \r\nL 163.888636 103.84 \r\nz\r\n\" style=\"fill:#1f77b4;\"/>\r\n   </g>\r\n   <g id=\"patch_8\">\r\n    <path clip-path=\"url(#p781643dca4)\" d=\"M 194.325 224.64 \r\nL 224.761364 224.64 \r\nL 224.761364 172.868571 \r\nL 194.325 172.868571 \r\nz\r\n\" style=\"fill:#1f77b4;\"/>\r\n   </g>\r\n   <g id=\"patch_9\">\r\n    <path clip-path=\"url(#p781643dca4)\" d=\"M 224.761364 224.64 \r\nL 255.197727 224.64 \r\nL 255.197727 155.611429 \r\nL 224.761364 155.611429 \r\nz\r\n\" style=\"fill:#1f77b4;\"/>\r\n   </g>\r\n   <g id=\"patch_10\">\r\n    <path clip-path=\"url(#p781643dca4)\" d=\"M 255.197727 224.64 \r\nL 285.634091 224.64 \r\nL 285.634091 190.125714 \r\nL 255.197727 190.125714 \r\nz\r\n\" style=\"fill:#1f77b4;\"/>\r\n   </g>\r\n   <g id=\"patch_11\">\r\n    <path clip-path=\"url(#p781643dca4)\" d=\"M 285.634091 224.64 \r\nL 316.070455 224.64 \r\nL 316.070455 224.64 \r\nL 285.634091 224.64 \r\nz\r\n\" style=\"fill:#1f77b4;\"/>\r\n   </g>\r\n   <g id=\"patch_12\">\r\n    <path clip-path=\"url(#p781643dca4)\" d=\"M 316.070455 224.64 \r\nL 346.506818 224.64 \r\nL 346.506818 190.125714 \r\nL 316.070455 190.125714 \r\nz\r\n\" style=\"fill:#1f77b4;\"/>\r\n   </g>\r\n   <g id=\"matplotlib.axis_1\">\r\n    <g id=\"xtick_1\">\r\n     <g id=\"line2d_1\">\r\n      <path clip-path=\"url(#p781643dca4)\" d=\"M 64.013623 224.64 \r\nL 64.013623 7.2 \r\n\" style=\"fill:none;stroke:#b0b0b0;stroke-linecap:square;stroke-width:0.8;\"/>\r\n     </g>\r\n     <g id=\"line2d_2\">\r\n      <defs>\r\n       <path d=\"M 0 0 \r\nL 0 3.5 \r\n\" id=\"m4a603e68e7\" style=\"stroke:#000000;stroke-width:0.8;\"/>\r\n      </defs>\r\n      <g>\r\n       <use style=\"stroke:#000000;stroke-width:0.8;\" x=\"64.013623\" xlink:href=\"#m4a603e68e7\" y=\"224.64\"/>\r\n      </g>\r\n     </g>\r\n     <g id=\"text_1\">\r\n      <!-- 2.5 -->\r\n      <defs>\r\n       <path d=\"M 19.1875 8.296875 \r\nL 53.609375 8.296875 \r\nL 53.609375 0 \r\nL 7.328125 0 \r\nL 7.328125 8.296875 \r\nQ 12.9375 14.109375 22.625 23.890625 \r\nQ 32.328125 33.6875 34.8125 36.53125 \r\nQ 39.546875 41.84375 41.421875 45.53125 \r\nQ 43.3125 49.21875 43.3125 52.78125 \r\nQ 43.3125 58.59375 39.234375 62.25 \r\nQ 35.15625 65.921875 28.609375 65.921875 \r\nQ 23.96875 65.921875 18.8125 64.3125 \r\nQ 13.671875 62.703125 7.8125 59.421875 \r\nL 7.8125 69.390625 \r\nQ 13.765625 71.78125 18.9375 73 \r\nQ 24.125 74.21875 28.421875 74.21875 \r\nQ 39.75 74.21875 46.484375 68.546875 \r\nQ 53.21875 62.890625 53.21875 53.421875 \r\nQ 53.21875 48.921875 51.53125 44.890625 \r\nQ 49.859375 40.875 45.40625 35.40625 \r\nQ 44.1875 33.984375 37.640625 27.21875 \r\nQ 31.109375 20.453125 19.1875 8.296875 \r\nz\r\n\" id=\"DejaVuSans-50\"/>\r\n       <path d=\"M 10.6875 12.40625 \r\nL 21 12.40625 \r\nL 21 0 \r\nL 10.6875 0 \r\nz\r\n\" id=\"DejaVuSans-46\"/>\r\n       <path d=\"M 10.796875 72.90625 \r\nL 49.515625 72.90625 \r\nL 49.515625 64.59375 \r\nL 19.828125 64.59375 \r\nL 19.828125 46.734375 \r\nQ 21.96875 47.46875 24.109375 47.828125 \r\nQ 26.265625 48.1875 28.421875 48.1875 \r\nQ 40.625 48.1875 47.75 41.5 \r\nQ 54.890625 34.8125 54.890625 23.390625 \r\nQ 54.890625 11.625 47.5625 5.09375 \r\nQ 40.234375 -1.421875 26.90625 -1.421875 \r\nQ 22.3125 -1.421875 17.546875 -0.640625 \r\nQ 12.796875 0.140625 7.71875 1.703125 \r\nL 7.71875 11.625 \r\nQ 12.109375 9.234375 16.796875 8.0625 \r\nQ 21.484375 6.890625 26.703125 6.890625 \r\nQ 35.15625 6.890625 40.078125 11.328125 \r\nQ 45.015625 15.765625 45.015625 23.390625 \r\nQ 45.015625 31 40.078125 35.4375 \r\nQ 35.15625 39.890625 26.703125 39.890625 \r\nQ 22.75 39.890625 18.8125 39.015625 \r\nQ 14.890625 38.140625 10.796875 36.28125 \r\nz\r\n\" id=\"DejaVuSans-53\"/>\r\n      </defs>\r\n      <g transform=\"translate(56.06206 239.238437)scale(0.1 -0.1)\">\r\n       <use xlink:href=\"#DejaVuSans-50\"/>\r\n       <use x=\"63.623047\" xlink:href=\"#DejaVuSans-46\"/>\r\n       <use x=\"95.410156\" xlink:href=\"#DejaVuSans-53\"/>\r\n      </g>\r\n     </g>\r\n    </g>\r\n    <g id=\"xtick_2\">\r\n     <g id=\"line2d_3\">\r\n      <path clip-path=\"url(#p781643dca4)\" d=\"M 109.577041 224.64 \r\nL 109.577041 7.2 \r\n\" style=\"fill:none;stroke:#b0b0b0;stroke-linecap:square;stroke-width:0.8;\"/>\r\n     </g>\r\n     <g id=\"line2d_4\">\r\n      <g>\r\n       <use style=\"stroke:#000000;stroke-width:0.8;\" x=\"109.577041\" xlink:href=\"#m4a603e68e7\" y=\"224.64\"/>\r\n      </g>\r\n     </g>\r\n     <g id=\"text_2\">\r\n      <!-- 5.0 -->\r\n      <defs>\r\n       <path d=\"M 31.78125 66.40625 \r\nQ 24.171875 66.40625 20.328125 58.90625 \r\nQ 16.5 51.421875 16.5 36.375 \r\nQ 16.5 21.390625 20.328125 13.890625 \r\nQ 24.171875 6.390625 31.78125 6.390625 \r\nQ 39.453125 6.390625 43.28125 13.890625 \r\nQ 47.125 21.390625 47.125 36.375 \r\nQ 47.125 51.421875 43.28125 58.90625 \r\nQ 39.453125 66.40625 31.78125 66.40625 \r\nz\r\nM 31.78125 74.21875 \r\nQ 44.046875 74.21875 50.515625 64.515625 \r\nQ 56.984375 54.828125 56.984375 36.375 \r\nQ 56.984375 17.96875 50.515625 8.265625 \r\nQ 44.046875 -1.421875 31.78125 -1.421875 \r\nQ 19.53125 -1.421875 13.0625 8.265625 \r\nQ 6.59375 17.96875 6.59375 36.375 \r\nQ 6.59375 54.828125 13.0625 64.515625 \r\nQ 19.53125 74.21875 31.78125 74.21875 \r\nz\r\n\" id=\"DejaVuSans-48\"/>\r\n      </defs>\r\n      <g transform=\"translate(101.625479 239.238437)scale(0.1 -0.1)\">\r\n       <use xlink:href=\"#DejaVuSans-53\"/>\r\n       <use x=\"63.623047\" xlink:href=\"#DejaVuSans-46\"/>\r\n       <use x=\"95.410156\" xlink:href=\"#DejaVuSans-48\"/>\r\n      </g>\r\n     </g>\r\n    </g>\r\n    <g id=\"xtick_3\">\r\n     <g id=\"line2d_5\">\r\n      <path clip-path=\"url(#p781643dca4)\" d=\"M 155.14046 224.64 \r\nL 155.14046 7.2 \r\n\" style=\"fill:none;stroke:#b0b0b0;stroke-linecap:square;stroke-width:0.8;\"/>\r\n     </g>\r\n     <g id=\"line2d_6\">\r\n      <g>\r\n       <use style=\"stroke:#000000;stroke-width:0.8;\" x=\"155.14046\" xlink:href=\"#m4a603e68e7\" y=\"224.64\"/>\r\n      </g>\r\n     </g>\r\n     <g id=\"text_3\">\r\n      <!-- 7.5 -->\r\n      <defs>\r\n       <path d=\"M 8.203125 72.90625 \r\nL 55.078125 72.90625 \r\nL 55.078125 68.703125 \r\nL 28.609375 0 \r\nL 18.3125 0 \r\nL 43.21875 64.59375 \r\nL 8.203125 64.59375 \r\nz\r\n\" id=\"DejaVuSans-55\"/>\r\n      </defs>\r\n      <g transform=\"translate(147.188897 239.238437)scale(0.1 -0.1)\">\r\n       <use xlink:href=\"#DejaVuSans-55\"/>\r\n       <use x=\"63.623047\" xlink:href=\"#DejaVuSans-46\"/>\r\n       <use x=\"95.410156\" xlink:href=\"#DejaVuSans-53\"/>\r\n      </g>\r\n     </g>\r\n    </g>\r\n    <g id=\"xtick_4\">\r\n     <g id=\"line2d_7\">\r\n      <path clip-path=\"url(#p781643dca4)\" d=\"M 200.703879 224.64 \r\nL 200.703879 7.2 \r\n\" style=\"fill:none;stroke:#b0b0b0;stroke-linecap:square;stroke-width:0.8;\"/>\r\n     </g>\r\n     <g id=\"line2d_8\">\r\n      <g>\r\n       <use style=\"stroke:#000000;stroke-width:0.8;\" x=\"200.703879\" xlink:href=\"#m4a603e68e7\" y=\"224.64\"/>\r\n      </g>\r\n     </g>\r\n     <g id=\"text_4\">\r\n      <!-- 10.0 -->\r\n      <defs>\r\n       <path d=\"M 12.40625 8.296875 \r\nL 28.515625 8.296875 \r\nL 28.515625 63.921875 \r\nL 10.984375 60.40625 \r\nL 10.984375 69.390625 \r\nL 28.421875 72.90625 \r\nL 38.28125 72.90625 \r\nL 38.28125 8.296875 \r\nL 54.390625 8.296875 \r\nL 54.390625 0 \r\nL 12.40625 0 \r\nz\r\n\" id=\"DejaVuSans-49\"/>\r\n      </defs>\r\n      <g transform=\"translate(189.571066 239.238437)scale(0.1 -0.1)\">\r\n       <use xlink:href=\"#DejaVuSans-49\"/>\r\n       <use x=\"63.623047\" xlink:href=\"#DejaVuSans-48\"/>\r\n       <use x=\"127.246094\" xlink:href=\"#DejaVuSans-46\"/>\r\n       <use x=\"159.033203\" xlink:href=\"#DejaVuSans-48\"/>\r\n      </g>\r\n     </g>\r\n    </g>\r\n    <g id=\"xtick_5\">\r\n     <g id=\"line2d_9\">\r\n      <path clip-path=\"url(#p781643dca4)\" d=\"M 246.267297 224.64 \r\nL 246.267297 7.2 \r\n\" style=\"fill:none;stroke:#b0b0b0;stroke-linecap:square;stroke-width:0.8;\"/>\r\n     </g>\r\n     <g id=\"line2d_10\">\r\n      <g>\r\n       <use style=\"stroke:#000000;stroke-width:0.8;\" x=\"246.267297\" xlink:href=\"#m4a603e68e7\" y=\"224.64\"/>\r\n      </g>\r\n     </g>\r\n     <g id=\"text_5\">\r\n      <!-- 12.5 -->\r\n      <g transform=\"translate(235.134485 239.238437)scale(0.1 -0.1)\">\r\n       <use xlink:href=\"#DejaVuSans-49\"/>\r\n       <use x=\"63.623047\" xlink:href=\"#DejaVuSans-50\"/>\r\n       <use x=\"127.246094\" xlink:href=\"#DejaVuSans-46\"/>\r\n       <use x=\"159.033203\" xlink:href=\"#DejaVuSans-53\"/>\r\n      </g>\r\n     </g>\r\n    </g>\r\n    <g id=\"xtick_6\">\r\n     <g id=\"line2d_11\">\r\n      <path clip-path=\"url(#p781643dca4)\" d=\"M 291.830716 224.64 \r\nL 291.830716 7.2 \r\n\" style=\"fill:none;stroke:#b0b0b0;stroke-linecap:square;stroke-width:0.8;\"/>\r\n     </g>\r\n     <g id=\"line2d_12\">\r\n      <g>\r\n       <use style=\"stroke:#000000;stroke-width:0.8;\" x=\"291.830716\" xlink:href=\"#m4a603e68e7\" y=\"224.64\"/>\r\n      </g>\r\n     </g>\r\n     <g id=\"text_6\">\r\n      <!-- 15.0 -->\r\n      <g transform=\"translate(280.697903 239.238437)scale(0.1 -0.1)\">\r\n       <use xlink:href=\"#DejaVuSans-49\"/>\r\n       <use x=\"63.623047\" xlink:href=\"#DejaVuSans-53\"/>\r\n       <use x=\"127.246094\" xlink:href=\"#DejaVuSans-46\"/>\r\n       <use x=\"159.033203\" xlink:href=\"#DejaVuSans-48\"/>\r\n      </g>\r\n     </g>\r\n    </g>\r\n    <g id=\"xtick_7\">\r\n     <g id=\"line2d_13\">\r\n      <path clip-path=\"url(#p781643dca4)\" d=\"M 337.394134 224.64 \r\nL 337.394134 7.2 \r\n\" style=\"fill:none;stroke:#b0b0b0;stroke-linecap:square;stroke-width:0.8;\"/>\r\n     </g>\r\n     <g id=\"line2d_14\">\r\n      <g>\r\n       <use style=\"stroke:#000000;stroke-width:0.8;\" x=\"337.394134\" xlink:href=\"#m4a603e68e7\" y=\"224.64\"/>\r\n      </g>\r\n     </g>\r\n     <g id=\"text_7\">\r\n      <!-- 17.5 -->\r\n      <g transform=\"translate(326.261322 239.238437)scale(0.1 -0.1)\">\r\n       <use xlink:href=\"#DejaVuSans-49\"/>\r\n       <use x=\"63.623047\" xlink:href=\"#DejaVuSans-55\"/>\r\n       <use x=\"127.246094\" xlink:href=\"#DejaVuSans-46\"/>\r\n       <use x=\"159.033203\" xlink:href=\"#DejaVuSans-53\"/>\r\n      </g>\r\n     </g>\r\n    </g>\r\n   </g>\r\n   <g id=\"matplotlib.axis_2\">\r\n    <g id=\"ytick_1\">\r\n     <g id=\"line2d_15\">\r\n      <path clip-path=\"url(#p781643dca4)\" d=\"M 26.925 224.64 \r\nL 361.725 224.64 \r\n\" style=\"fill:none;stroke:#b0b0b0;stroke-linecap:square;stroke-width:0.8;\"/>\r\n     </g>\r\n     <g id=\"line2d_16\">\r\n      <defs>\r\n       <path d=\"M 0 0 \r\nL -3.5 0 \r\n\" id=\"m56b267f71e\" style=\"stroke:#000000;stroke-width:0.8;\"/>\r\n      </defs>\r\n      <g>\r\n       <use style=\"stroke:#000000;stroke-width:0.8;\" x=\"26.925\" xlink:href=\"#m56b267f71e\" y=\"224.64\"/>\r\n      </g>\r\n     </g>\r\n     <g id=\"text_8\">\r\n      <!-- 0 -->\r\n      <g transform=\"translate(13.5625 228.439219)scale(0.1 -0.1)\">\r\n       <use xlink:href=\"#DejaVuSans-48\"/>\r\n      </g>\r\n     </g>\r\n    </g>\r\n    <g id=\"ytick_2\">\r\n     <g id=\"line2d_17\">\r\n      <path clip-path=\"url(#p781643dca4)\" d=\"M 26.925 190.125714 \r\nL 361.725 190.125714 \r\n\" style=\"fill:none;stroke:#b0b0b0;stroke-linecap:square;stroke-width:0.8;\"/>\r\n     </g>\r\n     <g id=\"line2d_18\">\r\n      <g>\r\n       <use style=\"stroke:#000000;stroke-width:0.8;\" x=\"26.925\" xlink:href=\"#m56b267f71e\" y=\"190.125714\"/>\r\n      </g>\r\n     </g>\r\n     <g id=\"text_9\">\r\n      <!-- 2 -->\r\n      <g transform=\"translate(13.5625 193.924933)scale(0.1 -0.1)\">\r\n       <use xlink:href=\"#DejaVuSans-50\"/>\r\n      </g>\r\n     </g>\r\n    </g>\r\n    <g id=\"ytick_3\">\r\n     <g id=\"line2d_19\">\r\n      <path clip-path=\"url(#p781643dca4)\" d=\"M 26.925 155.611429 \r\nL 361.725 155.611429 \r\n\" style=\"fill:none;stroke:#b0b0b0;stroke-linecap:square;stroke-width:0.8;\"/>\r\n     </g>\r\n     <g id=\"line2d_20\">\r\n      <g>\r\n       <use style=\"stroke:#000000;stroke-width:0.8;\" x=\"26.925\" xlink:href=\"#m56b267f71e\" y=\"155.611429\"/>\r\n      </g>\r\n     </g>\r\n     <g id=\"text_10\">\r\n      <!-- 4 -->\r\n      <defs>\r\n       <path d=\"M 37.796875 64.3125 \r\nL 12.890625 25.390625 \r\nL 37.796875 25.390625 \r\nz\r\nM 35.203125 72.90625 \r\nL 47.609375 72.90625 \r\nL 47.609375 25.390625 \r\nL 58.015625 25.390625 \r\nL 58.015625 17.1875 \r\nL 47.609375 17.1875 \r\nL 47.609375 0 \r\nL 37.796875 0 \r\nL 37.796875 17.1875 \r\nL 4.890625 17.1875 \r\nL 4.890625 26.703125 \r\nz\r\n\" id=\"DejaVuSans-52\"/>\r\n      </defs>\r\n      <g transform=\"translate(13.5625 159.410647)scale(0.1 -0.1)\">\r\n       <use xlink:href=\"#DejaVuSans-52\"/>\r\n      </g>\r\n     </g>\r\n    </g>\r\n    <g id=\"ytick_4\">\r\n     <g id=\"line2d_21\">\r\n      <path clip-path=\"url(#p781643dca4)\" d=\"M 26.925 121.097143 \r\nL 361.725 121.097143 \r\n\" style=\"fill:none;stroke:#b0b0b0;stroke-linecap:square;stroke-width:0.8;\"/>\r\n     </g>\r\n     <g id=\"line2d_22\">\r\n      <g>\r\n       <use style=\"stroke:#000000;stroke-width:0.8;\" x=\"26.925\" xlink:href=\"#m56b267f71e\" y=\"121.097143\"/>\r\n      </g>\r\n     </g>\r\n     <g id=\"text_11\">\r\n      <!-- 6 -->\r\n      <defs>\r\n       <path d=\"M 33.015625 40.375 \r\nQ 26.375 40.375 22.484375 35.828125 \r\nQ 18.609375 31.296875 18.609375 23.390625 \r\nQ 18.609375 15.53125 22.484375 10.953125 \r\nQ 26.375 6.390625 33.015625 6.390625 \r\nQ 39.65625 6.390625 43.53125 10.953125 \r\nQ 47.40625 15.53125 47.40625 23.390625 \r\nQ 47.40625 31.296875 43.53125 35.828125 \r\nQ 39.65625 40.375 33.015625 40.375 \r\nz\r\nM 52.59375 71.296875 \r\nL 52.59375 62.3125 \r\nQ 48.875 64.0625 45.09375 64.984375 \r\nQ 41.3125 65.921875 37.59375 65.921875 \r\nQ 27.828125 65.921875 22.671875 59.328125 \r\nQ 17.53125 52.734375 16.796875 39.40625 \r\nQ 19.671875 43.65625 24.015625 45.921875 \r\nQ 28.375 48.1875 33.59375 48.1875 \r\nQ 44.578125 48.1875 50.953125 41.515625 \r\nQ 57.328125 34.859375 57.328125 23.390625 \r\nQ 57.328125 12.15625 50.6875 5.359375 \r\nQ 44.046875 -1.421875 33.015625 -1.421875 \r\nQ 20.359375 -1.421875 13.671875 8.265625 \r\nQ 6.984375 17.96875 6.984375 36.375 \r\nQ 6.984375 53.65625 15.1875 63.9375 \r\nQ 23.390625 74.21875 37.203125 74.21875 \r\nQ 40.921875 74.21875 44.703125 73.484375 \r\nQ 48.484375 72.75 52.59375 71.296875 \r\nz\r\n\" id=\"DejaVuSans-54\"/>\r\n      </defs>\r\n      <g transform=\"translate(13.5625 124.896362)scale(0.1 -0.1)\">\r\n       <use xlink:href=\"#DejaVuSans-54\"/>\r\n      </g>\r\n     </g>\r\n    </g>\r\n    <g id=\"ytick_5\">\r\n     <g id=\"line2d_23\">\r\n      <path clip-path=\"url(#p781643dca4)\" d=\"M 26.925 86.582857 \r\nL 361.725 86.582857 \r\n\" style=\"fill:none;stroke:#b0b0b0;stroke-linecap:square;stroke-width:0.8;\"/>\r\n     </g>\r\n     <g id=\"line2d_24\">\r\n      <g>\r\n       <use style=\"stroke:#000000;stroke-width:0.8;\" x=\"26.925\" xlink:href=\"#m56b267f71e\" y=\"86.582857\"/>\r\n      </g>\r\n     </g>\r\n     <g id=\"text_12\">\r\n      <!-- 8 -->\r\n      <defs>\r\n       <path d=\"M 31.78125 34.625 \r\nQ 24.75 34.625 20.71875 30.859375 \r\nQ 16.703125 27.09375 16.703125 20.515625 \r\nQ 16.703125 13.921875 20.71875 10.15625 \r\nQ 24.75 6.390625 31.78125 6.390625 \r\nQ 38.8125 6.390625 42.859375 10.171875 \r\nQ 46.921875 13.96875 46.921875 20.515625 \r\nQ 46.921875 27.09375 42.890625 30.859375 \r\nQ 38.875 34.625 31.78125 34.625 \r\nz\r\nM 21.921875 38.8125 \r\nQ 15.578125 40.375 12.03125 44.71875 \r\nQ 8.5 49.078125 8.5 55.328125 \r\nQ 8.5 64.0625 14.71875 69.140625 \r\nQ 20.953125 74.21875 31.78125 74.21875 \r\nQ 42.671875 74.21875 48.875 69.140625 \r\nQ 55.078125 64.0625 55.078125 55.328125 \r\nQ 55.078125 49.078125 51.53125 44.71875 \r\nQ 48 40.375 41.703125 38.8125 \r\nQ 48.828125 37.15625 52.796875 32.3125 \r\nQ 56.78125 27.484375 56.78125 20.515625 \r\nQ 56.78125 9.90625 50.3125 4.234375 \r\nQ 43.84375 -1.421875 31.78125 -1.421875 \r\nQ 19.734375 -1.421875 13.25 4.234375 \r\nQ 6.78125 9.90625 6.78125 20.515625 \r\nQ 6.78125 27.484375 10.78125 32.3125 \r\nQ 14.796875 37.15625 21.921875 38.8125 \r\nz\r\nM 18.3125 54.390625 \r\nQ 18.3125 48.734375 21.84375 45.5625 \r\nQ 25.390625 42.390625 31.78125 42.390625 \r\nQ 38.140625 42.390625 41.71875 45.5625 \r\nQ 45.3125 48.734375 45.3125 54.390625 \r\nQ 45.3125 60.0625 41.71875 63.234375 \r\nQ 38.140625 66.40625 31.78125 66.40625 \r\nQ 25.390625 66.40625 21.84375 63.234375 \r\nQ 18.3125 60.0625 18.3125 54.390625 \r\nz\r\n\" id=\"DejaVuSans-56\"/>\r\n      </defs>\r\n      <g transform=\"translate(13.5625 90.382076)scale(0.1 -0.1)\">\r\n       <use xlink:href=\"#DejaVuSans-56\"/>\r\n      </g>\r\n     </g>\r\n    </g>\r\n    <g id=\"ytick_6\">\r\n     <g id=\"line2d_25\">\r\n      <path clip-path=\"url(#p781643dca4)\" d=\"M 26.925 52.068571 \r\nL 361.725 52.068571 \r\n\" style=\"fill:none;stroke:#b0b0b0;stroke-linecap:square;stroke-width:0.8;\"/>\r\n     </g>\r\n     <g id=\"line2d_26\">\r\n      <g>\r\n       <use style=\"stroke:#000000;stroke-width:0.8;\" x=\"26.925\" xlink:href=\"#m56b267f71e\" y=\"52.068571\"/>\r\n      </g>\r\n     </g>\r\n     <g id=\"text_13\">\r\n      <!-- 10 -->\r\n      <g transform=\"translate(7.2 55.86779)scale(0.1 -0.1)\">\r\n       <use xlink:href=\"#DejaVuSans-49\"/>\r\n       <use x=\"63.623047\" xlink:href=\"#DejaVuSans-48\"/>\r\n      </g>\r\n     </g>\r\n    </g>\r\n    <g id=\"ytick_7\">\r\n     <g id=\"line2d_27\">\r\n      <path clip-path=\"url(#p781643dca4)\" d=\"M 26.925 17.554286 \r\nL 361.725 17.554286 \r\n\" style=\"fill:none;stroke:#b0b0b0;stroke-linecap:square;stroke-width:0.8;\"/>\r\n     </g>\r\n     <g id=\"line2d_28\">\r\n      <g>\r\n       <use style=\"stroke:#000000;stroke-width:0.8;\" x=\"26.925\" xlink:href=\"#m56b267f71e\" y=\"17.554286\"/>\r\n      </g>\r\n     </g>\r\n     <g id=\"text_14\">\r\n      <!-- 12 -->\r\n      <g transform=\"translate(7.2 21.353504)scale(0.1 -0.1)\">\r\n       <use xlink:href=\"#DejaVuSans-49\"/>\r\n       <use x=\"63.623047\" xlink:href=\"#DejaVuSans-50\"/>\r\n      </g>\r\n     </g>\r\n    </g>\r\n   </g>\r\n   <g id=\"patch_13\">\r\n    <path d=\"M 26.925 224.64 \r\nL 26.925 7.2 \r\n\" style=\"fill:none;stroke:#000000;stroke-linecap:square;stroke-linejoin:miter;stroke-width:0.8;\"/>\r\n   </g>\r\n   <g id=\"patch_14\">\r\n    <path d=\"M 361.725 224.64 \r\nL 361.725 7.2 \r\n\" style=\"fill:none;stroke:#000000;stroke-linecap:square;stroke-linejoin:miter;stroke-width:0.8;\"/>\r\n   </g>\r\n   <g id=\"patch_15\">\r\n    <path d=\"M 26.925 224.64 \r\nL 361.725 224.64 \r\n\" style=\"fill:none;stroke:#000000;stroke-linecap:square;stroke-linejoin:miter;stroke-width:0.8;\"/>\r\n   </g>\r\n   <g id=\"patch_16\">\r\n    <path d=\"M 26.925 7.2 \r\nL 361.725 7.2 \r\n\" style=\"fill:none;stroke:#000000;stroke-linecap:square;stroke-linejoin:miter;stroke-width:0.8;\"/>\r\n   </g>\r\n  </g>\r\n </g>\r\n <defs>\r\n  <clipPath id=\"p781643dca4\">\r\n   <rect height=\"217.44\" width=\"334.8\" x=\"26.925\" y=\"7.2\"/>\r\n  </clipPath>\r\n </defs>\r\n</svg>\r\n",
      "image/png": "[encoded data removed]"
     },
     "metadata": {
      "needs_background": "light"
     }
    }
   ],
   "source": [
    "fwd_df.ptPerMil.hist()"
   ]
  },
  {
   "cell_type": "code",
   "execution_count": 39,
   "metadata": {},
   "outputs": [
    {
     "output_type": "execute_result",
     "data": {
      "text/plain": [
       "           web_name team selected_by_percent  now_cost  minutes  goals_scored  \\\n",
       "296         Bamford  LEE                47.3        66     1695            11   \n",
       "447          Wilson  NEW                21.7        67     1687            10   \n",
       "63          Watkins  AVL                17.4        63     1710             8   \n",
       "209   Calvert-Lewin  EVE                38.7        76     1583            11   \n",
       "520            Kane  TOT                24.5       111     1654            12   \n",
       "497           Adams  SOU                 5.0        59     1532             4   \n",
       "80           Maupay  BHA                 3.1        61     1386             7   \n",
       "266           Vardy  LEI                13.9       100     1476            11   \n",
       "454      McGoldrick  SHU                 2.2        52     1208             5   \n",
       "235  Decordova-Reid  FUL                 1.0        53     1259             5   \n",
       "\n",
       "     assists  bps  clean_sheets  form  total_points  direct_freekicks_order  \\\n",
       "296        7  388             6   6.0           119                     NaN   \n",
       "447        5  345             5   4.3           110                     NaN   \n",
       "63         4  273            10   4.0            85                     NaN   \n",
       "209        4  346             5   1.3            99                     NaN   \n",
       "520       11  512             6   4.5           143                     1.0   \n",
       "497        5  241             6   1.2            75                     NaN   \n",
       "80         1  233             5   4.0            72                     NaN   \n",
       "266        8  412             6   1.8           116                     NaN   \n",
       "454        1  195             5   2.8            59                     NaN   \n",
       "235        1  237             5   2.4            56                     NaN   \n",
       "\n",
       "     penalties_order position  ptPerMil  formPerMil  net_transfers  \\\n",
       "296              1.0      FWD      18.0         0.9        2942008   \n",
       "447              1.0      FWD      16.4         0.6         909433   \n",
       "63               3.0      FWD      13.5         0.6        1215721   \n",
       "209              NaN      FWD      13.0         0.2        1816284   \n",
       "520              1.0      FWD      12.9         0.4         414899   \n",
       "497              NaN      FWD      12.7         0.2          36812   \n",
       "80               2.0      FWD      11.8         0.7          48578   \n",
       "266              1.0      FWD      11.6         0.2        -574663   \n",
       "454              NaN      FWD      11.3         0.5          82186   \n",
       "235              NaN      FWD      10.6         0.5          59528   \n",
       "\n",
       "     net_transfers_event  \n",
       "296                35180  \n",
       "447               296582  \n",
       "63                 68890  \n",
       "209                18619  \n",
       "520              -525640  \n",
       "497               -17857  \n",
       "80                 -3917  \n",
       "266               -58504  \n",
       "454                 5107  \n",
       "235                 3686  "
      ],
      "text/html": "<div>\n<style scoped>\n    .dataframe tbody tr th:only-of-type {\n        vertical-align: middle;\n    }\n\n    .dataframe tbody tr th {\n        vertical-align: top;\n    }\n\n    .dataframe thead th {\n        text-align: right;\n    }\n</style>\n<table border=\"1\" class=\"dataframe\">\n  <thead>\n    <tr style=\"text-align: right;\">\n      <th></th>\n      <th>web_name</th>\n      <th>team</th>\n      <th>selected_by_percent</th>\n      <th>now_cost</th>\n      <th>minutes</th>\n      <th>goals_scored</th>\n      <th>assists</th>\n      <th>bps</th>\n      <th>clean_sheets</th>\n      <th>form</th>\n      <th>total_points</th>\n      <th>direct_freekicks_order</th>\n      <th>penalties_order</th>\n      <th>position</th>\n      <th>ptPerMil</th>\n      <th>formPerMil</th>\n      <th>net_transfers</th>\n      <th>net_transfers_event</th>\n    </tr>\n  </thead>\n  <tbody>\n    <tr>\n      <td>296</td>\n      <td>Bamford</td>\n      <td>LEE</td>\n      <td>47.3</td>\n      <td>66</td>\n      <td>1695</td>\n      <td>11</td>\n      <td>7</td>\n      <td>388</td>\n      <td>6</td>\n      <td>6.0</td>\n      <td>119</td>\n      <td>NaN</td>\n      <td>1.0</td>\n      <td>FWD</td>\n      <td>18.0</td>\n      <td>0.9</td>\n      <td>2942008</td>\n      <td>35180</td>\n    </tr>\n    <tr>\n      <td>447</td>\n      <td>Wilson</td>\n      <td>NEW</td>\n      <td>21.7</td>\n      <td>67</td>\n      <td>1687</td>\n      <td>10</td>\n      <td>5</td>\n      <td>345</td>\n      <td>5</td>\n      <td>4.3</td>\n      <td>110</td>\n      <td>NaN</td>\n      <td>1.0</td>\n      <td>FWD</td>\n      <td>16.4</td>\n      <td>0.6</td>\n      <td>909433</td>\n      <td>296582</td>\n    </tr>\n    <tr>\n      <td>63</td>\n      <td>Watkins</td>\n      <td>AVL</td>\n      <td>17.4</td>\n      <td>63</td>\n      <td>1710</td>\n      <td>8</td>\n      <td>4</td>\n      <td>273</td>\n      <td>10</td>\n      <td>4.0</td>\n      <td>85</td>\n      <td>NaN</td>\n      <td>3.0</td>\n      <td>FWD</td>\n      <td>13.5</td>\n      <td>0.6</td>\n      <td>1215721</td>\n      <td>68890</td>\n    </tr>\n    <tr>\n      <td>209</td>\n      <td>Calvert-Lewin</td>\n      <td>EVE</td>\n      <td>38.7</td>\n      <td>76</td>\n      <td>1583</td>\n      <td>11</td>\n      <td>4</td>\n      <td>346</td>\n      <td>5</td>\n      <td>1.3</td>\n      <td>99</td>\n      <td>NaN</td>\n      <td>NaN</td>\n      <td>FWD</td>\n      <td>13.0</td>\n      <td>0.2</td>\n      <td>1816284</td>\n      <td>18619</td>\n    </tr>\n    <tr>\n      <td>520</td>\n      <td>Kane</td>\n      <td>TOT</td>\n      <td>24.5</td>\n      <td>111</td>\n      <td>1654</td>\n      <td>12</td>\n      <td>11</td>\n      <td>512</td>\n      <td>6</td>\n      <td>4.5</td>\n      <td>143</td>\n      <td>1.0</td>\n      <td>1.0</td>\n      <td>FWD</td>\n      <td>12.9</td>\n      <td>0.4</td>\n      <td>414899</td>\n      <td>-525640</td>\n    </tr>\n    <tr>\n      <td>497</td>\n      <td>Adams</td>\n      <td>SOU</td>\n      <td>5.0</td>\n      <td>59</td>\n      <td>1532</td>\n      <td>4</td>\n      <td>5</td>\n      <td>241</td>\n      <td>6</td>\n      <td>1.2</td>\n      <td>75</td>\n      <td>NaN</td>\n      <td>NaN</td>\n      <td>FWD</td>\n      <td>12.7</td>\n      <td>0.2</td>\n      <td>36812</td>\n      <td>-17857</td>\n    </tr>\n    <tr>\n      <td>80</td>\n      <td>Maupay</td>\n      <td>BHA</td>\n      <td>3.1</td>\n      <td>61</td>\n      <td>1386</td>\n      <td>7</td>\n      <td>1</td>\n      <td>233</td>\n      <td>5</td>\n      <td>4.0</td>\n      <td>72</td>\n      <td>NaN</td>\n      <td>2.0</td>\n      <td>FWD</td>\n      <td>11.8</td>\n      <td>0.7</td>\n      <td>48578</td>\n      <td>-3917</td>\n    </tr>\n    <tr>\n      <td>266</td>\n      <td>Vardy</td>\n      <td>LEI</td>\n      <td>13.9</td>\n      <td>100</td>\n      <td>1476</td>\n      <td>11</td>\n      <td>8</td>\n      <td>412</td>\n      <td>6</td>\n      <td>1.8</td>\n      <td>116</td>\n      <td>NaN</td>\n      <td>1.0</td>\n      <td>FWD</td>\n      <td>11.6</td>\n      <td>0.2</td>\n      <td>-574663</td>\n      <td>-58504</td>\n    </tr>\n    <tr>\n      <td>454</td>\n      <td>McGoldrick</td>\n      <td>SHU</td>\n      <td>2.2</td>\n      <td>52</td>\n      <td>1208</td>\n      <td>5</td>\n      <td>1</td>\n      <td>195</td>\n      <td>5</td>\n      <td>2.8</td>\n      <td>59</td>\n      <td>NaN</td>\n      <td>NaN</td>\n      <td>FWD</td>\n      <td>11.3</td>\n      <td>0.5</td>\n      <td>82186</td>\n      <td>5107</td>\n    </tr>\n    <tr>\n      <td>235</td>\n      <td>Decordova-Reid</td>\n      <td>FUL</td>\n      <td>1.0</td>\n      <td>53</td>\n      <td>1259</td>\n      <td>5</td>\n      <td>1</td>\n      <td>237</td>\n      <td>5</td>\n      <td>2.4</td>\n      <td>56</td>\n      <td>NaN</td>\n      <td>NaN</td>\n      <td>FWD</td>\n      <td>10.6</td>\n      <td>0.5</td>\n      <td>59528</td>\n      <td>3686</td>\n    </tr>\n  </tbody>\n</table>\n</div>"
     },
     "metadata": {},
     "execution_count": 39
    }
   ],
   "source": [
    "fwd_df.sort_values('ptPerMil',ascending=False).head(10)"
   ]
  },
  {
   "cell_type": "markdown",
   "metadata": {},
   "source": [
    "# Data by GW"
   ]
  },
  {
   "cell_type": "code",
   "execution_count": 40,
   "metadata": {},
   "outputs": [],
   "source": [
    "pd.options.display.max_columns = None"
   ]
  },
  {
   "cell_type": "code",
   "execution_count": 41,
   "metadata": {},
   "outputs": [
    {
     "output_type": "execute_result",
     "data": {
      "text/plain": [
       "dict_keys(['fixtures', 'history', 'history_past'])"
      ]
     },
     "metadata": {},
     "execution_count": 41
    }
   ],
   "source": [
    "url = f'https://fantasy.premierleague.com/api/element-summary/1/'\n",
    "r = requests.get(url)\n",
    "json = r.json()\n",
    "json.keys()"
   ]
  },
  {
   "cell_type": "code",
   "execution_count": 42,
   "metadata": {},
   "outputs": [],
   "source": [
    "json_fixtures_df = pd.DataFrame(json['fixtures'])\n",
    "json_history_df = pd.DataFrame(json['history'])\n",
    "json_history_past_df = pd.DataFrame(json['history_past'])"
   ]
  },
  {
   "cell_type": "code",
   "execution_count": 43,
   "metadata": {},
   "outputs": [
    {
     "output_type": "execute_result",
     "data": {
      "text/plain": [
       "  season_name  element_code  start_cost  end_cost  total_points  minutes  \\\n",
       "0     2013/14         37605         100        96           137     2141   \n",
       "1     2014/15         37605          90        90           103     1857   \n",
       "2     2015/16         37605          85        92           200     3036   \n",
       "3     2016/17         37605          95        95           167     2841   \n",
       "4     2017/18         37605          95        93           112     2161   \n",
       "\n",
       "   goals_scored  assists  clean_sheets  goals_conceded  own_goals  \\\n",
       "0             5       10            13              23          0   \n",
       "1             4        6             9              16          0   \n",
       "2             6       19            17              31          0   \n",
       "3             8       11            12              30          0   \n",
       "4             4        9             8              36          0   \n",
       "\n",
       "   penalties_saved  penalties_missed  yellow_cards  red_cards  saves  bonus  \\\n",
       "0                0                 0             0          0      0     18   \n",
       "1                0                 0             0          0      0     13   \n",
       "2                0                 0             4          0      0     30   \n",
       "3                0                 0             2          0      0     19   \n",
       "4                0                 0             4          0      0     11   \n",
       "\n",
       "   bps influence creativity threat ict_index  \n",
       "0  162       0.0        0.0    0.0       0.0  \n",
       "1  511       0.0        0.0    0.0       0.0  \n",
       "2  861       0.0        0.0    0.0       0.0  \n",
       "3  729     834.4     1649.3  734.0     322.0  \n",
       "4  506     640.6     1287.5  555.0     248.6  "
      ],
      "text/html": "<div>\n<style scoped>\n    .dataframe tbody tr th:only-of-type {\n        vertical-align: middle;\n    }\n\n    .dataframe tbody tr th {\n        vertical-align: top;\n    }\n\n    .dataframe thead th {\n        text-align: right;\n    }\n</style>\n<table border=\"1\" class=\"dataframe\">\n  <thead>\n    <tr style=\"text-align: right;\">\n      <th></th>\n      <th>season_name</th>\n      <th>element_code</th>\n      <th>start_cost</th>\n      <th>end_cost</th>\n      <th>total_points</th>\n      <th>minutes</th>\n      <th>goals_scored</th>\n      <th>assists</th>\n      <th>clean_sheets</th>\n      <th>goals_conceded</th>\n      <th>own_goals</th>\n      <th>penalties_saved</th>\n      <th>penalties_missed</th>\n      <th>yellow_cards</th>\n      <th>red_cards</th>\n      <th>saves</th>\n      <th>bonus</th>\n      <th>bps</th>\n      <th>influence</th>\n      <th>creativity</th>\n      <th>threat</th>\n      <th>ict_index</th>\n    </tr>\n  </thead>\n  <tbody>\n    <tr>\n      <td>0</td>\n      <td>2013/14</td>\n      <td>37605</td>\n      <td>100</td>\n      <td>96</td>\n      <td>137</td>\n      <td>2141</td>\n      <td>5</td>\n      <td>10</td>\n      <td>13</td>\n      <td>23</td>\n      <td>0</td>\n      <td>0</td>\n      <td>0</td>\n      <td>0</td>\n      <td>0</td>\n      <td>0</td>\n      <td>18</td>\n      <td>162</td>\n      <td>0.0</td>\n      <td>0.0</td>\n      <td>0.0</td>\n      <td>0.0</td>\n    </tr>\n    <tr>\n      <td>1</td>\n      <td>2014/15</td>\n      <td>37605</td>\n      <td>90</td>\n      <td>90</td>\n      <td>103</td>\n      <td>1857</td>\n      <td>4</td>\n      <td>6</td>\n      <td>9</td>\n      <td>16</td>\n      <td>0</td>\n      <td>0</td>\n      <td>0</td>\n      <td>0</td>\n      <td>0</td>\n      <td>0</td>\n      <td>13</td>\n      <td>511</td>\n      <td>0.0</td>\n      <td>0.0</td>\n      <td>0.0</td>\n      <td>0.0</td>\n    </tr>\n    <tr>\n      <td>2</td>\n      <td>2015/16</td>\n      <td>37605</td>\n      <td>85</td>\n      <td>92</td>\n      <td>200</td>\n      <td>3036</td>\n      <td>6</td>\n      <td>19</td>\n      <td>17</td>\n      <td>31</td>\n      <td>0</td>\n      <td>0</td>\n      <td>0</td>\n      <td>4</td>\n      <td>0</td>\n      <td>0</td>\n      <td>30</td>\n      <td>861</td>\n      <td>0.0</td>\n      <td>0.0</td>\n      <td>0.0</td>\n      <td>0.0</td>\n    </tr>\n    <tr>\n      <td>3</td>\n      <td>2016/17</td>\n      <td>37605</td>\n      <td>95</td>\n      <td>95</td>\n      <td>167</td>\n      <td>2841</td>\n      <td>8</td>\n      <td>11</td>\n      <td>12</td>\n      <td>30</td>\n      <td>0</td>\n      <td>0</td>\n      <td>0</td>\n      <td>2</td>\n      <td>0</td>\n      <td>0</td>\n      <td>19</td>\n      <td>729</td>\n      <td>834.4</td>\n      <td>1649.3</td>\n      <td>734.0</td>\n      <td>322.0</td>\n    </tr>\n    <tr>\n      <td>4</td>\n      <td>2017/18</td>\n      <td>37605</td>\n      <td>95</td>\n      <td>93</td>\n      <td>112</td>\n      <td>2161</td>\n      <td>4</td>\n      <td>9</td>\n      <td>8</td>\n      <td>36</td>\n      <td>0</td>\n      <td>0</td>\n      <td>0</td>\n      <td>4</td>\n      <td>0</td>\n      <td>0</td>\n      <td>11</td>\n      <td>506</td>\n      <td>640.6</td>\n      <td>1287.5</td>\n      <td>555.0</td>\n      <td>248.6</td>\n    </tr>\n  </tbody>\n</table>\n</div>"
     },
     "metadata": {},
     "execution_count": 43
    }
   ],
   "source": [
    "json_history_past_df.head()"
   ]
  },
  {
   "cell_type": "code",
   "execution_count": 44,
   "metadata": {
    "scrolled": false
   },
   "outputs": [
    {
     "output_type": "execute_result",
     "data": {
      "text/plain": [
       "   element  fixture  opponent_team  total_points  was_home  \\\n",
       "0        1        2              8             0     False   \n",
       "1        1        9             19             0      True   \n",
       "2        1       23             11             0     False   \n",
       "3        1       29             15             0      True   \n",
       "4        1       44             12             0     False   \n",
       "\n",
       "           kickoff_time  team_h_score  team_a_score  round  minutes  \\\n",
       "0  2020-09-12T11:30:00Z             0             3      1        0   \n",
       "1  2020-09-19T19:00:00Z             2             1      2        0   \n",
       "2  2020-09-28T19:00:00Z             3             1      3        0   \n",
       "3  2020-10-04T13:00:00Z             2             1      4        0   \n",
       "4  2020-10-17T16:30:00Z             1             0      5        0   \n",
       "\n",
       "   goals_scored  assists  clean_sheets  goals_conceded  own_goals  \\\n",
       "0             0        0             0               0          0   \n",
       "1             0        0             0               0          0   \n",
       "2             0        0             0               0          0   \n",
       "3             0        0             0               0          0   \n",
       "4             0        0             0               0          0   \n",
       "\n",
       "   penalties_saved  penalties_missed  yellow_cards  red_cards  saves  bonus  \\\n",
       "0                0                 0             0          0      0      0   \n",
       "1                0                 0             0          0      0      0   \n",
       "2                0                 0             0          0      0      0   \n",
       "3                0                 0             0          0      0      0   \n",
       "4                0                 0             0          0      0      0   \n",
       "\n",
       "   bps influence creativity threat ict_index  value  transfers_balance  \\\n",
       "0    0       0.0        0.0    0.0       0.0     70                  0   \n",
       "1    0       0.0        0.0    0.0       0.0     69             -16828   \n",
       "2    0       0.0        0.0    0.0       0.0     69             -11451   \n",
       "3    0       0.0        0.0    0.0       0.0     68              -5324   \n",
       "4    0       0.0        0.0    0.0       0.0     68              -4224   \n",
       "\n",
       "   selected  transfers_in  transfers_out  \n",
       "0     76656             0              0  \n",
       "1     68335           995          17823  \n",
       "2     59793           675          12126  \n",
       "3     56403           647           5971  \n",
       "4     53689           616           4840  "
      ],
      "text/html": "<div>\n<style scoped>\n    .dataframe tbody tr th:only-of-type {\n        vertical-align: middle;\n    }\n\n    .dataframe tbody tr th {\n        vertical-align: top;\n    }\n\n    .dataframe thead th {\n        text-align: right;\n    }\n</style>\n<table border=\"1\" class=\"dataframe\">\n  <thead>\n    <tr style=\"text-align: right;\">\n      <th></th>\n      <th>element</th>\n      <th>fixture</th>\n      <th>opponent_team</th>\n      <th>total_points</th>\n      <th>was_home</th>\n      <th>kickoff_time</th>\n      <th>team_h_score</th>\n      <th>team_a_score</th>\n      <th>round</th>\n      <th>minutes</th>\n      <th>goals_scored</th>\n      <th>assists</th>\n      <th>clean_sheets</th>\n      <th>goals_conceded</th>\n      <th>own_goals</th>\n      <th>penalties_saved</th>\n      <th>penalties_missed</th>\n      <th>yellow_cards</th>\n      <th>red_cards</th>\n      <th>saves</th>\n      <th>bonus</th>\n      <th>bps</th>\n      <th>influence</th>\n      <th>creativity</th>\n      <th>threat</th>\n      <th>ict_index</th>\n      <th>value</th>\n      <th>transfers_balance</th>\n      <th>selected</th>\n      <th>transfers_in</th>\n      <th>transfers_out</th>\n    </tr>\n  </thead>\n  <tbody>\n    <tr>\n      <td>0</td>\n      <td>1</td>\n      <td>2</td>\n      <td>8</td>\n      <td>0</td>\n      <td>False</td>\n      <td>2020-09-12T11:30:00Z</td>\n      <td>0</td>\n      <td>3</td>\n      <td>1</td>\n      <td>0</td>\n      <td>0</td>\n      <td>0</td>\n      <td>0</td>\n      <td>0</td>\n      <td>0</td>\n      <td>0</td>\n      <td>0</td>\n      <td>0</td>\n      <td>0</td>\n      <td>0</td>\n      <td>0</td>\n      <td>0</td>\n      <td>0.0</td>\n      <td>0.0</td>\n      <td>0.0</td>\n      <td>0.0</td>\n      <td>70</td>\n      <td>0</td>\n      <td>76656</td>\n      <td>0</td>\n      <td>0</td>\n    </tr>\n    <tr>\n      <td>1</td>\n      <td>1</td>\n      <td>9</td>\n      <td>19</td>\n      <td>0</td>\n      <td>True</td>\n      <td>2020-09-19T19:00:00Z</td>\n      <td>2</td>\n      <td>1</td>\n      <td>2</td>\n      <td>0</td>\n      <td>0</td>\n      <td>0</td>\n      <td>0</td>\n      <td>0</td>\n      <td>0</td>\n      <td>0</td>\n      <td>0</td>\n      <td>0</td>\n      <td>0</td>\n      <td>0</td>\n      <td>0</td>\n      <td>0</td>\n      <td>0.0</td>\n      <td>0.0</td>\n      <td>0.0</td>\n      <td>0.0</td>\n      <td>69</td>\n      <td>-16828</td>\n      <td>68335</td>\n      <td>995</td>\n      <td>17823</td>\n    </tr>\n    <tr>\n      <td>2</td>\n      <td>1</td>\n      <td>23</td>\n      <td>11</td>\n      <td>0</td>\n      <td>False</td>\n      <td>2020-09-28T19:00:00Z</td>\n      <td>3</td>\n      <td>1</td>\n      <td>3</td>\n      <td>0</td>\n      <td>0</td>\n      <td>0</td>\n      <td>0</td>\n      <td>0</td>\n      <td>0</td>\n      <td>0</td>\n      <td>0</td>\n      <td>0</td>\n      <td>0</td>\n      <td>0</td>\n      <td>0</td>\n      <td>0</td>\n      <td>0.0</td>\n      <td>0.0</td>\n      <td>0.0</td>\n      <td>0.0</td>\n      <td>69</td>\n      <td>-11451</td>\n      <td>59793</td>\n      <td>675</td>\n      <td>12126</td>\n    </tr>\n    <tr>\n      <td>3</td>\n      <td>1</td>\n      <td>29</td>\n      <td>15</td>\n      <td>0</td>\n      <td>True</td>\n      <td>2020-10-04T13:00:00Z</td>\n      <td>2</td>\n      <td>1</td>\n      <td>4</td>\n      <td>0</td>\n      <td>0</td>\n      <td>0</td>\n      <td>0</td>\n      <td>0</td>\n      <td>0</td>\n      <td>0</td>\n      <td>0</td>\n      <td>0</td>\n      <td>0</td>\n      <td>0</td>\n      <td>0</td>\n      <td>0</td>\n      <td>0.0</td>\n      <td>0.0</td>\n      <td>0.0</td>\n      <td>0.0</td>\n      <td>68</td>\n      <td>-5324</td>\n      <td>56403</td>\n      <td>647</td>\n      <td>5971</td>\n    </tr>\n    <tr>\n      <td>4</td>\n      <td>1</td>\n      <td>44</td>\n      <td>12</td>\n      <td>0</td>\n      <td>False</td>\n      <td>2020-10-17T16:30:00Z</td>\n      <td>1</td>\n      <td>0</td>\n      <td>5</td>\n      <td>0</td>\n      <td>0</td>\n      <td>0</td>\n      <td>0</td>\n      <td>0</td>\n      <td>0</td>\n      <td>0</td>\n      <td>0</td>\n      <td>0</td>\n      <td>0</td>\n      <td>0</td>\n      <td>0</td>\n      <td>0</td>\n      <td>0.0</td>\n      <td>0.0</td>\n      <td>0.0</td>\n      <td>0.0</td>\n      <td>68</td>\n      <td>-4224</td>\n      <td>53689</td>\n      <td>616</td>\n      <td>4840</td>\n    </tr>\n  </tbody>\n</table>\n</div>"
     },
     "metadata": {},
     "execution_count": 44
    }
   ],
   "source": [
    "for x in elements_df.index :\n",
    "    element_id = elements_df.id[x]\n",
    "    url = f'https://fantasy.premierleague.com/api/element-summary/{element_id}/'\n",
    "    r = requests.get(url)\n",
    "    json = r.json()\n",
    "    json_history_df = pd.DataFrame(json['history'])\n",
    "    json_history_past_df = pd.DataFrame(json['history_past'])\n",
    "    \n",
    "    if x == 0 :\n",
    "        all_history_df = json_history_df\n",
    "        all_history_past_df = json_history_past_df\n",
    "    else : \n",
    "        all_history_df = all_history_df.append(json_history_df)\n",
    "        all_history_past_df = all_history_past_df.append(json_history_past_df)\n",
    "all_history_df.head()\n"
   ]
  },
  {
   "cell_type": "code",
   "execution_count": 45,
   "metadata": {},
   "outputs": [
    {
     "output_type": "execute_result",
     "data": {
      "text/plain": [
       "  element  fixture  opponent_team  total_points  was_home  \\\n",
       "0    Özil        2         Fulham             0     False   \n",
       "1    Özil        9       West Ham             0      True   \n",
       "2    Özil       23      Liverpool             0     False   \n",
       "3    Özil       29  Sheffield Utd             0      True   \n",
       "4    Özil       44       Man City             0     False   \n",
       "\n",
       "           kickoff_time  team_h_score  team_a_score  round  minutes  \\\n",
       "0  2020-09-12T11:30:00Z             0             3      1        0   \n",
       "1  2020-09-19T19:00:00Z             2             1      2        0   \n",
       "2  2020-09-28T19:00:00Z             3             1      3        0   \n",
       "3  2020-10-04T13:00:00Z             2             1      4        0   \n",
       "4  2020-10-17T16:30:00Z             1             0      5        0   \n",
       "\n",
       "   goals_scored  assists  clean_sheets  goals_conceded  own_goals  \\\n",
       "0             0        0             0               0          0   \n",
       "1             0        0             0               0          0   \n",
       "2             0        0             0               0          0   \n",
       "3             0        0             0               0          0   \n",
       "4             0        0             0               0          0   \n",
       "\n",
       "   penalties_saved  penalties_missed  yellow_cards  red_cards  saves  bonus  \\\n",
       "0                0                 0             0          0      0      0   \n",
       "1                0                 0             0          0      0      0   \n",
       "2                0                 0             0          0      0      0   \n",
       "3                0                 0             0          0      0      0   \n",
       "4                0                 0             0          0      0      0   \n",
       "\n",
       "   bps influence creativity threat ict_index  value  transfers_balance  \\\n",
       "0    0       0.0        0.0    0.0       0.0     70                  0   \n",
       "1    0       0.0        0.0    0.0       0.0     69             -16828   \n",
       "2    0       0.0        0.0    0.0       0.0     69             -11451   \n",
       "3    0       0.0        0.0    0.0       0.0     68              -5324   \n",
       "4    0       0.0        0.0    0.0       0.0     68              -4224   \n",
       "\n",
       "   selected  transfers_in  transfers_out  \n",
       "0     76656             0              0  \n",
       "1     68335           995          17823  \n",
       "2     59793           675          12126  \n",
       "3     56403           647           5971  \n",
       "4     53689           616           4840  "
      ],
      "text/html": "<div>\n<style scoped>\n    .dataframe tbody tr th:only-of-type {\n        vertical-align: middle;\n    }\n\n    .dataframe tbody tr th {\n        vertical-align: top;\n    }\n\n    .dataframe thead th {\n        text-align: right;\n    }\n</style>\n<table border=\"1\" class=\"dataframe\">\n  <thead>\n    <tr style=\"text-align: right;\">\n      <th></th>\n      <th>element</th>\n      <th>fixture</th>\n      <th>opponent_team</th>\n      <th>total_points</th>\n      <th>was_home</th>\n      <th>kickoff_time</th>\n      <th>team_h_score</th>\n      <th>team_a_score</th>\n      <th>round</th>\n      <th>minutes</th>\n      <th>goals_scored</th>\n      <th>assists</th>\n      <th>clean_sheets</th>\n      <th>goals_conceded</th>\n      <th>own_goals</th>\n      <th>penalties_saved</th>\n      <th>penalties_missed</th>\n      <th>yellow_cards</th>\n      <th>red_cards</th>\n      <th>saves</th>\n      <th>bonus</th>\n      <th>bps</th>\n      <th>influence</th>\n      <th>creativity</th>\n      <th>threat</th>\n      <th>ict_index</th>\n      <th>value</th>\n      <th>transfers_balance</th>\n      <th>selected</th>\n      <th>transfers_in</th>\n      <th>transfers_out</th>\n    </tr>\n  </thead>\n  <tbody>\n    <tr>\n      <td>0</td>\n      <td>Özil</td>\n      <td>2</td>\n      <td>Fulham</td>\n      <td>0</td>\n      <td>False</td>\n      <td>2020-09-12T11:30:00Z</td>\n      <td>0</td>\n      <td>3</td>\n      <td>1</td>\n      <td>0</td>\n      <td>0</td>\n      <td>0</td>\n      <td>0</td>\n      <td>0</td>\n      <td>0</td>\n      <td>0</td>\n      <td>0</td>\n      <td>0</td>\n      <td>0</td>\n      <td>0</td>\n      <td>0</td>\n      <td>0</td>\n      <td>0.0</td>\n      <td>0.0</td>\n      <td>0.0</td>\n      <td>0.0</td>\n      <td>70</td>\n      <td>0</td>\n      <td>76656</td>\n      <td>0</td>\n      <td>0</td>\n    </tr>\n    <tr>\n      <td>1</td>\n      <td>Özil</td>\n      <td>9</td>\n      <td>West Ham</td>\n      <td>0</td>\n      <td>True</td>\n      <td>2020-09-19T19:00:00Z</td>\n      <td>2</td>\n      <td>1</td>\n      <td>2</td>\n      <td>0</td>\n      <td>0</td>\n      <td>0</td>\n      <td>0</td>\n      <td>0</td>\n      <td>0</td>\n      <td>0</td>\n      <td>0</td>\n      <td>0</td>\n      <td>0</td>\n      <td>0</td>\n      <td>0</td>\n      <td>0</td>\n      <td>0.0</td>\n      <td>0.0</td>\n      <td>0.0</td>\n      <td>0.0</td>\n      <td>69</td>\n      <td>-16828</td>\n      <td>68335</td>\n      <td>995</td>\n      <td>17823</td>\n    </tr>\n    <tr>\n      <td>2</td>\n      <td>Özil</td>\n      <td>23</td>\n      <td>Liverpool</td>\n      <td>0</td>\n      <td>False</td>\n      <td>2020-09-28T19:00:00Z</td>\n      <td>3</td>\n      <td>1</td>\n      <td>3</td>\n      <td>0</td>\n      <td>0</td>\n      <td>0</td>\n      <td>0</td>\n      <td>0</td>\n      <td>0</td>\n      <td>0</td>\n      <td>0</td>\n      <td>0</td>\n      <td>0</td>\n      <td>0</td>\n      <td>0</td>\n      <td>0</td>\n      <td>0.0</td>\n      <td>0.0</td>\n      <td>0.0</td>\n      <td>0.0</td>\n      <td>69</td>\n      <td>-11451</td>\n      <td>59793</td>\n      <td>675</td>\n      <td>12126</td>\n    </tr>\n    <tr>\n      <td>3</td>\n      <td>Özil</td>\n      <td>29</td>\n      <td>Sheffield Utd</td>\n      <td>0</td>\n      <td>True</td>\n      <td>2020-10-04T13:00:00Z</td>\n      <td>2</td>\n      <td>1</td>\n      <td>4</td>\n      <td>0</td>\n      <td>0</td>\n      <td>0</td>\n      <td>0</td>\n      <td>0</td>\n      <td>0</td>\n      <td>0</td>\n      <td>0</td>\n      <td>0</td>\n      <td>0</td>\n      <td>0</td>\n      <td>0</td>\n      <td>0</td>\n      <td>0.0</td>\n      <td>0.0</td>\n      <td>0.0</td>\n      <td>0.0</td>\n      <td>68</td>\n      <td>-5324</td>\n      <td>56403</td>\n      <td>647</td>\n      <td>5971</td>\n    </tr>\n    <tr>\n      <td>4</td>\n      <td>Özil</td>\n      <td>44</td>\n      <td>Man City</td>\n      <td>0</td>\n      <td>False</td>\n      <td>2020-10-17T16:30:00Z</td>\n      <td>1</td>\n      <td>0</td>\n      <td>5</td>\n      <td>0</td>\n      <td>0</td>\n      <td>0</td>\n      <td>0</td>\n      <td>0</td>\n      <td>0</td>\n      <td>0</td>\n      <td>0</td>\n      <td>0</td>\n      <td>0</td>\n      <td>0</td>\n      <td>0</td>\n      <td>0</td>\n      <td>0.0</td>\n      <td>0.0</td>\n      <td>0.0</td>\n      <td>0.0</td>\n      <td>68</td>\n      <td>-4224</td>\n      <td>53689</td>\n      <td>616</td>\n      <td>4840</td>\n    </tr>\n  </tbody>\n</table>\n</div>"
     },
     "metadata": {},
     "execution_count": 45
    }
   ],
   "source": [
    "all_history_df['element'] = all_history_df.element.map(elements_df.set_index('id').web_name)\n",
    "all_history_df['opponent_team'] = all_history_df.opponent_team.map(teams_df.set_index('id').name)\n",
    "all_history_df.head()"
   ]
  },
  {
   "cell_type": "code",
   "execution_count": null,
   "metadata": {},
   "outputs": [],
   "source": []
  }
 ],
 "metadata": {
  "@webio": {
   "lastCommId": null,
   "lastKernelId": null
  },
  "kernelspec": {
   "display_name": "Python 3",
   "language": "python",
   "name": "python3"
  },
  "language_info": {
   "codemirror_mode": {
    "name": "ipython",
    "version": 3
   },
   "file_extension": ".py",
   "mimetype": "text/x-python",
   "name": "python",
   "nbconvert_exporter": "python",
   "pygments_lexer": "ipython3",
   "version": "3.7.4-final"
  }
 },
 "nbformat": 4,
 "nbformat_minor": 4
}